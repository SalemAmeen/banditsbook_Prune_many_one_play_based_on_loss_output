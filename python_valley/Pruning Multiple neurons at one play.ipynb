{
 "cells": [
  {
   "cell_type": "markdown",
   "metadata": {},
   "source": [
    "Compute the performance of MAB methods of pruning Multiple neurons at one time\n",
    "\n",
    "MAP for choosing multi arms at one time"
   ]
  },
  {
   "cell_type": "code",
   "execution_count": 1,
   "metadata": {
    "collapsed": true
   },
   "outputs": [],
   "source": [
    "import numpy as np\n",
    "import time\n",
    "import sys\n",
    "from numpy import *\n",
    "import matplotlib.pyplot as plt\n",
    "from sklearn import metrics\n",
    "%matplotlib inline\n",
    "#plt.rcParams['figure.figsize'] = (15, 6)"
   ]
  },
  {
   "cell_type": "markdown",
   "metadata": {},
   "source": [
    "# Load Bokeh"
   ]
  },
  {
   "cell_type": "code",
   "execution_count": 2,
   "metadata": {
    "collapsed": false
   },
   "outputs": [
    {
     "data": {
      "text/html": [
       "\n",
       "    <div class=\"bk-root\">\n",
       "        <a href=\"http://bokeh.pydata.org\" target=\"_blank\" class=\"bk-logo bk-logo-small bk-logo-notebook\"></a>\n",
       "        <span id=\"e7358f1a-40fc-421b-be20-34a0c3ff8a35\">Loading BokehJS ...</span>\n",
       "    </div>"
      ]
     },
     "metadata": {},
     "output_type": "display_data"
    },
    {
     "data": {
      "application/javascript": [
       "\n",
       "(function(global) {\n",
       "  function now() {\n",
       "    return new Date();\n",
       "  }\n",
       "\n",
       "  var force = true;\n",
       "\n",
       "  if (typeof (window._bokeh_onload_callbacks) === \"undefined\" || force === true) {\n",
       "    window._bokeh_onload_callbacks = [];\n",
       "    window._bokeh_is_loading = undefined;\n",
       "  }\n",
       "\n",
       "\n",
       "  \n",
       "  if (typeof (window._bokeh_timeout) === \"undefined\" || force === true) {\n",
       "    window._bokeh_timeout = Date.now() + 5000;\n",
       "    window._bokeh_failed_load = false;\n",
       "  }\n",
       "\n",
       "  var NB_LOAD_WARNING = {'data': {'text/html':\n",
       "     \"<div style='background-color: #fdd'>\\n\"+\n",
       "     \"<p>\\n\"+\n",
       "     \"BokehJS does not appear to have successfully loaded. If loading BokehJS from CDN, this \\n\"+\n",
       "     \"may be due to a slow or bad network connection. Possible fixes:\\n\"+\n",
       "     \"</p>\\n\"+\n",
       "     \"<ul>\\n\"+\n",
       "     \"<li>re-rerun `output_notebook()` to attempt to load from CDN again, or</li>\\n\"+\n",
       "     \"<li>use INLINE resources instead, as so:</li>\\n\"+\n",
       "     \"</ul>\\n\"+\n",
       "     \"<code>\\n\"+\n",
       "     \"from bokeh.resources import INLINE\\n\"+\n",
       "     \"output_notebook(resources=INLINE)\\n\"+\n",
       "     \"</code>\\n\"+\n",
       "     \"</div>\"}};\n",
       "\n",
       "  function display_loaded() {\n",
       "    if (window.Bokeh !== undefined) {\n",
       "      document.getElementById(\"e7358f1a-40fc-421b-be20-34a0c3ff8a35\").textContent = \"BokehJS successfully loaded.\";\n",
       "    } else if (Date.now() < window._bokeh_timeout) {\n",
       "      setTimeout(display_loaded, 100)\n",
       "    }\n",
       "  }\n",
       "\n",
       "  function run_callbacks() {\n",
       "    window._bokeh_onload_callbacks.forEach(function(callback) { callback() });\n",
       "    delete window._bokeh_onload_callbacks\n",
       "    console.info(\"Bokeh: all callbacks have finished\");\n",
       "  }\n",
       "\n",
       "  function load_libs(js_urls, callback) {\n",
       "    window._bokeh_onload_callbacks.push(callback);\n",
       "    if (window._bokeh_is_loading > 0) {\n",
       "      console.log(\"Bokeh: BokehJS is being loaded, scheduling callback at\", now());\n",
       "      return null;\n",
       "    }\n",
       "    if (js_urls == null || js_urls.length === 0) {\n",
       "      run_callbacks();\n",
       "      return null;\n",
       "    }\n",
       "    console.log(\"Bokeh: BokehJS not loaded, scheduling load and callback at\", now());\n",
       "    window._bokeh_is_loading = js_urls.length;\n",
       "    for (var i = 0; i < js_urls.length; i++) {\n",
       "      var url = js_urls[i];\n",
       "      var s = document.createElement('script');\n",
       "      s.src = url;\n",
       "      s.async = false;\n",
       "      s.onreadystatechange = s.onload = function() {\n",
       "        window._bokeh_is_loading--;\n",
       "        if (window._bokeh_is_loading === 0) {\n",
       "          console.log(\"Bokeh: all BokehJS libraries loaded\");\n",
       "          run_callbacks()\n",
       "        }\n",
       "      };\n",
       "      s.onerror = function() {\n",
       "        console.warn(\"failed to load library \" + url);\n",
       "      };\n",
       "      console.log(\"Bokeh: injecting script tag for BokehJS library: \", url);\n",
       "      document.getElementsByTagName(\"head\")[0].appendChild(s);\n",
       "    }\n",
       "  };var element = document.getElementById(\"e7358f1a-40fc-421b-be20-34a0c3ff8a35\");\n",
       "  if (element == null) {\n",
       "    console.log(\"Bokeh: ERROR: autoload.js configured with elementid 'e7358f1a-40fc-421b-be20-34a0c3ff8a35' but no matching script tag was found. \")\n",
       "    return false;\n",
       "  }\n",
       "\n",
       "  var js_urls = [\"https://cdn.pydata.org/bokeh/release/bokeh-0.12.4.min.js\", \"https://cdn.pydata.org/bokeh/release/bokeh-widgets-0.12.4.min.js\"];\n",
       "\n",
       "  var inline_js = [\n",
       "    function(Bokeh) {\n",
       "      Bokeh.set_log_level(\"info\");\n",
       "    },\n",
       "    \n",
       "    function(Bokeh) {\n",
       "      \n",
       "      document.getElementById(\"e7358f1a-40fc-421b-be20-34a0c3ff8a35\").textContent = \"BokehJS is loading...\";\n",
       "    },\n",
       "    function(Bokeh) {\n",
       "      console.log(\"Bokeh: injecting CSS: https://cdn.pydata.org/bokeh/release/bokeh-0.12.4.min.css\");\n",
       "      Bokeh.embed.inject_css(\"https://cdn.pydata.org/bokeh/release/bokeh-0.12.4.min.css\");\n",
       "      console.log(\"Bokeh: injecting CSS: https://cdn.pydata.org/bokeh/release/bokeh-widgets-0.12.4.min.css\");\n",
       "      Bokeh.embed.inject_css(\"https://cdn.pydata.org/bokeh/release/bokeh-widgets-0.12.4.min.css\");\n",
       "    }\n",
       "  ];\n",
       "\n",
       "  function run_inline_js() {\n",
       "    \n",
       "    if ((window.Bokeh !== undefined) || (force === true)) {\n",
       "      for (var i = 0; i < inline_js.length; i++) {\n",
       "        inline_js[i](window.Bokeh);\n",
       "      }if (force === true) {\n",
       "        display_loaded();\n",
       "      }} else if (Date.now() < window._bokeh_timeout) {\n",
       "      setTimeout(run_inline_js, 100);\n",
       "    } else if (!window._bokeh_failed_load) {\n",
       "      console.log(\"Bokeh: BokehJS failed to load within specified timeout.\");\n",
       "      window._bokeh_failed_load = true;\n",
       "    } else if (force !== true) {\n",
       "      var cell = $(document.getElementById(\"e7358f1a-40fc-421b-be20-34a0c3ff8a35\")).parents('.cell').data().cell;\n",
       "      cell.output_area.append_execute_result(NB_LOAD_WARNING)\n",
       "    }\n",
       "\n",
       "  }\n",
       "\n",
       "  if (window._bokeh_is_loading === 0) {\n",
       "    console.log(\"Bokeh: BokehJS loaded, going straight to plotting\");\n",
       "    run_inline_js();\n",
       "  } else {\n",
       "    load_libs(js_urls, function() {\n",
       "      console.log(\"Bokeh: BokehJS plotting callback run at\", now());\n",
       "      run_inline_js();\n",
       "    });\n",
       "  }\n",
       "}(this));"
      ]
     },
     "metadata": {},
     "output_type": "display_data"
    }
   ],
   "source": [
    "from bokeh.layouts import row, gridplot\n",
    "from bokeh.plotting import figure, output_notebook, show\n",
    "from bokeh.models import Legend\n",
    "TOOLS = 'box_zoom,box_select,crosshair,resize,reset,lasso_select,pan,save,poly_select,tap,wheel_zoom,undo'\n",
    "output_notebook()"
   ]
  },
  {
   "cell_type": "markdown",
   "metadata": {},
   "source": [
    "# Load the data"
   ]
  },
  {
   "cell_type": "code",
   "execution_count": 3,
   "metadata": {
    "collapsed": false
   },
   "outputs": [
    {
     "name": "stdout",
     "output_type": "stream",
     "text": [
      "Number of training examples 484\n",
      "Number of validation examples 122\n",
      "Number of testing examples 606\n"
     ]
    }
   ],
   "source": [
    "X_train = np.load('./valley/X_train.npy')\n",
    "y_train = np.load('./valley/y_train.npy')\n",
    "X_test = np.load('./valley/X_test.npy')\n",
    "y_test = np.load('./valley/y_test.npy')\n",
    "X_deploy = np.load('./valley/X_deploy.npy')\n",
    "y_deploy = np.load('./valley/y_deploy.npy')\n",
    "print('Number of training examples',len(X_train))\n",
    "print('Number of validation examples',len(X_test))\n",
    "print('Number of testing examples',len(X_deploy))"
   ]
  },
  {
   "cell_type": "code",
   "execution_count": 4,
   "metadata": {
    "collapsed": false
   },
   "outputs": [],
   "source": [
    "exec(open(\"core.py\").read())  # pyhton 3x"
   ]
  },
  {
   "cell_type": "markdown",
   "metadata": {},
   "source": [
    "## Run Thompson Sampling pruning Algorithm"
   ]
  },
  {
   "cell_type": "code",
   "execution_count": 5,
   "metadata": {
    "collapsed": false
   },
   "outputs": [
    {
     "name": "stderr",
     "output_type": "stream",
     "text": [
      "/Library/Frameworks/Python.framework/Versions/3.6/lib/python3.6/site-packages/sklearn/cross_validation.py:44: DeprecationWarning: This module was deprecated in version 0.18 in favor of the model_selection module into which all the refactored classes and functions are moved. Also note that the interface of the new CV iterators are different from that of this module. This module will be removed in 0.20.\n",
      "  \"This module will be removed in 0.20.\", DeprecationWarning)\n",
      "Using Theano backend.\n"
     ]
    },
    {
     "name": "stdout",
     "output_type": "stream",
     "text": [
      "Test fraction correct (NN-Score) = 0.70\n",
      "Test fraction correct (NN-Accuracy) = 0.58\n",
      "The time for running this method is 9.010173320770264 seconds \n",
      "Finsh playing start pruining:\n",
      "Test after pruning= 0.58\n",
      "Test after pruning= 0.58\n",
      "Test after pruning= 0.58\n",
      "Test after pruning= 0.59\n",
      "Test after pruning= 0.58\n",
      "Test after pruning= 0.58\n",
      "Test after pruning= 0.58\n",
      "Test after pruning= 0.58\n",
      "Test after pruning= 0.58\n",
      "Test after pruning= 0.58\n",
      "Test after pruning= 0.58\n",
      "Test after pruning= 0.58\n",
      "Test after pruning= 0.58\n",
      "Test after pruning= 0.58\n",
      "Test after pruning= 0.58\n",
      "Test after pruning= 0.58\n",
      "Test after pruning= 0.58\n",
      "Test after pruning= 0.58\n",
      "Test after pruning= 0.58\n",
      "Test after pruning= 0.58\n",
      "Test after pruning= 0.57\n",
      "Test after pruning= 0.58\n",
      "Test after pruning= 0.58\n",
      "Test after pruning= 0.58\n",
      "Test after pruning= 0.58\n",
      "Test after pruning= 0.58\n",
      "Test after pruning= 0.58\n",
      "Test after pruning= 0.58\n",
      "Test after pruning= 0.58\n",
      "Test after pruning= 0.59\n",
      "Test after pruning= 0.59\n",
      "Test after pruning= 0.59\n",
      "Test after pruning= 0.59\n",
      "Test after pruning= 0.59\n",
      "Test after pruning= 0.55\n",
      "Test after pruning= 0.56\n",
      "Test after pruning= 0.56\n",
      "Test after pruning= 0.56\n",
      "Test after pruning= 0.53\n",
      "Test after pruning= 0.49\n"
     ]
    },
    {
     "data": {
      "image/png": "[encoded data removed]",
      "text/plain": [
       "<matplotlib.figure.Figure at 0x10ed54630>"
      ]
     },
     "metadata": {},
     "output_type": "display_data"
    }
   ],
   "source": [
    "algo = Thompson_Sampling([], [])\n",
    "Alg_name = 'Thompson_Sampling Algorithm'\n",
    "path = './Thompson_Sampling/'\n",
    "sys.path.append(\"./Thompson_Sampling\")\n",
    "exec(open(\"mnist_cnnFORTESTING.py\").read())"
   ]
  },
  {
   "cell_type": "markdown",
   "metadata": {},
   "source": [
    "## Run UCB1 pruning Algorithm"
   ]
  },
  {
   "cell_type": "code",
   "execution_count": 6,
   "metadata": {
    "collapsed": false
   },
   "outputs": [
    {
     "name": "stdout",
     "output_type": "stream",
     "text": [
      "Test fraction correct (NN-Score) = 0.70\n",
      "Test fraction correct (NN-Accuracy) = 0.58\n",
      "The time for running this method is 8.914093971252441 seconds \n",
      "Finsh playing start pruining:\n",
      "Test after pruning= 0.58\n",
      "Test after pruning= 0.58\n",
      "Test after pruning= 0.58\n",
      "Test after pruning= 0.58\n",
      "Test after pruning= 0.58\n",
      "Test after pruning= 0.58\n",
      "Test after pruning= 0.58\n",
      "Test after pruning= 0.58\n",
      "Test after pruning= 0.58\n",
      "Test after pruning= 0.58\n",
      "Test after pruning= 0.58\n",
      "Test after pruning= 0.59\n",
      "Test after pruning= 0.59\n",
      "Test after pruning= 0.58\n",
      "Test after pruning= 0.59\n",
      "Test after pruning= 0.59\n",
      "Test after pruning= 0.59\n",
      "Test after pruning= 0.59\n",
      "Test after pruning= 0.59\n",
      "Test after pruning= 0.59\n",
      "Test after pruning= 0.59\n",
      "Test after pruning= 0.59\n",
      "Test after pruning= 0.58\n",
      "Test after pruning= 0.57\n",
      "Test after pruning= 0.58\n",
      "Test after pruning= 0.59\n",
      "Test after pruning= 0.59\n",
      "Test after pruning= 0.59\n",
      "Test after pruning= 0.58\n",
      "Test after pruning= 0.58\n",
      "Test after pruning= 0.59\n",
      "Test after pruning= 0.58\n",
      "Test after pruning= 0.57\n",
      "Test after pruning= 0.57\n",
      "Test after pruning= 0.56\n",
      "Test after pruning= 0.56\n",
      "Test after pruning= 0.56\n",
      "Test after pruning= 0.54\n",
      "Test after pruning= 0.53\n",
      "Test after pruning= 0.49\n"
     ]
    },
    {
     "data": {
      "image/png": "[encoded data removed]",
      "text/plain": [
       "<matplotlib.figure.Figure at 0x10dab1f60>"
      ]
     },
     "metadata": {},
     "output_type": "display_data"
    }
   ],
   "source": [
    "algo = UCB1([], [])\n",
    "Alg_name = 'UCB1 Algorithm'\n",
    "path = './UCB1/'\n",
    "sys.path.append(\"./UCB1\")\n",
    "exec(open(\"mnist_cnnFORTESTING.py\").read())"
   ]
  },
  {
   "cell_type": "markdown",
   "metadata": {
    "collapsed": true
   },
   "source": [
    "# Compare the accuracy"
   ]
  },
  {
   "cell_type": "code",
   "execution_count": 7,
   "metadata": {
    "collapsed": true
   },
   "outputs": [],
   "source": [
    "ucb1 = np.load('./UCB1/AccuracyAftrerPrune.npy')\n",
    "ThompsonSampling = np.load('./Thompson_Sampling/AccuracyAftrerPrune.npy')\n",
    "Accuracy = np.load('AccuracyBeforePruning.npy')"
   ]
  },
  {
   "cell_type": "code",
   "execution_count": 8,
   "metadata": {
    "collapsed": false
   },
   "outputs": [
    {
     "data": {
      "image/png": "[encoded data removed]",
      "text/plain": [
       "<matplotlib.figure.Figure at 0x10f483a20>"
      ]
     },
     "metadata": {},
     "output_type": "display_data"
    }
   ],
   "source": [
    "fig = plt.figure(figsize=(10, 6), dpi=80)\n",
    "ax = fig.add_subplot(111)\n",
    "N = len(ucb1)\n",
    "ind = np.arange(N)                # the x locations for the groups\n",
    "plt.plot(ind , ucb1 , color=\"blue\", linewidth=2.5, linestyle=\"-\", label=\"UCB1\")\n",
    "plt.plot(ind , ThompsonSampling, color=\"orange\", linewidth=2.5, linestyle=\"-\", label=\"Thompson Sampling\")\n",
    "plt.legend(loc = 3)\n",
    "plt.axis([0, 25, 0, 1])\n",
    "plt.xlabel('Number of pruned Neurons')\n",
    "plt.ylabel('The Accuracy')\n",
    "plt.grid(True)\n",
    "plt.show()"
   ]
  },
  {
   "cell_type": "code",
   "execution_count": 9,
   "metadata": {
    "collapsed": false
   },
   "outputs": [
    {
     "data": {
      "text/html": [
       "\n",
       "\n",
       "    <div class=\"bk-root\">\n",
       "        <div class=\"bk-plotdiv\" id=\"b11a638c-298e-45f0-9e9d-5be6c3e403a3\"></div>\n",
       "    </div>\n",
       "<script type=\"text/javascript\">\n",
       "  \n",
       "  (function(global) {\n",
       "    function now() {\n",
       "      return new Date();\n",
       "    }\n",
       "  \n",
       "    var force = false;\n",
       "  \n",
       "    if (typeof (window._bokeh_onload_callbacks) === \"undefined\" || force === true) {\n",
       "      window._bokeh_onload_callbacks = [];\n",
       "      window._bokeh_is_loading = undefined;\n",
       "    }\n",
       "  \n",
       "  \n",
       "    \n",
       "    if (typeof (window._bokeh_timeout) === \"undefined\" || force === true) {\n",
       "      window._bokeh_timeout = Date.now() + 0;\n",
       "      window._bokeh_failed_load = false;\n",
       "    }\n",
       "  \n",
       "    var NB_LOAD_WARNING = {'data': {'text/html':\n",
       "       \"<div style='background-color: #fdd'>\\n\"+\n",
       "       \"<p>\\n\"+\n",
       "       \"BokehJS does not appear to have successfully loaded. If loading BokehJS from CDN, this \\n\"+\n",
       "       \"may be due to a slow or bad network connection. Possible fixes:\\n\"+\n",
       "       \"</p>\\n\"+\n",
       "       \"<ul>\\n\"+\n",
       "       \"<li>re-rerun `output_notebook()` to attempt to load from CDN again, or</li>\\n\"+\n",
       "       \"<li>use INLINE resources instead, as so:</li>\\n\"+\n",
       "       \"</ul>\\n\"+\n",
       "       \"<code>\\n\"+\n",
       "       \"from bokeh.resources import INLINE\\n\"+\n",
       "       \"output_notebook(resources=INLINE)\\n\"+\n",
       "       \"</code>\\n\"+\n",
       "       \"</div>\"}};\n",
       "  \n",
       "    function display_loaded() {\n",
       "      if (window.Bokeh !== undefined) {\n",
       "        document.getElementById(\"b11a638c-298e-45f0-9e9d-5be6c3e403a3\").textContent = \"BokehJS successfully loaded.\";\n",
       "      } else if (Date.now() < window._bokeh_timeout) {\n",
       "        setTimeout(display_loaded, 100)\n",
       "      }\n",
       "    }\n",
       "  \n",
       "    function run_callbacks() {\n",
       "      window._bokeh_onload_callbacks.forEach(function(callback) { callback() });\n",
       "      delete window._bokeh_onload_callbacks\n",
       "      console.info(\"Bokeh: all callbacks have finished\");\n",
       "    }\n",
       "  \n",
       "    function load_libs(js_urls, callback) {\n",
       "      window._bokeh_onload_callbacks.push(callback);\n",
       "      if (window._bokeh_is_loading > 0) {\n",
       "        console.log(\"Bokeh: BokehJS is being loaded, scheduling callback at\", now());\n",
       "        return null;\n",
       "      }\n",
       "      if (js_urls == null || js_urls.length === 0) {\n",
       "        run_callbacks();\n",
       "        return null;\n",
       "      }\n",
       "      console.log(\"Bokeh: BokehJS not loaded, scheduling load and callback at\", now());\n",
       "      window._bokeh_is_loading = js_urls.length;\n",
       "      for (var i = 0; i < js_urls.length; i++) {\n",
       "        var url = js_urls[i];\n",
       "        var s = document.createElement('script');\n",
       "        s.src = url;\n",
       "        s.async = false;\n",
       "        s.onreadystatechange = s.onload = function() {\n",
       "          window._bokeh_is_loading--;\n",
       "          if (window._bokeh_is_loading === 0) {\n",
       "            console.log(\"Bokeh: all BokehJS libraries loaded\");\n",
       "            run_callbacks()\n",
       "          }\n",
       "        };\n",
       "        s.onerror = function() {\n",
       "          console.warn(\"failed to load library \" + url);\n",
       "        };\n",
       "        console.log(\"Bokeh: injecting script tag for BokehJS library: \", url);\n",
       "        document.getElementsByTagName(\"head\")[0].appendChild(s);\n",
       "      }\n",
       "    };var element = document.getElementById(\"b11a638c-298e-45f0-9e9d-5be6c3e403a3\");\n",
       "    if (element == null) {\n",
       "      console.log(\"Bokeh: ERROR: autoload.js configured with elementid 'b11a638c-298e-45f0-9e9d-5be6c3e403a3' but no matching script tag was found. \")\n",
       "      return false;\n",
       "    }\n",
       "  \n",
       "    var js_urls = [];\n",
       "  \n",
       "    var inline_js = [\n",
       "      function(Bokeh) {\n",
       "        (function() {\n",
       "          var fn = function() {\n",
       "            var docs_json = {\"3fcc45db-065f-45b9-b64a-6033e5420048\":{\"roots\":{\"references\":[{\"attributes\":{\"label\":{\"value\":\"Thompson Sampling\"},\"renderers\":[{\"id\":\"58aa19ee-84dd-4298-a6c9-5b32e3ab9d0b\",\"type\":\"GlyphRenderer\"}]},\"id\":\"a479dd1a-da07-4e55-93b2-ebce1f819891\",\"type\":\"LegendItem\"},{\"attributes\":{\"overlay\":{\"id\":\"5358dd5f-a5b9-4a94-8cf9-8db8ff0cdba1\",\"type\":\"BoxAnnotation\"},\"plot\":{\"id\":\"db299823-c9e5-4ac3-9a3c-84ae30fbf610\",\"subtype\":\"Figure\",\"type\":\"Plot\"}},\"id\":\"918b9d13-7a5a-4bf2-a0ac-fe16a3bad48e\",\"type\":\"BoxZoomTool\"},{\"attributes\":{},\"id\":\"aa5cd692-0d97-40e6-af69-3dd34706a884\",\"type\":\"BasicTicker\"},{\"attributes\":{\"callback\":null},\"id\":\"36e51981-372e-442c-93ba-4e019299b116\",\"type\":\"DataRange1d\"},{\"attributes\":{\"data_source\":{\"id\":\"5f8fd318-90a6-4d74-8e6a-d3360ae01371\",\"type\":\"ColumnDataSource\"},\"glyph\":{\"id\":\"ef0105f1-6122-4412-82fa-5c4f08a85d3a\",\"type\":\"Line\"},\"hover_glyph\":null,\"nonselection_glyph\":{\"id\":\"3f6a189e-8a20-43e8-bb77-15e77a67020a\",\"type\":\"Line\"},\"selection_glyph\":null},\"id\":\"58aa19ee-84dd-4298-a6c9-5b32e3ab9d0b\",\"type\":\"GlyphRenderer\"},{\"attributes\":{\"plot\":{\"id\":\"db299823-c9e5-4ac3-9a3c-84ae30fbf610\",\"subtype\":\"Figure\",\"type\":\"Plot\"}},\"id\":\"e765dfd4-02f2-4145-84a8-5460f1c29678\",\"type\":\"PanTool\"},{\"attributes\":{\"callback\":null,\"column_names\":[\"x\",\"y\"],\"data\":{\"x\":[0,1,2,3,4,5,6,7,8,9,10,11,12,13,14,15,16,17,18,19,20,21,22,23,24,25,26,27,28,29,30,31,32,33,34,35,36,37,38,39],\"y\":{\"__ndarray__\":\"YjTeV+ij4j9iNN5X6KPiP5rWnvxsseI/0nhfofG+4j97wdWtY5biP3vB1a1jluI/Qx8VCd+I4j9DHxUJ34jiP9Pak7/VbeI/C31UZFp74j8LfVRkWnviP0MfFQnfiOI/e8HVrWOW4j97wdWtY5biP3vB1a1jluI/KpIds2OW4j8qkh2zY5biPyqSHbNjluI/YjTeV+ij4j9DHxUJ34jiP5s40xpRYOI/09qTv9Vt4j8LfVRkWnviPwt9VGRae+I/C31UZFp74j8qkh2zY5biP7JjllLoo+I/e8HVrWOW4j+a1p78bLHiPykw6ZR/5+I/Qb3g6vrZ4j9g0qk5BPXiP/GNKPD62eI/0nhfofG+4j+A53IIEKPhP74RBaYi2eE/poQNUKfm4T/WbeLsK/ThP3MI6gXP5eA/vK/Qp7Un3z8=\",\"dtype\":\"float64\",\"shape\":[40]}}},\"id\":\"5f8fd318-90a6-4d74-8e6a-d3360ae01371\",\"type\":\"ColumnDataSource\"},{\"attributes\":{\"line_color\":{\"value\":\"blue\"},\"line_width\":{\"value\":2},\"x\":{\"field\":\"x\"},\"y\":{\"field\":\"y\"}},\"id\":\"ccb313cb-6754-4fab-8260-773420e71890\",\"type\":\"Line\"},{\"attributes\":{\"bottom_units\":\"screen\",\"fill_alpha\":{\"value\":0.5},\"fill_color\":{\"value\":\"lightgrey\"},\"left_units\":\"screen\",\"level\":\"overlay\",\"line_alpha\":{\"value\":1.0},\"line_color\":{\"value\":\"black\"},\"line_dash\":[4,4],\"line_width\":{\"value\":2},\"plot\":null,\"render_mode\":\"css\",\"right_units\":\"screen\",\"top_units\":\"screen\"},\"id\":\"5358dd5f-a5b9-4a94-8cf9-8db8ff0cdba1\",\"type\":\"BoxAnnotation\"},{\"attributes\":{\"formatter\":{\"id\":\"69b951cc-ad24-44c7-9daf-367d6cd04cc7\",\"type\":\"BasicTickFormatter\"},\"plot\":{\"id\":\"db299823-c9e5-4ac3-9a3c-84ae30fbf610\",\"subtype\":\"Figure\",\"type\":\"Plot\"},\"ticker\":{\"id\":\"ce94bff8-c529-43b0-861a-b97921166ffd\",\"type\":\"BasicTicker\"}},\"id\":\"27cb4c7c-ee56-4736-9f01-306dbd4b725f\",\"type\":\"LinearAxis\"},{\"attributes\":{\"plot\":{\"id\":\"db299823-c9e5-4ac3-9a3c-84ae30fbf610\",\"subtype\":\"Figure\",\"type\":\"Plot\"}},\"id\":\"c3156353-5030-40b6-8c54-631ea6540f28\",\"type\":\"WheelZoomTool\"},{\"attributes\":{\"plot\":{\"id\":\"db299823-c9e5-4ac3-9a3c-84ae30fbf610\",\"subtype\":\"Figure\",\"type\":\"Plot\"}},\"id\":\"1d1d69d0-ae74-4e4a-a258-799d7056cc6a\",\"type\":\"ResetTool\"},{\"attributes\":{\"bottom_units\":\"screen\",\"fill_alpha\":{\"value\":0.5},\"fill_color\":{\"value\":\"lightgrey\"},\"left_units\":\"screen\",\"level\":\"overlay\",\"line_alpha\":{\"value\":1.0},\"line_color\":{\"value\":\"black\"},\"line_dash\":[4,4],\"line_width\":{\"value\":2},\"plot\":null,\"render_mode\":\"css\",\"right_units\":\"screen\",\"top_units\":\"screen\"},\"id\":\"6d36473b-d201-425f-aa76-756e88341d6e\",\"type\":\"BoxAnnotation\"},{\"attributes\":{\"below\":[{\"id\":\"182a148d-d84b-4762-921a-379a110a4eab\",\"type\":\"LinearAxis\"}],\"left\":[{\"id\":\"27cb4c7c-ee56-4736-9f01-306dbd4b725f\",\"type\":\"LinearAxis\"}],\"renderers\":[{\"id\":\"182a148d-d84b-4762-921a-379a110a4eab\",\"type\":\"LinearAxis\"},{\"id\":\"362b73e3-f6b5-486e-9348-dc761f15f761\",\"type\":\"Grid\"},{\"id\":\"27cb4c7c-ee56-4736-9f01-306dbd4b725f\",\"type\":\"LinearAxis\"},{\"id\":\"68fb045f-9e07-40c9-83c0-26e0f970cadf\",\"type\":\"Grid\"},{\"id\":\"5358dd5f-a5b9-4a94-8cf9-8db8ff0cdba1\",\"type\":\"BoxAnnotation\"},{\"id\":\"6d36473b-d201-425f-aa76-756e88341d6e\",\"type\":\"BoxAnnotation\"},{\"id\":\"589e2e89-2faf-4081-99c9-ed5938324524\",\"type\":\"PolyAnnotation\"},{\"id\":\"03f8197e-6c2c-4d87-9b64-ea56f971fec9\",\"type\":\"PolyAnnotation\"},{\"id\":\"6f9543f2-4d86-458f-91d3-c84d624b0a34\",\"type\":\"Legend\"},{\"id\":\"10929297-3e63-4143-91b5-4599f971a3c1\",\"type\":\"GlyphRenderer\"},{\"id\":\"58aa19ee-84dd-4298-a6c9-5b32e3ab9d0b\",\"type\":\"GlyphRenderer\"}],\"title\":{\"id\":\"c9c818c8-a049-4f08-a79c-36112264299d\",\"type\":\"Title\"},\"tool_events\":{\"id\":\"6fbf2eb1-1294-4cd0-a7dd-767aa02428ee\",\"type\":\"ToolEvents\"},\"toolbar\":{\"id\":\"d9889ad5-e35b-4cc7-8dac-ab52bfc8c8f7\",\"type\":\"Toolbar\"},\"x_range\":{\"id\":\"36e51981-372e-442c-93ba-4e019299b116\",\"type\":\"DataRange1d\"},\"y_range\":{\"id\":\"53aa5371-7ef3-4c96-b83c-bd0f1fd8fec4\",\"type\":\"DataRange1d\"}},\"id\":\"db299823-c9e5-4ac3-9a3c-84ae30fbf610\",\"subtype\":\"Figure\",\"type\":\"Plot\"},{\"attributes\":{\"dimension\":1,\"plot\":{\"id\":\"db299823-c9e5-4ac3-9a3c-84ae30fbf610\",\"subtype\":\"Figure\",\"type\":\"Plot\"},\"ticker\":{\"id\":\"ce94bff8-c529-43b0-861a-b97921166ffd\",\"type\":\"BasicTicker\"}},\"id\":\"68fb045f-9e07-40c9-83c0-26e0f970cadf\",\"type\":\"Grid\"},{\"attributes\":{\"fill_alpha\":{\"value\":0.5},\"fill_color\":{\"value\":\"lightgrey\"},\"level\":\"overlay\",\"line_alpha\":{\"value\":1.0},\"line_color\":{\"value\":\"black\"},\"line_dash\":[4,4],\"line_width\":{\"value\":2},\"plot\":null,\"xs_units\":\"screen\",\"ys_units\":\"screen\"},\"id\":\"589e2e89-2faf-4081-99c9-ed5938324524\",\"type\":\"PolyAnnotation\"},{\"attributes\":{},\"id\":\"ce94bff8-c529-43b0-861a-b97921166ffd\",\"type\":\"BasicTicker\"},{\"attributes\":{\"plot\":{\"id\":\"db299823-c9e5-4ac3-9a3c-84ae30fbf610\",\"subtype\":\"Figure\",\"type\":\"Plot\"}},\"id\":\"aba1aaf4-24f2-4e6b-a783-fc70088c27f3\",\"type\":\"ResizeTool\"},{\"attributes\":{\"plot\":{\"id\":\"db299823-c9e5-4ac3-9a3c-84ae30fbf610\",\"subtype\":\"Figure\",\"type\":\"Plot\"},\"ticker\":{\"id\":\"aa5cd692-0d97-40e6-af69-3dd34706a884\",\"type\":\"BasicTicker\"}},\"id\":\"362b73e3-f6b5-486e-9348-dc761f15f761\",\"type\":\"Grid\"},{\"attributes\":{\"callback\":null,\"plot\":{\"id\":\"db299823-c9e5-4ac3-9a3c-84ae30fbf610\",\"subtype\":\"Figure\",\"type\":\"Plot\"}},\"id\":\"1ad24ce1-0afa-427f-832d-5b55b1bb7a59\",\"type\":\"TapTool\"},{\"attributes\":{\"active_drag\":\"auto\",\"active_scroll\":\"auto\",\"active_tap\":\"auto\",\"tools\":[{\"id\":\"918b9d13-7a5a-4bf2-a0ac-fe16a3bad48e\",\"type\":\"BoxZoomTool\"},{\"id\":\"467d74ab-d374-47af-b237-b0b068f2ef98\",\"type\":\"BoxSelectTool\"},{\"id\":\"d949b4f6-9f1a-4cbd-931a-ee3fa53afa23\",\"type\":\"CrosshairTool\"},{\"id\":\"aba1aaf4-24f2-4e6b-a783-fc70088c27f3\",\"type\":\"ResizeTool\"},{\"id\":\"1d1d69d0-ae74-4e4a-a258-799d7056cc6a\",\"type\":\"ResetTool\"},{\"id\":\"66116f15-69f9-434e-acbc-fec213b8930c\",\"type\":\"LassoSelectTool\"},{\"id\":\"e765dfd4-02f2-4145-84a8-5460f1c29678\",\"type\":\"PanTool\"},{\"id\":\"8f74c4ea-1cae-4d10-a03f-b3b9c203774d\",\"type\":\"SaveTool\"},{\"id\":\"c893b3f6-fe71-435b-a09a-95639bcdf48d\",\"type\":\"PolySelectTool\"},{\"id\":\"1ad24ce1-0afa-427f-832d-5b55b1bb7a59\",\"type\":\"TapTool\"},{\"id\":\"c3156353-5030-40b6-8c54-631ea6540f28\",\"type\":\"WheelZoomTool\"},{\"id\":\"e80b5642-43f6-4442-b589-3dc079cd7c0d\",\"type\":\"UndoTool\"}]},\"id\":\"d9889ad5-e35b-4cc7-8dac-ab52bfc8c8f7\",\"type\":\"Toolbar\"},{\"attributes\":{\"callback\":null,\"overlay\":{\"id\":\"589e2e89-2faf-4081-99c9-ed5938324524\",\"type\":\"PolyAnnotation\"},\"plot\":{\"id\":\"db299823-c9e5-4ac3-9a3c-84ae30fbf610\",\"subtype\":\"Figure\",\"type\":\"Plot\"}},\"id\":\"66116f15-69f9-434e-acbc-fec213b8930c\",\"type\":\"LassoSelectTool\"},{\"attributes\":{\"callback\":null,\"column_names\":[\"x\",\"y\"],\"data\":{\"x\":[0,1,2,3,4,5,6,7,8,9,10,11,12,13,14,15,16,17,18,19,20,21,22,23,24,25,26,27,28,29,30,31,32,33,34,35,36,37,38,39],\"y\":{\"__ndarray__\":\"Qx8VCd+I4j8LfVRkWnviP9Pak7/VbeI/09qTv9Vt4j/T2pO/1W3iP9Pak7/VbeI/Qx8VCd+I4j+a1p78bLHiP2I03lfoo+I/YjTeV+ij4j9iNN5X6KPiP9J4X6HxvuI/0nhfofG+4j+a1p78bLHiP9J4X6HxvuI/YNKpOQT14j95X6GPf+fiPykw6ZR/5+I/KTDplH/n4j8JGyBGdsziPwkbIEZ2zOI/Qb3g6vrZ4j9DHxUJ34jiP2SWEnbMUuI/e8HVrWOW4j9aSthAdsziP433FdqIAuM/5hDU6/rZ4j+a1p78bLHiP1+hj2pae+I/luEb8frZ4j9foY9qWnviP9U8yN25HOI/1TzI3bkc4j8uVobvK/ThP2X4RpSwAeI/TWtPPjUP4j9q7cnf6jbhP7ZYGe5cDuE/vK/Qp7Un3z8=\",\"dtype\":\"float64\",\"shape\":[40]}}},\"id\":\"b1a8d9a4-2caa-4cdf-a192-929e3394b64c\",\"type\":\"ColumnDataSource\"},{\"attributes\":{\"data_source\":{\"id\":\"b1a8d9a4-2caa-4cdf-a192-929e3394b64c\",\"type\":\"ColumnDataSource\"},\"glyph\":{\"id\":\"ccb313cb-6754-4fab-8260-773420e71890\",\"type\":\"Line\"},\"hover_glyph\":null,\"nonselection_glyph\":{\"id\":\"826867f6-e657-4c9c-8c36-d4de856df643\",\"type\":\"Line\"},\"selection_glyph\":null},\"id\":\"10929297-3e63-4143-91b5-4599f971a3c1\",\"type\":\"GlyphRenderer\"},{\"attributes\":{\"plot\":{\"id\":\"db299823-c9e5-4ac3-9a3c-84ae30fbf610\",\"subtype\":\"Figure\",\"type\":\"Plot\"}},\"id\":\"8f74c4ea-1cae-4d10-a03f-b3b9c203774d\",\"type\":\"SaveTool\"},{\"attributes\":{\"formatter\":{\"id\":\"38a0bc7e-78c4-4779-bee2-5a7600952e8f\",\"type\":\"BasicTickFormatter\"},\"plot\":{\"id\":\"db299823-c9e5-4ac3-9a3c-84ae30fbf610\",\"subtype\":\"Figure\",\"type\":\"Plot\"},\"ticker\":{\"id\":\"aa5cd692-0d97-40e6-af69-3dd34706a884\",\"type\":\"BasicTicker\"}},\"id\":\"182a148d-d84b-4762-921a-379a110a4eab\",\"type\":\"LinearAxis\"},{\"attributes\":{\"line_alpha\":{\"value\":0.1},\"line_color\":{\"value\":\"#1f77b4\"},\"line_width\":{\"value\":2},\"x\":{\"field\":\"x\"},\"y\":{\"field\":\"y\"}},\"id\":\"826867f6-e657-4c9c-8c36-d4de856df643\",\"type\":\"Line\"},{\"attributes\":{\"callback\":null},\"id\":\"53aa5371-7ef3-4c96-b83c-bd0f1fd8fec4\",\"type\":\"DataRange1d\"},{\"attributes\":{},\"id\":\"38a0bc7e-78c4-4779-bee2-5a7600952e8f\",\"type\":\"BasicTickFormatter\"},{\"attributes\":{\"line_color\":{\"value\":\"red\"},\"line_width\":{\"value\":2},\"x\":{\"field\":\"x\"},\"y\":{\"field\":\"y\"}},\"id\":\"ef0105f1-6122-4412-82fa-5c4f08a85d3a\",\"type\":\"Line\"},{\"attributes\":{},\"id\":\"69b951cc-ad24-44c7-9daf-367d6cd04cc7\",\"type\":\"BasicTickFormatter\"},{\"attributes\":{\"plot\":{\"id\":\"db299823-c9e5-4ac3-9a3c-84ae30fbf610\",\"subtype\":\"Figure\",\"type\":\"Plot\"}},\"id\":\"d949b4f6-9f1a-4cbd-931a-ee3fa53afa23\",\"type\":\"CrosshairTool\"},{\"attributes\":{\"overlay\":{\"id\":\"03f8197e-6c2c-4d87-9b64-ea56f971fec9\",\"type\":\"PolyAnnotation\"},\"plot\":{\"id\":\"db299823-c9e5-4ac3-9a3c-84ae30fbf610\",\"subtype\":\"Figure\",\"type\":\"Plot\"}},\"id\":\"c893b3f6-fe71-435b-a09a-95639bcdf48d\",\"type\":\"PolySelectTool\"},{\"attributes\":{},\"id\":\"6fbf2eb1-1294-4cd0-a7dd-767aa02428ee\",\"type\":\"ToolEvents\"},{\"attributes\":{\"items\":[{\"id\":\"f56f2c4d-d81b-420e-ae5e-d38901307be5\",\"type\":\"LegendItem\"},{\"id\":\"a479dd1a-da07-4e55-93b2-ebce1f819891\",\"type\":\"LegendItem\"}],\"plot\":{\"id\":\"db299823-c9e5-4ac3-9a3c-84ae30fbf610\",\"subtype\":\"Figure\",\"type\":\"Plot\"}},\"id\":\"6f9543f2-4d86-458f-91d3-c84d624b0a34\",\"type\":\"Legend\"},{\"attributes\":{\"plot\":{\"id\":\"db299823-c9e5-4ac3-9a3c-84ae30fbf610\",\"subtype\":\"Figure\",\"type\":\"Plot\"}},\"id\":\"e80b5642-43f6-4442-b589-3dc079cd7c0d\",\"type\":\"UndoTool\"},{\"attributes\":{\"callback\":null,\"overlay\":{\"id\":\"6d36473b-d201-425f-aa76-756e88341d6e\",\"type\":\"BoxAnnotation\"},\"plot\":{\"id\":\"db299823-c9e5-4ac3-9a3c-84ae30fbf610\",\"subtype\":\"Figure\",\"type\":\"Plot\"},\"renderers\":[{\"id\":\"10929297-3e63-4143-91b5-4599f971a3c1\",\"type\":\"GlyphRenderer\"},{\"id\":\"58aa19ee-84dd-4298-a6c9-5b32e3ab9d0b\",\"type\":\"GlyphRenderer\"}]},\"id\":\"467d74ab-d374-47af-b237-b0b068f2ef98\",\"type\":\"BoxSelectTool\"},{\"attributes\":{\"fill_alpha\":{\"value\":0.5},\"fill_color\":{\"value\":\"lightgrey\"},\"level\":\"overlay\",\"line_alpha\":{\"value\":1.0},\"line_color\":{\"value\":\"black\"},\"line_dash\":[4,4],\"line_width\":{\"value\":2},\"plot\":null,\"xs_units\":\"screen\",\"ys_units\":\"screen\"},\"id\":\"03f8197e-6c2c-4d87-9b64-ea56f971fec9\",\"type\":\"PolyAnnotation\"},{\"attributes\":{\"align\":\"center\",\"plot\":null,\"text\":\"The Performance over the number of neurons' pruned\"},\"id\":\"c9c818c8-a049-4f08-a79c-36112264299d\",\"type\":\"Title\"},{\"attributes\":{\"line_alpha\":{\"value\":0.1},\"line_color\":{\"value\":\"#1f77b4\"},\"line_width\":{\"value\":2},\"x\":{\"field\":\"x\"},\"y\":{\"field\":\"y\"}},\"id\":\"3f6a189e-8a20-43e8-bb77-15e77a67020a\",\"type\":\"Line\"},{\"attributes\":{\"label\":{\"value\":\"ucb1\"},\"renderers\":[{\"id\":\"10929297-3e63-4143-91b5-4599f971a3c1\",\"type\":\"GlyphRenderer\"}]},\"id\":\"f56f2c4d-d81b-420e-ae5e-d38901307be5\",\"type\":\"LegendItem\"}],\"root_ids\":[\"db299823-c9e5-4ac3-9a3c-84ae30fbf610\"]},\"title\":\"Bokeh Application\",\"version\":\"0.12.4\"}};\n",
       "            var render_items = [{\"docid\":\"3fcc45db-065f-45b9-b64a-6033e5420048\",\"elementid\":\"b11a638c-298e-45f0-9e9d-5be6c3e403a3\",\"modelid\":\"db299823-c9e5-4ac3-9a3c-84ae30fbf610\"}];\n",
       "            \n",
       "            Bokeh.embed.embed_items(docs_json, render_items);\n",
       "          };\n",
       "          if (document.readyState != \"loading\") fn();\n",
       "          else document.addEventListener(\"DOMContentLoaded\", fn);\n",
       "        })();\n",
       "      },\n",
       "      function(Bokeh) {\n",
       "      }\n",
       "    ];\n",
       "  \n",
       "    function run_inline_js() {\n",
       "      \n",
       "      if ((window.Bokeh !== undefined) || (force === true)) {\n",
       "        for (var i = 0; i < inline_js.length; i++) {\n",
       "          inline_js[i](window.Bokeh);\n",
       "        }if (force === true) {\n",
       "          display_loaded();\n",
       "        }} else if (Date.now() < window._bokeh_timeout) {\n",
       "        setTimeout(run_inline_js, 100);\n",
       "      } else if (!window._bokeh_failed_load) {\n",
       "        console.log(\"Bokeh: BokehJS failed to load within specified timeout.\");\n",
       "        window._bokeh_failed_load = true;\n",
       "      } else if (force !== true) {\n",
       "        var cell = $(document.getElementById(\"b11a638c-298e-45f0-9e9d-5be6c3e403a3\")).parents('.cell').data().cell;\n",
       "        cell.output_area.append_execute_result(NB_LOAD_WARNING)\n",
       "      }\n",
       "  \n",
       "    }\n",
       "  \n",
       "    if (window._bokeh_is_loading === 0) {\n",
       "      console.log(\"Bokeh: BokehJS loaded, going straight to plotting\");\n",
       "      run_inline_js();\n",
       "    } else {\n",
       "      load_libs(js_urls, function() {\n",
       "        console.log(\"Bokeh: BokehJS plotting callback run at\", now());\n",
       "        run_inline_js();\n",
       "      });\n",
       "    }\n",
       "  }(this));\n",
       "</script>"
      ]
     },
     "metadata": {},
     "output_type": "display_data"
    }
   ],
   "source": [
    "p1 = figure(title=\"The Performance over the number of neurons' pruned\", tools=TOOLS)\n",
    "p1.line(ind, ucb1, legend=\"ucb1\", line_color=\"blue\", line_width=2)\n",
    "p1.line(ind, ThompsonSampling, legend=\"Thompson Sampling\", line_color=\"red\", line_width=2)\n",
    "p1.title.align = \"center\"\n",
    "show(p1)"
   ]
  },
  {
   "cell_type": "markdown",
   "metadata": {},
   "source": [
    "# Comparing All algorithms with the model before pruning"
   ]
  },
  {
   "cell_type": "code",
   "execution_count": 10,
   "metadata": {
    "collapsed": false
   },
   "outputs": [
    {
     "data": {
      "image/png": "[encoded data removed]",
      "text/plain": [
       "<matplotlib.figure.Figure at 0x10e8185f8>"
      ]
     },
     "metadata": {},
     "output_type": "display_data"
    }
   ],
   "source": [
    "fig = plt.figure(figsize=(10, 6), dpi=80)\n",
    "ax = fig.add_subplot(111)\n",
    "N = len(ucb1)\n",
    "Acc = [Accuracy for col in range(N)]\n",
    "ind = np.arange(N)                # the x locations for the groups\n",
    "plt.plot(ind , ucb1 , color=\"blue\", linewidth=2.5, linestyle=\"-\", label=\"UCB1\")\n",
    "plt.plot(ind , ThompsonSampling, color=\"orange\", linewidth=2.5, linestyle=\"-\", label=\"Thompson Sampling\")\n",
    "plt.plot(ind , Acc, color=\"pink\", linewidth=2.5, linestyle=\"-\", label=\"Accuracy before Pruning\")\n",
    "plt.legend(loc = 3)\n",
    "plt.axis([0, 25, 0, 1])\n",
    "plt.xlabel('Number of pruned Neurons')\n",
    "plt.ylabel('The Accuracy')\n",
    "plt.grid(True)\n",
    "plt.show()"
   ]
  },
  {
   "cell_type": "code",
   "execution_count": 11,
   "metadata": {
    "collapsed": false
   },
   "outputs": [
    {
     "data": {
      "text/html": [
       "\n",
       "\n",
       "    <div class=\"bk-root\">\n",
       "        <div class=\"bk-plotdiv\" id=\"0bb69a52-1cb3-4f5c-8b12-686d02121c94\"></div>\n",
       "    </div>\n",
       "<script type=\"text/javascript\">\n",
       "  \n",
       "  (function(global) {\n",
       "    function now() {\n",
       "      return new Date();\n",
       "    }\n",
       "  \n",
       "    var force = false;\n",
       "  \n",
       "    if (typeof (window._bokeh_onload_callbacks) === \"undefined\" || force === true) {\n",
       "      window._bokeh_onload_callbacks = [];\n",
       "      window._bokeh_is_loading = undefined;\n",
       "    }\n",
       "  \n",
       "  \n",
       "    \n",
       "    if (typeof (window._bokeh_timeout) === \"undefined\" || force === true) {\n",
       "      window._bokeh_timeout = Date.now() + 0;\n",
       "      window._bokeh_failed_load = false;\n",
       "    }\n",
       "  \n",
       "    var NB_LOAD_WARNING = {'data': {'text/html':\n",
       "       \"<div style='background-color: #fdd'>\\n\"+\n",
       "       \"<p>\\n\"+\n",
       "       \"BokehJS does not appear to have successfully loaded. If loading BokehJS from CDN, this \\n\"+\n",
       "       \"may be due to a slow or bad network connection. Possible fixes:\\n\"+\n",
       "       \"</p>\\n\"+\n",
       "       \"<ul>\\n\"+\n",
       "       \"<li>re-rerun `output_notebook()` to attempt to load from CDN again, or</li>\\n\"+\n",
       "       \"<li>use INLINE resources instead, as so:</li>\\n\"+\n",
       "       \"</ul>\\n\"+\n",
       "       \"<code>\\n\"+\n",
       "       \"from bokeh.resources import INLINE\\n\"+\n",
       "       \"output_notebook(resources=INLINE)\\n\"+\n",
       "       \"</code>\\n\"+\n",
       "       \"</div>\"}};\n",
       "  \n",
       "    function display_loaded() {\n",
       "      if (window.Bokeh !== undefined) {\n",
       "        document.getElementById(\"0bb69a52-1cb3-4f5c-8b12-686d02121c94\").textContent = \"BokehJS successfully loaded.\";\n",
       "      } else if (Date.now() < window._bokeh_timeout) {\n",
       "        setTimeout(display_loaded, 100)\n",
       "      }\n",
       "    }\n",
       "  \n",
       "    function run_callbacks() {\n",
       "      window._bokeh_onload_callbacks.forEach(function(callback) { callback() });\n",
       "      delete window._bokeh_onload_callbacks\n",
       "      console.info(\"Bokeh: all callbacks have finished\");\n",
       "    }\n",
       "  \n",
       "    function load_libs(js_urls, callback) {\n",
       "      window._bokeh_onload_callbacks.push(callback);\n",
       "      if (window._bokeh_is_loading > 0) {\n",
       "        console.log(\"Bokeh: BokehJS is being loaded, scheduling callback at\", now());\n",
       "        return null;\n",
       "      }\n",
       "      if (js_urls == null || js_urls.length === 0) {\n",
       "        run_callbacks();\n",
       "        return null;\n",
       "      }\n",
       "      console.log(\"Bokeh: BokehJS not loaded, scheduling load and callback at\", now());\n",
       "      window._bokeh_is_loading = js_urls.length;\n",
       "      for (var i = 0; i < js_urls.length; i++) {\n",
       "        var url = js_urls[i];\n",
       "        var s = document.createElement('script');\n",
       "        s.src = url;\n",
       "        s.async = false;\n",
       "        s.onreadystatechange = s.onload = function() {\n",
       "          window._bokeh_is_loading--;\n",
       "          if (window._bokeh_is_loading === 0) {\n",
       "            console.log(\"Bokeh: all BokehJS libraries loaded\");\n",
       "            run_callbacks()\n",
       "          }\n",
       "        };\n",
       "        s.onerror = function() {\n",
       "          console.warn(\"failed to load library \" + url);\n",
       "        };\n",
       "        console.log(\"Bokeh: injecting script tag for BokehJS library: \", url);\n",
       "        document.getElementsByTagName(\"head\")[0].appendChild(s);\n",
       "      }\n",
       "    };var element = document.getElementById(\"0bb69a52-1cb3-4f5c-8b12-686d02121c94\");\n",
       "    if (element == null) {\n",
       "      console.log(\"Bokeh: ERROR: autoload.js configured with elementid '0bb69a52-1cb3-4f5c-8b12-686d02121c94' but no matching script tag was found. \")\n",
       "      return false;\n",
       "    }\n",
       "  \n",
       "    var js_urls = [];\n",
       "  \n",
       "    var inline_js = [\n",
       "      function(Bokeh) {\n",
       "        (function() {\n",
       "          var fn = function() {\n",
       "            var docs_json = {\"3b5075c7-c7fd-4460-ae17-ee21b4af1233\":{\"roots\":{\"references\":[{\"attributes\":{\"callback\":null,\"column_names\":[\"x\",\"y\"],\"data\":{\"x\":[0,1,2,3,4,5,6,7,8,9,10,11,12,13,14,15,16,17,18,19,20,21,22,23,24,25,26,27,28,29,30,31,32,33,34,35,36,37,38,39],\"y\":{\"__ndarray__\":\"Qx8VCd+I4j8LfVRkWnviP9Pak7/VbeI/09qTv9Vt4j/T2pO/1W3iP9Pak7/VbeI/Qx8VCd+I4j+a1p78bLHiP2I03lfoo+I/YjTeV+ij4j9iNN5X6KPiP9J4X6HxvuI/0nhfofG+4j+a1p78bLHiP9J4X6HxvuI/YNKpOQT14j95X6GPf+fiPykw6ZR/5+I/KTDplH/n4j8JGyBGdsziPwkbIEZ2zOI/Qb3g6vrZ4j9DHxUJ34jiP2SWEnbMUuI/e8HVrWOW4j9aSthAdsziP433FdqIAuM/5hDU6/rZ4j+a1p78bLHiP1+hj2pae+I/luEb8frZ4j9foY9qWnviP9U8yN25HOI/1TzI3bkc4j8uVobvK/ThP2X4RpSwAeI/TWtPPjUP4j9q7cnf6jbhP7ZYGe5cDuE/vK/Qp7Un3z8=\",\"dtype\":\"float64\",\"shape\":[40]}}},\"id\":\"2119951f-45cf-47f9-9876-c6cd2c50e525\",\"type\":\"ColumnDataSource\"},{\"attributes\":{\"data_source\":{\"id\":\"2119951f-45cf-47f9-9876-c6cd2c50e525\",\"type\":\"ColumnDataSource\"},\"glyph\":{\"id\":\"35966e87-8061-44ad-b785-f47c0fdc5199\",\"type\":\"Line\"},\"hover_glyph\":null,\"nonselection_glyph\":{\"id\":\"ac40e93f-cb1b-421a-8655-113512e5c885\",\"type\":\"Line\"},\"selection_glyph\":null},\"id\":\"95280da6-5e82-42b2-ad0c-788e77f167fa\",\"type\":\"GlyphRenderer\"},{\"attributes\":{\"fill_alpha\":{\"value\":0.5},\"fill_color\":{\"value\":\"lightgrey\"},\"level\":\"overlay\",\"line_alpha\":{\"value\":1.0},\"line_color\":{\"value\":\"black\"},\"line_dash\":[4,4],\"line_width\":{\"value\":2},\"plot\":null,\"xs_units\":\"screen\",\"ys_units\":\"screen\"},\"id\":\"62f4c64b-f548-46c0-b7f4-412d87582327\",\"type\":\"PolyAnnotation\"},{\"attributes\":{\"plot\":{\"id\":\"0de23c7f-4ef8-44ce-aa49-62fdf469ca82\",\"subtype\":\"Figure\",\"type\":\"Plot\"}},\"id\":\"238c9140-5d14-42a8-89e7-86f5fd6ecb1e\",\"type\":\"PanTool\"},{\"attributes\":{},\"id\":\"8902af5e-20a4-40e4-8391-5e9e33aaff2c\",\"type\":\"BasicTicker\"},{\"attributes\":{\"plot\":{\"id\":\"0de23c7f-4ef8-44ce-aa49-62fdf469ca82\",\"subtype\":\"Figure\",\"type\":\"Plot\"}},\"id\":\"7a83ad64-6115-438d-a28c-d00dabf757c9\",\"type\":\"SaveTool\"},{\"attributes\":{\"line_alpha\":{\"value\":0.1},\"line_color\":{\"value\":\"#1f77b4\"},\"line_width\":{\"value\":2},\"x\":{\"field\":\"x\"},\"y\":{\"field\":\"y\"}},\"id\":\"fccd6e60-226d-4627-a235-83e59546668a\",\"type\":\"Line\"},{\"attributes\":{\"dimension\":1,\"plot\":{\"id\":\"0de23c7f-4ef8-44ce-aa49-62fdf469ca82\",\"subtype\":\"Figure\",\"type\":\"Plot\"},\"ticker\":{\"id\":\"8902af5e-20a4-40e4-8391-5e9e33aaff2c\",\"type\":\"BasicTicker\"}},\"id\":\"fde2ac35-8c3f-4f13-a5d1-5b9e1ebd1d19\",\"type\":\"Grid\"},{\"attributes\":{\"line_alpha\":{\"value\":0.1},\"line_color\":{\"value\":\"#1f77b4\"},\"line_dash\":[4,4],\"line_width\":{\"value\":2},\"x\":{\"field\":\"x\"},\"y\":{\"field\":\"y\"}},\"id\":\"07e2bbb4-74a5-489c-b9b3-d101b926d223\",\"type\":\"Line\"},{\"attributes\":{\"bottom_units\":\"screen\",\"fill_alpha\":{\"value\":0.5},\"fill_color\":{\"value\":\"lightgrey\"},\"left_units\":\"screen\",\"level\":\"overlay\",\"line_alpha\":{\"value\":1.0},\"line_color\":{\"value\":\"black\"},\"line_dash\":[4,4],\"line_width\":{\"value\":2},\"plot\":null,\"render_mode\":\"css\",\"right_units\":\"screen\",\"top_units\":\"screen\"},\"id\":\"6f586c54-d709-49ba-92fa-69320943049d\",\"type\":\"BoxAnnotation\"},{\"attributes\":{\"plot\":{\"id\":\"0de23c7f-4ef8-44ce-aa49-62fdf469ca82\",\"subtype\":\"Figure\",\"type\":\"Plot\"}},\"id\":\"7feebf1a-e4b9-4871-8436-8c00dfc14734\",\"type\":\"ResetTool\"},{\"attributes\":{},\"id\":\"b5be2b68-9fda-4a55-a944-32753f05f9e2\",\"type\":\"BasicTickFormatter\"},{\"attributes\":{\"plot\":{\"id\":\"0de23c7f-4ef8-44ce-aa49-62fdf469ca82\",\"subtype\":\"Figure\",\"type\":\"Plot\"}},\"id\":\"4cd8f980-4dfb-4ac7-bdd9-ab39df937a49\",\"type\":\"WheelZoomTool\"},{\"attributes\":{\"plot\":{\"id\":\"0de23c7f-4ef8-44ce-aa49-62fdf469ca82\",\"subtype\":\"Figure\",\"type\":\"Plot\"},\"ticker\":{\"id\":\"db3ba9e3-edc5-4a39-a0a9-8ebce4433665\",\"type\":\"BasicTicker\"}},\"id\":\"4ffbef55-e905-499a-8b52-4e50648eb48e\",\"type\":\"Grid\"},{\"attributes\":{\"label\":{\"value\":\"Accuracy\"},\"renderers\":[{\"id\":\"17f81524-ba73-4fac-80ac-cfcb9aafd3ee\",\"type\":\"GlyphRenderer\"}]},\"id\":\"f6ad6dfa-5b6b-43ae-86f0-233b3a0703d6\",\"type\":\"LegendItem\"},{\"attributes\":{\"items\":[{\"id\":\"7f4b9ec6-05a6-46f0-967e-291e3f5d44b2\",\"type\":\"LegendItem\"},{\"id\":\"cc1939f8-3f20-40c5-b5da-478a1cfe2c04\",\"type\":\"LegendItem\"},{\"id\":\"f6ad6dfa-5b6b-43ae-86f0-233b3a0703d6\",\"type\":\"LegendItem\"}],\"plot\":{\"id\":\"0de23c7f-4ef8-44ce-aa49-62fdf469ca82\",\"subtype\":\"Figure\",\"type\":\"Plot\"}},\"id\":\"f748550a-5913-4c1b-b61a-3bd02bc63456\",\"type\":\"Legend\"},{\"attributes\":{\"overlay\":{\"id\":\"50591462-0a09-4283-9147-eca19f1c6b3e\",\"type\":\"BoxAnnotation\"},\"plot\":{\"id\":\"0de23c7f-4ef8-44ce-aa49-62fdf469ca82\",\"subtype\":\"Figure\",\"type\":\"Plot\"}},\"id\":\"f32f87d9-37cb-4a75-9ca9-ee465ad67719\",\"type\":\"BoxZoomTool\"},{\"attributes\":{},\"id\":\"cb56ed0e-d2d5-4c4e-85bd-470abf71a315\",\"type\":\"BasicTickFormatter\"},{\"attributes\":{\"active_drag\":\"auto\",\"active_scroll\":\"auto\",\"active_tap\":\"auto\",\"tools\":[{\"id\":\"f32f87d9-37cb-4a75-9ca9-ee465ad67719\",\"type\":\"BoxZoomTool\"},{\"id\":\"6299d456-a786-4119-8177-a298c191bbd1\",\"type\":\"BoxSelectTool\"},{\"id\":\"433cc802-a5ff-4452-8082-768df63e27f2\",\"type\":\"CrosshairTool\"},{\"id\":\"f35e409c-894d-405d-9a7c-f51a8a78ba7e\",\"type\":\"ResizeTool\"},{\"id\":\"7feebf1a-e4b9-4871-8436-8c00dfc14734\",\"type\":\"ResetTool\"},{\"id\":\"80b18e62-bc0b-4363-b98e-5cd172f18a0a\",\"type\":\"LassoSelectTool\"},{\"id\":\"238c9140-5d14-42a8-89e7-86f5fd6ecb1e\",\"type\":\"PanTool\"},{\"id\":\"7a83ad64-6115-438d-a28c-d00dabf757c9\",\"type\":\"SaveTool\"},{\"id\":\"0b0e0a34-5f17-44d6-a54f-675db7dd0a63\",\"type\":\"PolySelectTool\"},{\"id\":\"71b3784d-0f4f-48ee-84c6-115cfd52f10e\",\"type\":\"TapTool\"},{\"id\":\"4cd8f980-4dfb-4ac7-bdd9-ab39df937a49\",\"type\":\"WheelZoomTool\"},{\"id\":\"9d41b78b-efd8-457f-ada2-bd1116b1d9d4\",\"type\":\"UndoTool\"}]},\"id\":\"52e794c6-e701-40ae-a575-71b921d5380d\",\"type\":\"Toolbar\"},{\"attributes\":{\"align\":\"center\",\"plot\":null,\"text\":\"The Performance over the number of neurons' pruned\"},\"id\":\"fbb80caa-a9a9-4c69-a869-1d307d968cb1\",\"type\":\"Title\"},{\"attributes\":{\"line_alpha\":{\"value\":0.1},\"line_color\":{\"value\":\"#1f77b4\"},\"line_width\":{\"value\":2},\"x\":{\"field\":\"x\"},\"y\":{\"field\":\"y\"}},\"id\":\"ac40e93f-cb1b-421a-8655-113512e5c885\",\"type\":\"Line\"},{\"attributes\":{\"formatter\":{\"id\":\"cb56ed0e-d2d5-4c4e-85bd-470abf71a315\",\"type\":\"BasicTickFormatter\"},\"plot\":{\"id\":\"0de23c7f-4ef8-44ce-aa49-62fdf469ca82\",\"subtype\":\"Figure\",\"type\":\"Plot\"},\"ticker\":{\"id\":\"db3ba9e3-edc5-4a39-a0a9-8ebce4433665\",\"type\":\"BasicTicker\"}},\"id\":\"34c880fd-3780-4ba0-8d75-89bf7fa5266a\",\"type\":\"LinearAxis\"},{\"attributes\":{\"fill_alpha\":{\"value\":0.5},\"fill_color\":{\"value\":\"lightgrey\"},\"level\":\"overlay\",\"line_alpha\":{\"value\":1.0},\"line_color\":{\"value\":\"black\"},\"line_dash\":[4,4],\"line_width\":{\"value\":2},\"plot\":null,\"xs_units\":\"screen\",\"ys_units\":\"screen\"},\"id\":\"4a34162f-4fb5-4e07-ab6e-6f4b890ba6b7\",\"type\":\"PolyAnnotation\"},{\"attributes\":{\"label\":{\"value\":\"Thompson Sampling\"},\"renderers\":[{\"id\":\"0ed2502e-6dbf-4af8-8bc3-917937e2e904\",\"type\":\"GlyphRenderer\"}]},\"id\":\"cc1939f8-3f20-40c5-b5da-478a1cfe2c04\",\"type\":\"LegendItem\"},{\"attributes\":{\"label\":{\"value\":\"ucb1\"},\"renderers\":[{\"id\":\"95280da6-5e82-42b2-ad0c-788e77f167fa\",\"type\":\"GlyphRenderer\"}]},\"id\":\"7f4b9ec6-05a6-46f0-967e-291e3f5d44b2\",\"type\":\"LegendItem\"},{\"attributes\":{\"callback\":null,\"column_names\":[\"x\",\"y\"],\"data\":{\"x\":[0,1,2,3,4,5,6,7,8,9,10,11,12,13,14,15,16,17,18,19,20,21,22,23,24,25,26,27,28,29,30,31,32,33,34,35,36,37,38,39],\"y\":{\"__ndarray__\":\"YjTeV+ij4j9iNN5X6KPiP5rWnvxsseI/0nhfofG+4j97wdWtY5biP3vB1a1jluI/Qx8VCd+I4j9DHxUJ34jiP9Pak7/VbeI/C31UZFp74j8LfVRkWnviP0MfFQnfiOI/e8HVrWOW4j97wdWtY5biP3vB1a1jluI/KpIds2OW4j8qkh2zY5biPyqSHbNjluI/YjTeV+ij4j9DHxUJ34jiP5s40xpRYOI/09qTv9Vt4j8LfVRkWnviPwt9VGRae+I/C31UZFp74j8qkh2zY5biP7JjllLoo+I/e8HVrWOW4j+a1p78bLHiPykw6ZR/5+I/Qb3g6vrZ4j9g0qk5BPXiP/GNKPD62eI/0nhfofG+4j+A53IIEKPhP74RBaYi2eE/poQNUKfm4T/WbeLsK/ThP3MI6gXP5eA/vK/Qp7Un3z8=\",\"dtype\":\"float64\",\"shape\":[40]}}},\"id\":\"4b8e416d-87e1-4efb-84f8-4191d35cedbf\",\"type\":\"ColumnDataSource\"},{\"attributes\":{\"callback\":null},\"id\":\"1229e5ff-f8a8-48b1-8978-b936ab609304\",\"type\":\"DataRange1d\"},{\"attributes\":{\"callback\":null,\"overlay\":{\"id\":\"6f586c54-d709-49ba-92fa-69320943049d\",\"type\":\"BoxAnnotation\"},\"plot\":{\"id\":\"0de23c7f-4ef8-44ce-aa49-62fdf469ca82\",\"subtype\":\"Figure\",\"type\":\"Plot\"},\"renderers\":[{\"id\":\"95280da6-5e82-42b2-ad0c-788e77f167fa\",\"type\":\"GlyphRenderer\"},{\"id\":\"0ed2502e-6dbf-4af8-8bc3-917937e2e904\",\"type\":\"GlyphRenderer\"},{\"id\":\"17f81524-ba73-4fac-80ac-cfcb9aafd3ee\",\"type\":\"GlyphRenderer\"}]},\"id\":\"6299d456-a786-4119-8177-a298c191bbd1\",\"type\":\"BoxSelectTool\"},{\"attributes\":{\"line_color\":{\"value\":\"red\"},\"line_width\":{\"value\":2},\"x\":{\"field\":\"x\"},\"y\":{\"field\":\"y\"}},\"id\":\"bfdfe3d8-6d82-4b6e-887b-02e2a0121954\",\"type\":\"Line\"},{\"attributes\":{\"line_color\":{\"value\":\"blue\"},\"line_dash\":[4,4],\"line_width\":{\"value\":2},\"x\":{\"field\":\"x\"},\"y\":{\"field\":\"y\"}},\"id\":\"81782d73-8f5a-449c-860a-f817d4a1176e\",\"type\":\"Line\"},{\"attributes\":{\"callback\":null,\"plot\":{\"id\":\"0de23c7f-4ef8-44ce-aa49-62fdf469ca82\",\"subtype\":\"Figure\",\"type\":\"Plot\"}},\"id\":\"71b3784d-0f4f-48ee-84c6-115cfd52f10e\",\"type\":\"TapTool\"},{\"attributes\":{\"plot\":{\"id\":\"0de23c7f-4ef8-44ce-aa49-62fdf469ca82\",\"subtype\":\"Figure\",\"type\":\"Plot\"}},\"id\":\"9d41b78b-efd8-457f-ada2-bd1116b1d9d4\",\"type\":\"UndoTool\"},{\"attributes\":{\"plot\":{\"id\":\"0de23c7f-4ef8-44ce-aa49-62fdf469ca82\",\"subtype\":\"Figure\",\"type\":\"Plot\"}},\"id\":\"433cc802-a5ff-4452-8082-768df63e27f2\",\"type\":\"CrosshairTool\"},{\"attributes\":{\"formatter\":{\"id\":\"b5be2b68-9fda-4a55-a944-32753f05f9e2\",\"type\":\"BasicTickFormatter\"},\"plot\":{\"id\":\"0de23c7f-4ef8-44ce-aa49-62fdf469ca82\",\"subtype\":\"Figure\",\"type\":\"Plot\"},\"ticker\":{\"id\":\"8902af5e-20a4-40e4-8391-5e9e33aaff2c\",\"type\":\"BasicTicker\"}},\"id\":\"f2e26130-a59f-4e0d-ab29-12e5cfba248b\",\"type\":\"LinearAxis\"},{\"attributes\":{\"line_color\":{\"value\":\"green\"},\"line_width\":{\"value\":2},\"x\":{\"field\":\"x\"},\"y\":{\"field\":\"y\"}},\"id\":\"35966e87-8061-44ad-b785-f47c0fdc5199\",\"type\":\"Line\"},{\"attributes\":{\"callback\":null,\"column_names\":[\"x\",\"y\"],\"data\":{\"x\":[0,1,2,3,4,5,6,7,8,9,10,11,12,13,14,15,16,17,18,19,20,21,22,23,24,25,26,27,28,29,30,31,32,33,34,35,36,37,38,39],\"y\":[{\"__ndarray__\":\"gMBAHAZt4j8=\",\"dtype\":\"float64\",\"shape\":[]},{\"__ndarray__\":\"gMBAHAZt4j8=\",\"dtype\":\"float64\",\"shape\":[]},{\"__ndarray__\":\"gMBAHAZt4j8=\",\"dtype\":\"float64\",\"shape\":[]},{\"__ndarray__\":\"gMBAHAZt4j8=\",\"dtype\":\"float64\",\"shape\":[]},{\"__ndarray__\":\"gMBAHAZt4j8=\",\"dtype\":\"float64\",\"shape\":[]},{\"__ndarray__\":\"gMBAHAZt4j8=\",\"dtype\":\"float64\",\"shape\":[]},{\"__ndarray__\":\"gMBAHAZt4j8=\",\"dtype\":\"float64\",\"shape\":[]},{\"__ndarray__\":\"gMBAHAZt4j8=\",\"dtype\":\"float64\",\"shape\":[]},{\"__ndarray__\":\"gMBAHAZt4j8=\",\"dtype\":\"float64\",\"shape\":[]},{\"__ndarray__\":\"gMBAHAZt4j8=\",\"dtype\":\"float64\",\"shape\":[]},{\"__ndarray__\":\"gMBAHAZt4j8=\",\"dtype\":\"float64\",\"shape\":[]},{\"__ndarray__\":\"gMBAHAZt4j8=\",\"dtype\":\"float64\",\"shape\":[]},{\"__ndarray__\":\"gMBAHAZt4j8=\",\"dtype\":\"float64\",\"shape\":[]},{\"__ndarray__\":\"gMBAHAZt4j8=\",\"dtype\":\"float64\",\"shape\":[]},{\"__ndarray__\":\"gMBAHAZt4j8=\",\"dtype\":\"float64\",\"shape\":[]},{\"__ndarray__\":\"gMBAHAZt4j8=\",\"dtype\":\"float64\",\"shape\":[]},{\"__ndarray__\":\"gMBAHAZt4j8=\",\"dtype\":\"float64\",\"shape\":[]},{\"__ndarray__\":\"gMBAHAZt4j8=\",\"dtype\":\"float64\",\"shape\":[]},{\"__ndarray__\":\"gMBAHAZt4j8=\",\"dtype\":\"float64\",\"shape\":[]},{\"__ndarray__\":\"gMBAHAZt4j8=\",\"dtype\":\"float64\",\"shape\":[]},{\"__ndarray__\":\"gMBAHAZt4j8=\",\"dtype\":\"float64\",\"shape\":[]},{\"__ndarray__\":\"gMBAHAZt4j8=\",\"dtype\":\"float64\",\"shape\":[]},{\"__ndarray__\":\"gMBAHAZt4j8=\",\"dtype\":\"float64\",\"shape\":[]},{\"__ndarray__\":\"gMBAHAZt4j8=\",\"dtype\":\"float64\",\"shape\":[]},{\"__ndarray__\":\"gMBAHAZt4j8=\",\"dtype\":\"float64\",\"shape\":[]},{\"__ndarray__\":\"gMBAHAZt4j8=\",\"dtype\":\"float64\",\"shape\":[]},{\"__ndarray__\":\"gMBAHAZt4j8=\",\"dtype\":\"float64\",\"shape\":[]},{\"__ndarray__\":\"gMBAHAZt4j8=\",\"dtype\":\"float64\",\"shape\":[]},{\"__ndarray__\":\"gMBAHAZt4j8=\",\"dtype\":\"float64\",\"shape\":[]},{\"__ndarray__\":\"gMBAHAZt4j8=\",\"dtype\":\"float64\",\"shape\":[]},{\"__ndarray__\":\"gMBAHAZt4j8=\",\"dtype\":\"float64\",\"shape\":[]},{\"__ndarray__\":\"gMBAHAZt4j8=\",\"dtype\":\"float64\",\"shape\":[]},{\"__ndarray__\":\"gMBAHAZt4j8=\",\"dtype\":\"float64\",\"shape\":[]},{\"__ndarray__\":\"gMBAHAZt4j8=\",\"dtype\":\"float64\",\"shape\":[]},{\"__ndarray__\":\"gMBAHAZt4j8=\",\"dtype\":\"float64\",\"shape\":[]},{\"__ndarray__\":\"gMBAHAZt4j8=\",\"dtype\":\"float64\",\"shape\":[]},{\"__ndarray__\":\"gMBAHAZt4j8=\",\"dtype\":\"float64\",\"shape\":[]},{\"__ndarray__\":\"gMBAHAZt4j8=\",\"dtype\":\"float64\",\"shape\":[]},{\"__ndarray__\":\"gMBAHAZt4j8=\",\"dtype\":\"float64\",\"shape\":[]},{\"__ndarray__\":\"gMBAHAZt4j8=\",\"dtype\":\"float64\",\"shape\":[]}]}},\"id\":\"63c8fa12-023d-41f8-af54-5adfc31689ff\",\"type\":\"ColumnDataSource\"},{\"attributes\":{\"overlay\":{\"id\":\"4a34162f-4fb5-4e07-ab6e-6f4b890ba6b7\",\"type\":\"PolyAnnotation\"},\"plot\":{\"id\":\"0de23c7f-4ef8-44ce-aa49-62fdf469ca82\",\"subtype\":\"Figure\",\"type\":\"Plot\"}},\"id\":\"0b0e0a34-5f17-44d6-a54f-675db7dd0a63\",\"type\":\"PolySelectTool\"},{\"attributes\":{},\"id\":\"35233a70-b4ab-4020-ba91-10ea07249e13\",\"type\":\"ToolEvents\"},{\"attributes\":{\"data_source\":{\"id\":\"63c8fa12-023d-41f8-af54-5adfc31689ff\",\"type\":\"ColumnDataSource\"},\"glyph\":{\"id\":\"81782d73-8f5a-449c-860a-f817d4a1176e\",\"type\":\"Line\"},\"hover_glyph\":null,\"nonselection_glyph\":{\"id\":\"07e2bbb4-74a5-489c-b9b3-d101b926d223\",\"type\":\"Line\"},\"selection_glyph\":null},\"id\":\"17f81524-ba73-4fac-80ac-cfcb9aafd3ee\",\"type\":\"GlyphRenderer\"},{\"attributes\":{\"below\":[{\"id\":\"34c880fd-3780-4ba0-8d75-89bf7fa5266a\",\"type\":\"LinearAxis\"}],\"left\":[{\"id\":\"f2e26130-a59f-4e0d-ab29-12e5cfba248b\",\"type\":\"LinearAxis\"}],\"renderers\":[{\"id\":\"34c880fd-3780-4ba0-8d75-89bf7fa5266a\",\"type\":\"LinearAxis\"},{\"id\":\"4ffbef55-e905-499a-8b52-4e50648eb48e\",\"type\":\"Grid\"},{\"id\":\"f2e26130-a59f-4e0d-ab29-12e5cfba248b\",\"type\":\"LinearAxis\"},{\"id\":\"fde2ac35-8c3f-4f13-a5d1-5b9e1ebd1d19\",\"type\":\"Grid\"},{\"id\":\"50591462-0a09-4283-9147-eca19f1c6b3e\",\"type\":\"BoxAnnotation\"},{\"id\":\"6f586c54-d709-49ba-92fa-69320943049d\",\"type\":\"BoxAnnotation\"},{\"id\":\"62f4c64b-f548-46c0-b7f4-412d87582327\",\"type\":\"PolyAnnotation\"},{\"id\":\"4a34162f-4fb5-4e07-ab6e-6f4b890ba6b7\",\"type\":\"PolyAnnotation\"},{\"id\":\"f748550a-5913-4c1b-b61a-3bd02bc63456\",\"type\":\"Legend\"},{\"id\":\"95280da6-5e82-42b2-ad0c-788e77f167fa\",\"type\":\"GlyphRenderer\"},{\"id\":\"0ed2502e-6dbf-4af8-8bc3-917937e2e904\",\"type\":\"GlyphRenderer\"},{\"id\":\"17f81524-ba73-4fac-80ac-cfcb9aafd3ee\",\"type\":\"GlyphRenderer\"}],\"title\":{\"id\":\"fbb80caa-a9a9-4c69-a869-1d307d968cb1\",\"type\":\"Title\"},\"tool_events\":{\"id\":\"35233a70-b4ab-4020-ba91-10ea07249e13\",\"type\":\"ToolEvents\"},\"toolbar\":{\"id\":\"52e794c6-e701-40ae-a575-71b921d5380d\",\"type\":\"Toolbar\"},\"x_range\":{\"id\":\"1229e5ff-f8a8-48b1-8978-b936ab609304\",\"type\":\"DataRange1d\"},\"y_range\":{\"id\":\"518a3120-6c7f-4c62-b9cb-d3e1a287652b\",\"type\":\"DataRange1d\"}},\"id\":\"0de23c7f-4ef8-44ce-aa49-62fdf469ca82\",\"subtype\":\"Figure\",\"type\":\"Plot\"},{\"attributes\":{\"plot\":{\"id\":\"0de23c7f-4ef8-44ce-aa49-62fdf469ca82\",\"subtype\":\"Figure\",\"type\":\"Plot\"}},\"id\":\"f35e409c-894d-405d-9a7c-f51a8a78ba7e\",\"type\":\"ResizeTool\"},{\"attributes\":{\"bottom_units\":\"screen\",\"fill_alpha\":{\"value\":0.5},\"fill_color\":{\"value\":\"lightgrey\"},\"left_units\":\"screen\",\"level\":\"overlay\",\"line_alpha\":{\"value\":1.0},\"line_color\":{\"value\":\"black\"},\"line_dash\":[4,4],\"line_width\":{\"value\":2},\"plot\":null,\"render_mode\":\"css\",\"right_units\":\"screen\",\"top_units\":\"screen\"},\"id\":\"50591462-0a09-4283-9147-eca19f1c6b3e\",\"type\":\"BoxAnnotation\"},{\"attributes\":{\"data_source\":{\"id\":\"4b8e416d-87e1-4efb-84f8-4191d35cedbf\",\"type\":\"ColumnDataSource\"},\"glyph\":{\"id\":\"bfdfe3d8-6d82-4b6e-887b-02e2a0121954\",\"type\":\"Line\"},\"hover_glyph\":null,\"nonselection_glyph\":{\"id\":\"fccd6e60-226d-4627-a235-83e59546668a\",\"type\":\"Line\"},\"selection_glyph\":null},\"id\":\"0ed2502e-6dbf-4af8-8bc3-917937e2e904\",\"type\":\"GlyphRenderer\"},{\"attributes\":{},\"id\":\"db3ba9e3-edc5-4a39-a0a9-8ebce4433665\",\"type\":\"BasicTicker\"},{\"attributes\":{\"callback\":null,\"overlay\":{\"id\":\"62f4c64b-f548-46c0-b7f4-412d87582327\",\"type\":\"PolyAnnotation\"},\"plot\":{\"id\":\"0de23c7f-4ef8-44ce-aa49-62fdf469ca82\",\"subtype\":\"Figure\",\"type\":\"Plot\"}},\"id\":\"80b18e62-bc0b-4363-b98e-5cd172f18a0a\",\"type\":\"LassoSelectTool\"},{\"attributes\":{\"callback\":null},\"id\":\"518a3120-6c7f-4c62-b9cb-d3e1a287652b\",\"type\":\"DataRange1d\"}],\"root_ids\":[\"0de23c7f-4ef8-44ce-aa49-62fdf469ca82\"]},\"title\":\"Bokeh Application\",\"version\":\"0.12.4\"}};\n",
       "            var render_items = [{\"docid\":\"3b5075c7-c7fd-4460-ae17-ee21b4af1233\",\"elementid\":\"0bb69a52-1cb3-4f5c-8b12-686d02121c94\",\"modelid\":\"0de23c7f-4ef8-44ce-aa49-62fdf469ca82\"}];\n",
       "            \n",
       "            Bokeh.embed.embed_items(docs_json, render_items);\n",
       "          };\n",
       "          if (document.readyState != \"loading\") fn();\n",
       "          else document.addEventListener(\"DOMContentLoaded\", fn);\n",
       "        })();\n",
       "      },\n",
       "      function(Bokeh) {\n",
       "      }\n",
       "    ];\n",
       "  \n",
       "    function run_inline_js() {\n",
       "      \n",
       "      if ((window.Bokeh !== undefined) || (force === true)) {\n",
       "        for (var i = 0; i < inline_js.length; i++) {\n",
       "          inline_js[i](window.Bokeh);\n",
       "        }if (force === true) {\n",
       "          display_loaded();\n",
       "        }} else if (Date.now() < window._bokeh_timeout) {\n",
       "        setTimeout(run_inline_js, 100);\n",
       "      } else if (!window._bokeh_failed_load) {\n",
       "        console.log(\"Bokeh: BokehJS failed to load within specified timeout.\");\n",
       "        window._bokeh_failed_load = true;\n",
       "      } else if (force !== true) {\n",
       "        var cell = $(document.getElementById(\"0bb69a52-1cb3-4f5c-8b12-686d02121c94\")).parents('.cell').data().cell;\n",
       "        cell.output_area.append_execute_result(NB_LOAD_WARNING)\n",
       "      }\n",
       "  \n",
       "    }\n",
       "  \n",
       "    if (window._bokeh_is_loading === 0) {\n",
       "      console.log(\"Bokeh: BokehJS loaded, going straight to plotting\");\n",
       "      run_inline_js();\n",
       "    } else {\n",
       "      load_libs(js_urls, function() {\n",
       "        console.log(\"Bokeh: BokehJS plotting callback run at\", now());\n",
       "        run_inline_js();\n",
       "      });\n",
       "    }\n",
       "  }(this));\n",
       "</script>"
      ]
     },
     "metadata": {},
     "output_type": "display_data"
    }
   ],
   "source": [
    "p1 = figure(title=\"The Performance over the number of neurons' pruned\", tools=TOOLS)\n",
    "p1.line(ind, ucb1, legend=\"ucb1\", line_color=\"green\", line_width=2)\n",
    "p1.line(ind, ThompsonSampling, legend=\"Thompson Sampling\", line_color=\"red\", line_width=2)\n",
    "p1.line(ind, Acc, legend=\"Accuracy\", line_dash=(4, 4), line_color=\"blue\", line_width=2)\n",
    "p1.title.align = \"center\"\n",
    "show(p1)"
   ]
  }
 ],
 "metadata": {
  "kernelspec": {
   "display_name": "Python 3",
   "language": "python",
   "name": "python3"
  },
  "language_info": {
   "codemirror_mode": {
    "name": "ipython",
    "version": 3
   },
   "file_extension": ".py",
   "mimetype": "text/x-python",
   "name": "python",
   "nbconvert_exporter": "python",
   "pygments_lexer": "ipython3",
   "version": "3.6.0"
  }
 },
 "nbformat": 4,
 "nbformat_minor": 0
}
