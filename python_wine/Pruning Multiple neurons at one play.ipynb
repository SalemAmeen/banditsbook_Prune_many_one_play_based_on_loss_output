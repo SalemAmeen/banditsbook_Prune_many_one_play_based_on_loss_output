{
 "cells": [
  {
   "cell_type": "markdown",
   "metadata": {},
   "source": [
    "Compute the performance of MAB methods of pruning Multiple neurons at one time\n",
    "\n",
    "MAP for choosing multi arms at one time"
   ]
  },
  {
   "cell_type": "code",
   "execution_count": 1,
   "metadata": {
    "collapsed": true
   },
   "outputs": [],
   "source": [
    "import numpy as np\n",
    "import time\n",
    "import sys\n",
    "from numpy import *\n",
    "import matplotlib.pyplot as plt\n",
    "from sklearn import metrics\n",
    "%matplotlib inline\n",
    "#plt.rcParams['figure.figsize'] = (15, 6)"
   ]
  },
  {
   "cell_type": "markdown",
   "metadata": {},
   "source": [
    "# Load Bokeh"
   ]
  },
  {
   "cell_type": "code",
   "execution_count": 2,
   "metadata": {
    "collapsed": false
   },
   "outputs": [
    {
     "data": {
      "text/html": [
       "\n",
       "    <div class=\"bk-root\">\n",
       "        <a href=\"http://bokeh.pydata.org\" target=\"_blank\" class=\"bk-logo bk-logo-small bk-logo-notebook\"></a>\n",
       "        <span id=\"9efaa162-f35e-48fd-b0fc-7381571d2e2d\">Loading BokehJS ...</span>\n",
       "    </div>"
      ]
     },
     "metadata": {},
     "output_type": "display_data"
    },
    {
     "data": {
      "application/javascript": [
       "\n",
       "(function(global) {\n",
       "  function now() {\n",
       "    return new Date();\n",
       "  }\n",
       "\n",
       "  var force = true;\n",
       "\n",
       "  if (typeof (window._bokeh_onload_callbacks) === \"undefined\" || force === true) {\n",
       "    window._bokeh_onload_callbacks = [];\n",
       "    window._bokeh_is_loading = undefined;\n",
       "  }\n",
       "\n",
       "\n",
       "  \n",
       "  if (typeof (window._bokeh_timeout) === \"undefined\" || force === true) {\n",
       "    window._bokeh_timeout = Date.now() + 5000;\n",
       "    window._bokeh_failed_load = false;\n",
       "  }\n",
       "\n",
       "  var NB_LOAD_WARNING = {'data': {'text/html':\n",
       "     \"<div style='background-color: #fdd'>\\n\"+\n",
       "     \"<p>\\n\"+\n",
       "     \"BokehJS does not appear to have successfully loaded. If loading BokehJS from CDN, this \\n\"+\n",
       "     \"may be due to a slow or bad network connection. Possible fixes:\\n\"+\n",
       "     \"</p>\\n\"+\n",
       "     \"<ul>\\n\"+\n",
       "     \"<li>re-rerun `output_notebook()` to attempt to load from CDN again, or</li>\\n\"+\n",
       "     \"<li>use INLINE resources instead, as so:</li>\\n\"+\n",
       "     \"</ul>\\n\"+\n",
       "     \"<code>\\n\"+\n",
       "     \"from bokeh.resources import INLINE\\n\"+\n",
       "     \"output_notebook(resources=INLINE)\\n\"+\n",
       "     \"</code>\\n\"+\n",
       "     \"</div>\"}};\n",
       "\n",
       "  function display_loaded() {\n",
       "    if (window.Bokeh !== undefined) {\n",
       "      document.getElementById(\"9efaa162-f35e-48fd-b0fc-7381571d2e2d\").textContent = \"BokehJS successfully loaded.\";\n",
       "    } else if (Date.now() < window._bokeh_timeout) {\n",
       "      setTimeout(display_loaded, 100)\n",
       "    }\n",
       "  }\n",
       "\n",
       "  function run_callbacks() {\n",
       "    window._bokeh_onload_callbacks.forEach(function(callback) { callback() });\n",
       "    delete window._bokeh_onload_callbacks\n",
       "    console.info(\"Bokeh: all callbacks have finished\");\n",
       "  }\n",
       "\n",
       "  function load_libs(js_urls, callback) {\n",
       "    window._bokeh_onload_callbacks.push(callback);\n",
       "    if (window._bokeh_is_loading > 0) {\n",
       "      console.log(\"Bokeh: BokehJS is being loaded, scheduling callback at\", now());\n",
       "      return null;\n",
       "    }\n",
       "    if (js_urls == null || js_urls.length === 0) {\n",
       "      run_callbacks();\n",
       "      return null;\n",
       "    }\n",
       "    console.log(\"Bokeh: BokehJS not loaded, scheduling load and callback at\", now());\n",
       "    window._bokeh_is_loading = js_urls.length;\n",
       "    for (var i = 0; i < js_urls.length; i++) {\n",
       "      var url = js_urls[i];\n",
       "      var s = document.createElement('script');\n",
       "      s.src = url;\n",
       "      s.async = false;\n",
       "      s.onreadystatechange = s.onload = function() {\n",
       "        window._bokeh_is_loading--;\n",
       "        if (window._bokeh_is_loading === 0) {\n",
       "          console.log(\"Bokeh: all BokehJS libraries loaded\");\n",
       "          run_callbacks()\n",
       "        }\n",
       "      };\n",
       "      s.onerror = function() {\n",
       "        console.warn(\"failed to load library \" + url);\n",
       "      };\n",
       "      console.log(\"Bokeh: injecting script tag for BokehJS library: \", url);\n",
       "      document.getElementsByTagName(\"head\")[0].appendChild(s);\n",
       "    }\n",
       "  };var element = document.getElementById(\"9efaa162-f35e-48fd-b0fc-7381571d2e2d\");\n",
       "  if (element == null) {\n",
       "    console.log(\"Bokeh: ERROR: autoload.js configured with elementid '9efaa162-f35e-48fd-b0fc-7381571d2e2d' but no matching script tag was found. \")\n",
       "    return false;\n",
       "  }\n",
       "\n",
       "  var js_urls = [\"https://cdn.pydata.org/bokeh/release/bokeh-0.12.4.min.js\", \"https://cdn.pydata.org/bokeh/release/bokeh-widgets-0.12.4.min.js\"];\n",
       "\n",
       "  var inline_js = [\n",
       "    function(Bokeh) {\n",
       "      Bokeh.set_log_level(\"info\");\n",
       "    },\n",
       "    \n",
       "    function(Bokeh) {\n",
       "      \n",
       "      document.getElementById(\"9efaa162-f35e-48fd-b0fc-7381571d2e2d\").textContent = \"BokehJS is loading...\";\n",
       "    },\n",
       "    function(Bokeh) {\n",
       "      console.log(\"Bokeh: injecting CSS: https://cdn.pydata.org/bokeh/release/bokeh-0.12.4.min.css\");\n",
       "      Bokeh.embed.inject_css(\"https://cdn.pydata.org/bokeh/release/bokeh-0.12.4.min.css\");\n",
       "      console.log(\"Bokeh: injecting CSS: https://cdn.pydata.org/bokeh/release/bokeh-widgets-0.12.4.min.css\");\n",
       "      Bokeh.embed.inject_css(\"https://cdn.pydata.org/bokeh/release/bokeh-widgets-0.12.4.min.css\");\n",
       "    }\n",
       "  ];\n",
       "\n",
       "  function run_inline_js() {\n",
       "    \n",
       "    if ((window.Bokeh !== undefined) || (force === true)) {\n",
       "      for (var i = 0; i < inline_js.length; i++) {\n",
       "        inline_js[i](window.Bokeh);\n",
       "      }if (force === true) {\n",
       "        display_loaded();\n",
       "      }} else if (Date.now() < window._bokeh_timeout) {\n",
       "      setTimeout(run_inline_js, 100);\n",
       "    } else if (!window._bokeh_failed_load) {\n",
       "      console.log(\"Bokeh: BokehJS failed to load within specified timeout.\");\n",
       "      window._bokeh_failed_load = true;\n",
       "    } else if (force !== true) {\n",
       "      var cell = $(document.getElementById(\"9efaa162-f35e-48fd-b0fc-7381571d2e2d\")).parents('.cell').data().cell;\n",
       "      cell.output_area.append_execute_result(NB_LOAD_WARNING)\n",
       "    }\n",
       "\n",
       "  }\n",
       "\n",
       "  if (window._bokeh_is_loading === 0) {\n",
       "    console.log(\"Bokeh: BokehJS loaded, going straight to plotting\");\n",
       "    run_inline_js();\n",
       "  } else {\n",
       "    load_libs(js_urls, function() {\n",
       "      console.log(\"Bokeh: BokehJS plotting callback run at\", now());\n",
       "      run_inline_js();\n",
       "    });\n",
       "  }\n",
       "}(this));"
      ]
     },
     "metadata": {},
     "output_type": "display_data"
    }
   ],
   "source": [
    "from bokeh.layouts import row, gridplot\n",
    "from bokeh.plotting import figure, output_notebook, show\n",
    "from bokeh.models import Legend\n",
    "TOOLS = 'box_zoom,box_select,crosshair,resize,reset,lasso_select,pan,save,poly_select,tap,wheel_zoom,undo'\n",
    "output_notebook()"
   ]
  },
  {
   "cell_type": "markdown",
   "metadata": {},
   "source": [
    "# Load the data"
   ]
  },
  {
   "cell_type": "code",
   "execution_count": 3,
   "metadata": {
    "collapsed": false
   },
   "outputs": [
    {
     "name": "stdout",
     "output_type": "stream",
     "text": [
      "Number of training examples 113\n",
      "Number of validation examples 29\n",
      "Number of testing examples 36\n"
     ]
    }
   ],
   "source": [
    "X_train = np.load('./wine/X_train.npy')\n",
    "y_train = np.load('./wine/y_train.npy')\n",
    "X_test = np.load('./wine/X_test.npy')\n",
    "y_test = np.load('./wine/y_test.npy')\n",
    "X_deploy = np.load('./wine/X_deploy.npy')\n",
    "y_deploy = np.load('./wine/y_deploy.npy')\n",
    "print('Number of training examples',len(X_train))\n",
    "print('Number of validation examples',len(X_test))\n",
    "print('Number of testing examples',len(X_deploy))"
   ]
  },
  {
   "cell_type": "code",
   "execution_count": 4,
   "metadata": {
    "collapsed": false
   },
   "outputs": [],
   "source": [
    "exec(open(\"core.py\").read())  # pyhton 3x"
   ]
  },
  {
   "cell_type": "markdown",
   "metadata": {},
   "source": [
    "## Run Thompson Sampling pruning Algorithm"
   ]
  },
  {
   "cell_type": "code",
   "execution_count": 5,
   "metadata": {
    "collapsed": false
   },
   "outputs": [
    {
     "name": "stdout",
     "output_type": "stream",
     "text": [
      "29 test samples\n"
     ]
    },
    {
     "name": "stderr",
     "output_type": "stream",
     "text": [
      "/Library/Frameworks/Python.framework/Versions/3.6/lib/python3.6/site-packages/sklearn/cross_validation.py:44: DeprecationWarning: This module was deprecated in version 0.18 in favor of the model_selection module into which all the refactored classes and functions are moved. Also note that the interface of the new CV iterators are different from that of this module. This module will be removed in 0.20.\n",
      "  \"This module will be removed in 0.20.\", DeprecationWarning)\n",
      "Using Theano backend.\n"
     ]
    },
    {
     "name": "stdout",
     "output_type": "stream",
     "text": [
      "Test score: 0.111571490765\n",
      "Test accuracy: 0.965517222881\n",
      "The time for running this method is 4.942629098892212 seconds \n",
      "Finsh playing start pruining:\n",
      "Test accuracy after pruning: 1.0\n",
      "Test accuracy after pruning: 1.0\n",
      "Test accuracy after pruning: 1.0\n",
      "Test accuracy after pruning: 1.0\n",
      "Test accuracy after pruning: 0.972222222222\n",
      "Test accuracy after pruning: 0.972222222222\n",
      "Test accuracy after pruning: 0.972222222222\n",
      "Test accuracy after pruning: 0.972222222222\n",
      "Test accuracy after pruning: 0.972222222222\n",
      "Test accuracy after pruning: 0.972222222222\n",
      "Test accuracy after pruning: 0.972222222222\n",
      "Test accuracy after pruning: 0.944444444444\n",
      "Test accuracy after pruning: 0.916666666667\n",
      "Test accuracy after pruning: 0.916666666667\n",
      "Test accuracy after pruning: 0.861111111111\n",
      "Test accuracy after pruning: 0.888888888889\n",
      "Test accuracy after pruning: 0.888888888889\n",
      "Test accuracy after pruning: 0.888888888889\n",
      "Test accuracy after pruning: 0.972222222222\n",
      "Test accuracy after pruning: 0.972222222222\n",
      "Test accuracy after pruning: 0.972222222222\n",
      "Test accuracy after pruning: 0.972222222222\n",
      "Test accuracy after pruning: 1.0\n",
      "Test accuracy after pruning: 1.0\n",
      "Test accuracy after pruning: 1.0\n",
      "Test accuracy after pruning: 0.972222222222\n",
      "Test accuracy after pruning: 1.0\n",
      "Test accuracy after pruning: 1.0\n",
      "Test accuracy after pruning: 0.972222222222\n",
      "Test accuracy after pruning: 0.777777777778\n",
      "Test accuracy after pruning: 0.805555555556\n",
      "Test accuracy after pruning: 0.805555555556\n",
      "Test accuracy after pruning: 0.805555555556\n",
      "Test accuracy after pruning: 0.638888888889\n",
      "Test accuracy after pruning: 0.444444444444\n"
     ]
    },
    {
     "data": {
      "image/png": "[encoded data removed]",
      "text/plain": [
       "<matplotlib.figure.Figure at 0x10e5019e8>"
      ]
     },
     "metadata": {},
     "output_type": "display_data"
    }
   ],
   "source": [
    "algo = Thompson_Sampling([], [])\n",
    "Alg_name = 'Thompson_Sampling Algorithm'\n",
    "path = './Thompson_Sampling/'\n",
    "sys.path.append(\"./Thompson_Sampling\")\n",
    "exec(open(\"mnist_cnnFORTESTING.py\").read())"
   ]
  },
  {
   "cell_type": "markdown",
   "metadata": {},
   "source": [
    "## Run UCB1 pruning Algorithm"
   ]
  },
  {
   "cell_type": "code",
   "execution_count": 6,
   "metadata": {
    "collapsed": false
   },
   "outputs": [
    {
     "name": "stdout",
     "output_type": "stream",
     "text": [
      "29 test samples\n",
      "Test score: 0.111571490765\n",
      "Test accuracy: 0.965517222881\n",
      "The time for running this method is 4.876536846160889 seconds \n",
      "Finsh playing start pruining:\n",
      "Test accuracy after pruning: 1.0\n",
      "Test accuracy after pruning: 1.0\n",
      "Test accuracy after pruning: 1.0\n",
      "Test accuracy after pruning: 1.0\n",
      "Test accuracy after pruning: 1.0\n",
      "Test accuracy after pruning: 1.0\n",
      "Test accuracy after pruning: 1.0\n",
      "Test accuracy after pruning: 1.0\n",
      "Test accuracy after pruning: 1.0\n",
      "Test accuracy after pruning: 1.0\n",
      "Test accuracy after pruning: 1.0\n",
      "Test accuracy after pruning: 1.0\n",
      "Test accuracy after pruning: 1.0\n",
      "Test accuracy after pruning: 1.0\n",
      "Test accuracy after pruning: 1.0\n",
      "Test accuracy after pruning: 1.0\n",
      "Test accuracy after pruning: 1.0\n",
      "Test accuracy after pruning: 1.0\n",
      "Test accuracy after pruning: 1.0\n",
      "Test accuracy after pruning: 1.0\n",
      "Test accuracy after pruning: 1.0\n",
      "Test accuracy after pruning: 1.0\n",
      "Test accuracy after pruning: 1.0\n",
      "Test accuracy after pruning: 1.0\n",
      "Test accuracy after pruning: 1.0\n",
      "Test accuracy after pruning: 0.861111111111\n",
      "Test accuracy after pruning: 0.861111111111\n",
      "Test accuracy after pruning: 0.861111111111\n",
      "Test accuracy after pruning: 0.861111111111\n",
      "Test accuracy after pruning: 0.833333333333\n",
      "Test accuracy after pruning: 0.833333333333\n",
      "Test accuracy after pruning: 0.638888888889\n",
      "Test accuracy after pruning: 0.444444444444\n",
      "Test accuracy after pruning: 0.444444444444\n",
      "Test accuracy after pruning: 0.444444444444\n"
     ]
    },
    {
     "data": {
      "image/png": "[encoded data removed]",
      "text/plain": [
       "<matplotlib.figure.Figure at 0x10e71d9e8>"
      ]
     },
     "metadata": {},
     "output_type": "display_data"
    }
   ],
   "source": [
    "algo = UCB1([], [])\n",
    "Alg_name = 'UCB1 Algorithm'\n",
    "path = './UCB1/'\n",
    "sys.path.append(\"./UCB1\")\n",
    "exec(open(\"mnist_cnnFORTESTING.py\").read())"
   ]
  },
  {
   "cell_type": "markdown",
   "metadata": {
    "collapsed": true
   },
   "source": [
    "# Compare the accuracy"
   ]
  },
  {
   "cell_type": "code",
   "execution_count": 7,
   "metadata": {
    "collapsed": true
   },
   "outputs": [],
   "source": [
    "ucb1 = np.load('./UCB1/AccuracyAftrerPrune.npy')\n",
    "ThompsonSampling = np.load('./Thompson_Sampling/AccuracyAftrerPrune.npy')\n",
    "Accuracy = np.load('AccuracyBeforePruning.npy')"
   ]
  },
  {
   "cell_type": "code",
   "execution_count": 8,
   "metadata": {
    "collapsed": false
   },
   "outputs": [
    {
     "data": {
      "image/png": "[encoded data removed]",
      "text/plain": [
       "<matplotlib.figure.Figure at 0x10e64f748>"
      ]
     },
     "metadata": {},
     "output_type": "display_data"
    }
   ],
   "source": [
    "fig = plt.figure(figsize=(10, 6), dpi=80)\n",
    "ax = fig.add_subplot(111)\n",
    "N = len(ucb1)\n",
    "ind = np.arange(N)                # the x locations for the groups\n",
    "plt.plot(ind , ucb1 , color=\"blue\", linewidth=2.5, linestyle=\"-\", label=\"UCB1\")\n",
    "plt.plot(ind , ThompsonSampling, color=\"orange\", linewidth=2.5, linestyle=\"-\", label=\"Thompson Sampling\")\n",
    "plt.legend(loc = 3)\n",
    "plt.axis([0, 25, 0, 1])\n",
    "plt.xlabel('Number of pruned Neurons')\n",
    "plt.ylabel('The Accuracy')\n",
    "plt.grid(True)\n",
    "plt.show()"
   ]
  },
  {
   "cell_type": "code",
   "execution_count": 9,
   "metadata": {
    "collapsed": false
   },
   "outputs": [
    {
     "data": {
      "text/html": [
       "\n",
       "\n",
       "    <div class=\"bk-root\">\n",
       "        <div class=\"bk-plotdiv\" id=\"958be7ac-4c88-480b-a927-df0280695a1c\"></div>\n",
       "    </div>\n",
       "<script type=\"text/javascript\">\n",
       "  \n",
       "  (function(global) {\n",
       "    function now() {\n",
       "      return new Date();\n",
       "    }\n",
       "  \n",
       "    var force = false;\n",
       "  \n",
       "    if (typeof (window._bokeh_onload_callbacks) === \"undefined\" || force === true) {\n",
       "      window._bokeh_onload_callbacks = [];\n",
       "      window._bokeh_is_loading = undefined;\n",
       "    }\n",
       "  \n",
       "  \n",
       "    \n",
       "    if (typeof (window._bokeh_timeout) === \"undefined\" || force === true) {\n",
       "      window._bokeh_timeout = Date.now() + 0;\n",
       "      window._bokeh_failed_load = false;\n",
       "    }\n",
       "  \n",
       "    var NB_LOAD_WARNING = {'data': {'text/html':\n",
       "       \"<div style='background-color: #fdd'>\\n\"+\n",
       "       \"<p>\\n\"+\n",
       "       \"BokehJS does not appear to have successfully loaded. If loading BokehJS from CDN, this \\n\"+\n",
       "       \"may be due to a slow or bad network connection. Possible fixes:\\n\"+\n",
       "       \"</p>\\n\"+\n",
       "       \"<ul>\\n\"+\n",
       "       \"<li>re-rerun `output_notebook()` to attempt to load from CDN again, or</li>\\n\"+\n",
       "       \"<li>use INLINE resources instead, as so:</li>\\n\"+\n",
       "       \"</ul>\\n\"+\n",
       "       \"<code>\\n\"+\n",
       "       \"from bokeh.resources import INLINE\\n\"+\n",
       "       \"output_notebook(resources=INLINE)\\n\"+\n",
       "       \"</code>\\n\"+\n",
       "       \"</div>\"}};\n",
       "  \n",
       "    function display_loaded() {\n",
       "      if (window.Bokeh !== undefined) {\n",
       "        document.getElementById(\"958be7ac-4c88-480b-a927-df0280695a1c\").textContent = \"BokehJS successfully loaded.\";\n",
       "      } else if (Date.now() < window._bokeh_timeout) {\n",
       "        setTimeout(display_loaded, 100)\n",
       "      }\n",
       "    }\n",
       "  \n",
       "    function run_callbacks() {\n",
       "      window._bokeh_onload_callbacks.forEach(function(callback) { callback() });\n",
       "      delete window._bokeh_onload_callbacks\n",
       "      console.info(\"Bokeh: all callbacks have finished\");\n",
       "    }\n",
       "  \n",
       "    function load_libs(js_urls, callback) {\n",
       "      window._bokeh_onload_callbacks.push(callback);\n",
       "      if (window._bokeh_is_loading > 0) {\n",
       "        console.log(\"Bokeh: BokehJS is being loaded, scheduling callback at\", now());\n",
       "        return null;\n",
       "      }\n",
       "      if (js_urls == null || js_urls.length === 0) {\n",
       "        run_callbacks();\n",
       "        return null;\n",
       "      }\n",
       "      console.log(\"Bokeh: BokehJS not loaded, scheduling load and callback at\", now());\n",
       "      window._bokeh_is_loading = js_urls.length;\n",
       "      for (var i = 0; i < js_urls.length; i++) {\n",
       "        var url = js_urls[i];\n",
       "        var s = document.createElement('script');\n",
       "        s.src = url;\n",
       "        s.async = false;\n",
       "        s.onreadystatechange = s.onload = function() {\n",
       "          window._bokeh_is_loading--;\n",
       "          if (window._bokeh_is_loading === 0) {\n",
       "            console.log(\"Bokeh: all BokehJS libraries loaded\");\n",
       "            run_callbacks()\n",
       "          }\n",
       "        };\n",
       "        s.onerror = function() {\n",
       "          console.warn(\"failed to load library \" + url);\n",
       "        };\n",
       "        console.log(\"Bokeh: injecting script tag for BokehJS library: \", url);\n",
       "        document.getElementsByTagName(\"head\")[0].appendChild(s);\n",
       "      }\n",
       "    };var element = document.getElementById(\"958be7ac-4c88-480b-a927-df0280695a1c\");\n",
       "    if (element == null) {\n",
       "      console.log(\"Bokeh: ERROR: autoload.js configured with elementid '958be7ac-4c88-480b-a927-df0280695a1c' but no matching script tag was found. \")\n",
       "      return false;\n",
       "    }\n",
       "  \n",
       "    var js_urls = [];\n",
       "  \n",
       "    var inline_js = [\n",
       "      function(Bokeh) {\n",
       "        (function() {\n",
       "          var fn = function() {\n",
       "            var docs_json = {\"8abd7746-1442-4f66-a739-0478f2ff8719\":{\"roots\":{\"references\":[{\"attributes\":{\"data_source\":{\"id\":\"a0643609-59ed-4859-858b-da55bc36aea1\",\"type\":\"ColumnDataSource\"},\"glyph\":{\"id\":\"44c4d221-4715-431f-b305-d95b2bfb3f17\",\"type\":\"Line\"},\"hover_glyph\":null,\"nonselection_glyph\":{\"id\":\"371927fc-4227-45e6-b314-13fc59f7510e\",\"type\":\"Line\"},\"selection_glyph\":null},\"id\":\"3e9d05df-b11a-4821-b0aa-b6000f127737\",\"type\":\"GlyphRenderer\"},{\"attributes\":{\"overlay\":{\"id\":\"20a9ff59-8128-4139-a68a-3f86742f63d0\",\"type\":\"PolyAnnotation\"},\"plot\":{\"id\":\"555476d6-e123-4e0e-8a0e-06a4bc7b65f6\",\"subtype\":\"Figure\",\"type\":\"Plot\"}},\"id\":\"ac8da035-5b3d-4591-908d-4a892868af38\",\"type\":\"PolySelectTool\"},{\"attributes\":{\"callback\":null,\"overlay\":{\"id\":\"77d1de43-c417-4477-bb56-a1d5cf5e4a1e\",\"type\":\"BoxAnnotation\"},\"plot\":{\"id\":\"555476d6-e123-4e0e-8a0e-06a4bc7b65f6\",\"subtype\":\"Figure\",\"type\":\"Plot\"},\"renderers\":[{\"id\":\"3e9d05df-b11a-4821-b0aa-b6000f127737\",\"type\":\"GlyphRenderer\"},{\"id\":\"a65bc072-238e-47a0-a393-8008687475f1\",\"type\":\"GlyphRenderer\"}]},\"id\":\"bc3e5283-8b74-4237-9345-c48611ce557d\",\"type\":\"BoxSelectTool\"},{\"attributes\":{\"fill_alpha\":{\"value\":0.5},\"fill_color\":{\"value\":\"lightgrey\"},\"level\":\"overlay\",\"line_alpha\":{\"value\":1.0},\"line_color\":{\"value\":\"black\"},\"line_dash\":[4,4],\"line_width\":{\"value\":2},\"plot\":null,\"xs_units\":\"screen\",\"ys_units\":\"screen\"},\"id\":\"20a9ff59-8128-4139-a68a-3f86742f63d0\",\"type\":\"PolyAnnotation\"},{\"attributes\":{\"plot\":{\"id\":\"555476d6-e123-4e0e-8a0e-06a4bc7b65f6\",\"subtype\":\"Figure\",\"type\":\"Plot\"}},\"id\":\"99915991-f95d-4d69-a9a1-35465da2557e\",\"type\":\"CrosshairTool\"},{\"attributes\":{\"below\":[{\"id\":\"0de112f9-07fc-4220-aa98-334370f4f86b\",\"type\":\"LinearAxis\"}],\"left\":[{\"id\":\"48a56e3f-9118-4095-b749-4574c763298c\",\"type\":\"LinearAxis\"}],\"renderers\":[{\"id\":\"0de112f9-07fc-4220-aa98-334370f4f86b\",\"type\":\"LinearAxis\"},{\"id\":\"1e7ff7f5-5db5-4561-8297-96daa5bdfca9\",\"type\":\"Grid\"},{\"id\":\"48a56e3f-9118-4095-b749-4574c763298c\",\"type\":\"LinearAxis\"},{\"id\":\"3fc40007-63ad-4af8-b79e-6864b755c877\",\"type\":\"Grid\"},{\"id\":\"12d9497e-a0af-470b-ae8d-67eda96f211d\",\"type\":\"BoxAnnotation\"},{\"id\":\"77d1de43-c417-4477-bb56-a1d5cf5e4a1e\",\"type\":\"BoxAnnotation\"},{\"id\":\"26086dff-ba90-4a65-bc4a-3999cde8b2fe\",\"type\":\"PolyAnnotation\"},{\"id\":\"20a9ff59-8128-4139-a68a-3f86742f63d0\",\"type\":\"PolyAnnotation\"},{\"id\":\"2c1a5ef4-b229-4037-b9c1-d4a73f492328\",\"type\":\"Legend\"},{\"id\":\"3e9d05df-b11a-4821-b0aa-b6000f127737\",\"type\":\"GlyphRenderer\"},{\"id\":\"a65bc072-238e-47a0-a393-8008687475f1\",\"type\":\"GlyphRenderer\"}],\"title\":{\"id\":\"cce58181-0b71-4449-9b54-eaacb89672a4\",\"type\":\"Title\"},\"tool_events\":{\"id\":\"15f68960-571d-41cf-b0e4-2b66abe22b76\",\"type\":\"ToolEvents\"},\"toolbar\":{\"id\":\"11a2e396-2537-4c6c-9988-933b890b79d4\",\"type\":\"Toolbar\"},\"x_range\":{\"id\":\"b4f3da4b-c2af-4e49-92f1-a73ff063da67\",\"type\":\"DataRange1d\"},\"y_range\":{\"id\":\"57cc6b1d-05d4-4953-98a9-f7b9b5675dd8\",\"type\":\"DataRange1d\"}},\"id\":\"555476d6-e123-4e0e-8a0e-06a4bc7b65f6\",\"subtype\":\"Figure\",\"type\":\"Plot\"},{\"attributes\":{\"line_color\":{\"value\":\"blue\"},\"line_width\":{\"value\":2},\"x\":{\"field\":\"x\"},\"y\":{\"field\":\"y\"}},\"id\":\"44c4d221-4715-431f-b305-d95b2bfb3f17\",\"type\":\"Line\"},{\"attributes\":{\"line_color\":{\"value\":\"red\"},\"line_width\":{\"value\":2},\"x\":{\"field\":\"x\"},\"y\":{\"field\":\"y\"}},\"id\":\"962ea109-bea8-4816-b8bd-6e797922a7df\",\"type\":\"Line\"},{\"attributes\":{\"plot\":{\"id\":\"555476d6-e123-4e0e-8a0e-06a4bc7b65f6\",\"subtype\":\"Figure\",\"type\":\"Plot\"}},\"id\":\"8b94c1f2-9634-4a90-8496-fcc4c6b4b14d\",\"type\":\"ResizeTool\"},{\"attributes\":{\"callback\":null,\"column_names\":[\"x\",\"y\"],\"data\":{\"x\":[0,1,2,3,4,5,6,7,8,9,10,11,12,13,14,15,16,17,18,19,20,21,22,23,24,25,26,27,28,29,30,31,32,33,34],\"y\":{\"__ndarray__\":\"AAAAAAAA8D8AAAAAAADwPwAAAAAAAPA/AAAAAAAA8D8AAAAAAADwPwAAAAAAAPA/AAAAAAAA8D8AAAAAAADwPwAAAAAAAPA/AAAAAAAA8D8AAAAAAADwPwAAAAAAAPA/AAAAAAAA8D8AAAAAAADwPwAAAAAAAPA/AAAAAAAA8D8AAAAAAADwPwAAAAAAAPA/AAAAAAAA8D8AAAAAAADwPwAAAAAAAPA/AAAAAAAA8D8AAAAAAADwPwAAAAAAAPA/AAAAAAAA8D/kOI7jOI7rP+Q4juM4jus/5DiO4ziO6z/kOI7jOI7rP6uqqqqqquo/q6qqqqqq6j8cx3Ecx3HkPxzHcRzHcdw/HMdxHMdx3D8cx3Ecx3HcPw==\",\"dtype\":\"float64\",\"shape\":[35]}}},\"id\":\"a0643609-59ed-4859-858b-da55bc36aea1\",\"type\":\"ColumnDataSource\"},{\"attributes\":{\"plot\":{\"id\":\"555476d6-e123-4e0e-8a0e-06a4bc7b65f6\",\"subtype\":\"Figure\",\"type\":\"Plot\"}},\"id\":\"b2a8d518-8c0a-439f-984c-df9f7683146c\",\"type\":\"WheelZoomTool\"},{\"attributes\":{},\"id\":\"66cd8a39-0d2b-4ee5-a78e-736d9b70988e\",\"type\":\"BasicTicker\"},{\"attributes\":{\"items\":[{\"id\":\"751a5934-87fd-4ea2-b4d8-262010feb7e0\",\"type\":\"LegendItem\"},{\"id\":\"11679797-c7fc-4d9a-bb45-4fbe0a62e545\",\"type\":\"LegendItem\"}],\"plot\":{\"id\":\"555476d6-e123-4e0e-8a0e-06a4bc7b65f6\",\"subtype\":\"Figure\",\"type\":\"Plot\"}},\"id\":\"2c1a5ef4-b229-4037-b9c1-d4a73f492328\",\"type\":\"Legend\"},{\"attributes\":{\"callback\":null},\"id\":\"b4f3da4b-c2af-4e49-92f1-a73ff063da67\",\"type\":\"DataRange1d\"},{\"attributes\":{\"align\":\"center\",\"plot\":null,\"text\":\"The Performance over the number of neurons' pruned\"},\"id\":\"cce58181-0b71-4449-9b54-eaacb89672a4\",\"type\":\"Title\"},{\"attributes\":{\"plot\":{\"id\":\"555476d6-e123-4e0e-8a0e-06a4bc7b65f6\",\"subtype\":\"Figure\",\"type\":\"Plot\"},\"ticker\":{\"id\":\"a60b7c25-1760-48d6-af03-abb7fd4d041b\",\"type\":\"BasicTicker\"}},\"id\":\"1e7ff7f5-5db5-4561-8297-96daa5bdfca9\",\"type\":\"Grid\"},{\"attributes\":{\"formatter\":{\"id\":\"c1c6f53d-9f82-47d9-a64f-df664d14153b\",\"type\":\"BasicTickFormatter\"},\"plot\":{\"id\":\"555476d6-e123-4e0e-8a0e-06a4bc7b65f6\",\"subtype\":\"Figure\",\"type\":\"Plot\"},\"ticker\":{\"id\":\"66cd8a39-0d2b-4ee5-a78e-736d9b70988e\",\"type\":\"BasicTicker\"}},\"id\":\"48a56e3f-9118-4095-b749-4574c763298c\",\"type\":\"LinearAxis\"},{\"attributes\":{\"callback\":null,\"overlay\":{\"id\":\"26086dff-ba90-4a65-bc4a-3999cde8b2fe\",\"type\":\"PolyAnnotation\"},\"plot\":{\"id\":\"555476d6-e123-4e0e-8a0e-06a4bc7b65f6\",\"subtype\":\"Figure\",\"type\":\"Plot\"}},\"id\":\"96cf1b7a-69a7-4e5b-b2ca-2d5a99b98b0f\",\"type\":\"LassoSelectTool\"},{\"attributes\":{\"line_alpha\":{\"value\":0.1},\"line_color\":{\"value\":\"#1f77b4\"},\"line_width\":{\"value\":2},\"x\":{\"field\":\"x\"},\"y\":{\"field\":\"y\"}},\"id\":\"6def6920-ce92-4755-80df-5ad0e7d7df75\",\"type\":\"Line\"},{\"attributes\":{\"bottom_units\":\"screen\",\"fill_alpha\":{\"value\":0.5},\"fill_color\":{\"value\":\"lightgrey\"},\"left_units\":\"screen\",\"level\":\"overlay\",\"line_alpha\":{\"value\":1.0},\"line_color\":{\"value\":\"black\"},\"line_dash\":[4,4],\"line_width\":{\"value\":2},\"plot\":null,\"render_mode\":\"css\",\"right_units\":\"screen\",\"top_units\":\"screen\"},\"id\":\"77d1de43-c417-4477-bb56-a1d5cf5e4a1e\",\"type\":\"BoxAnnotation\"},{\"attributes\":{},\"id\":\"15f68960-571d-41cf-b0e4-2b66abe22b76\",\"type\":\"ToolEvents\"},{\"attributes\":{\"callback\":null},\"id\":\"57cc6b1d-05d4-4953-98a9-f7b9b5675dd8\",\"type\":\"DataRange1d\"},{\"attributes\":{\"callback\":null,\"column_names\":[\"x\",\"y\"],\"data\":{\"x\":[0,1,2,3,4,5,6,7,8,9,10,11,12,13,14,15,16,17,18,19,20,21,22,23,24,25,26,27,28,29,30,31,32,33,34],\"y\":{\"__ndarray__\":\"AAAAAAAA8D8AAAAAAADwPwAAAAAAAPA/AAAAAAAA8D/HcRzHcRzvP8dxHMdxHO8/x3Ecx3Ec7z/HcRzHcRzvP8dxHMdxHO8/x3Ecx3Ec7z/HcRzHcRzvP47jOI7jOO4/VVVVVVVV7T9VVVVVVVXtP+Q4juM4jus/HMdxHMdx7D8cx3Ecx3HsPxzHcRzHcew/x3Ecx3Ec7z/HcRzHcRzvP8dxHMdxHO8/x3Ecx3Ec7z8AAAAAAADwPwAAAAAAAPA/AAAAAAAA8D/HcRzHcRzvPwAAAAAAAPA/AAAAAAAA8D/HcRzHcRzvPzmO4ziO4+g/chzHcRzH6T9yHMdxHMfpP3Icx3Ecx+k/HMdxHMdx5D8cx3Ecx3HcPw==\",\"dtype\":\"float64\",\"shape\":[35]}}},\"id\":\"1fb1f301-a2f7-4bc6-a138-3cb891c82039\",\"type\":\"ColumnDataSource\"},{\"attributes\":{\"callback\":null,\"plot\":{\"id\":\"555476d6-e123-4e0e-8a0e-06a4bc7b65f6\",\"subtype\":\"Figure\",\"type\":\"Plot\"}},\"id\":\"d1f2c069-020b-4fa8-a90f-18c9a3283d3f\",\"type\":\"TapTool\"},{\"attributes\":{\"line_alpha\":{\"value\":0.1},\"line_color\":{\"value\":\"#1f77b4\"},\"line_width\":{\"value\":2},\"x\":{\"field\":\"x\"},\"y\":{\"field\":\"y\"}},\"id\":\"371927fc-4227-45e6-b314-13fc59f7510e\",\"type\":\"Line\"},{\"attributes\":{\"plot\":{\"id\":\"555476d6-e123-4e0e-8a0e-06a4bc7b65f6\",\"subtype\":\"Figure\",\"type\":\"Plot\"}},\"id\":\"3a8cc0d3-eda6-4350-aa02-6d2a13e37877\",\"type\":\"PanTool\"},{\"attributes\":{},\"id\":\"a60b7c25-1760-48d6-af03-abb7fd4d041b\",\"type\":\"BasicTicker\"},{\"attributes\":{},\"id\":\"c1c6f53d-9f82-47d9-a64f-df664d14153b\",\"type\":\"BasicTickFormatter\"},{\"attributes\":{\"plot\":{\"id\":\"555476d6-e123-4e0e-8a0e-06a4bc7b65f6\",\"subtype\":\"Figure\",\"type\":\"Plot\"}},\"id\":\"9f50ef84-eb2d-4a4f-b3e1-91a5919eb5e5\",\"type\":\"SaveTool\"},{\"attributes\":{\"label\":{\"value\":\"ucb1\"},\"renderers\":[{\"id\":\"3e9d05df-b11a-4821-b0aa-b6000f127737\",\"type\":\"GlyphRenderer\"}]},\"id\":\"751a5934-87fd-4ea2-b4d8-262010feb7e0\",\"type\":\"LegendItem\"},{\"attributes\":{\"dimension\":1,\"plot\":{\"id\":\"555476d6-e123-4e0e-8a0e-06a4bc7b65f6\",\"subtype\":\"Figure\",\"type\":\"Plot\"},\"ticker\":{\"id\":\"66cd8a39-0d2b-4ee5-a78e-736d9b70988e\",\"type\":\"BasicTicker\"}},\"id\":\"3fc40007-63ad-4af8-b79e-6864b755c877\",\"type\":\"Grid\"},{\"attributes\":{\"active_drag\":\"auto\",\"active_scroll\":\"auto\",\"active_tap\":\"auto\",\"tools\":[{\"id\":\"3a3d549a-c6a5-4444-8485-eea4a7eca98a\",\"type\":\"BoxZoomTool\"},{\"id\":\"bc3e5283-8b74-4237-9345-c48611ce557d\",\"type\":\"BoxSelectTool\"},{\"id\":\"99915991-f95d-4d69-a9a1-35465da2557e\",\"type\":\"CrosshairTool\"},{\"id\":\"8b94c1f2-9634-4a90-8496-fcc4c6b4b14d\",\"type\":\"ResizeTool\"},{\"id\":\"1be0f902-4ada-49dc-ad6e-915a7431b52b\",\"type\":\"ResetTool\"},{\"id\":\"96cf1b7a-69a7-4e5b-b2ca-2d5a99b98b0f\",\"type\":\"LassoSelectTool\"},{\"id\":\"3a8cc0d3-eda6-4350-aa02-6d2a13e37877\",\"type\":\"PanTool\"},{\"id\":\"9f50ef84-eb2d-4a4f-b3e1-91a5919eb5e5\",\"type\":\"SaveTool\"},{\"id\":\"ac8da035-5b3d-4591-908d-4a892868af38\",\"type\":\"PolySelectTool\"},{\"id\":\"d1f2c069-020b-4fa8-a90f-18c9a3283d3f\",\"type\":\"TapTool\"},{\"id\":\"b2a8d518-8c0a-439f-984c-df9f7683146c\",\"type\":\"WheelZoomTool\"},{\"id\":\"4a859d15-58cf-4799-ad31-5915bada5bd0\",\"type\":\"UndoTool\"}]},\"id\":\"11a2e396-2537-4c6c-9988-933b890b79d4\",\"type\":\"Toolbar\"},{\"attributes\":{\"plot\":{\"id\":\"555476d6-e123-4e0e-8a0e-06a4bc7b65f6\",\"subtype\":\"Figure\",\"type\":\"Plot\"}},\"id\":\"4a859d15-58cf-4799-ad31-5915bada5bd0\",\"type\":\"UndoTool\"},{\"attributes\":{},\"id\":\"64b566c0-177b-4a1e-be79-71df8fa78c49\",\"type\":\"BasicTickFormatter\"},{\"attributes\":{\"formatter\":{\"id\":\"64b566c0-177b-4a1e-be79-71df8fa78c49\",\"type\":\"BasicTickFormatter\"},\"plot\":{\"id\":\"555476d6-e123-4e0e-8a0e-06a4bc7b65f6\",\"subtype\":\"Figure\",\"type\":\"Plot\"},\"ticker\":{\"id\":\"a60b7c25-1760-48d6-af03-abb7fd4d041b\",\"type\":\"BasicTicker\"}},\"id\":\"0de112f9-07fc-4220-aa98-334370f4f86b\",\"type\":\"LinearAxis\"},{\"attributes\":{\"plot\":{\"id\":\"555476d6-e123-4e0e-8a0e-06a4bc7b65f6\",\"subtype\":\"Figure\",\"type\":\"Plot\"}},\"id\":\"1be0f902-4ada-49dc-ad6e-915a7431b52b\",\"type\":\"ResetTool\"},{\"attributes\":{\"bottom_units\":\"screen\",\"fill_alpha\":{\"value\":0.5},\"fill_color\":{\"value\":\"lightgrey\"},\"left_units\":\"screen\",\"level\":\"overlay\",\"line_alpha\":{\"value\":1.0},\"line_color\":{\"value\":\"black\"},\"line_dash\":[4,4],\"line_width\":{\"value\":2},\"plot\":null,\"render_mode\":\"css\",\"right_units\":\"screen\",\"top_units\":\"screen\"},\"id\":\"12d9497e-a0af-470b-ae8d-67eda96f211d\",\"type\":\"BoxAnnotation\"},{\"attributes\":{\"overlay\":{\"id\":\"12d9497e-a0af-470b-ae8d-67eda96f211d\",\"type\":\"BoxAnnotation\"},\"plot\":{\"id\":\"555476d6-e123-4e0e-8a0e-06a4bc7b65f6\",\"subtype\":\"Figure\",\"type\":\"Plot\"}},\"id\":\"3a3d549a-c6a5-4444-8485-eea4a7eca98a\",\"type\":\"BoxZoomTool\"},{\"attributes\":{\"fill_alpha\":{\"value\":0.5},\"fill_color\":{\"value\":\"lightgrey\"},\"level\":\"overlay\",\"line_alpha\":{\"value\":1.0},\"line_color\":{\"value\":\"black\"},\"line_dash\":[4,4],\"line_width\":{\"value\":2},\"plot\":null,\"xs_units\":\"screen\",\"ys_units\":\"screen\"},\"id\":\"26086dff-ba90-4a65-bc4a-3999cde8b2fe\",\"type\":\"PolyAnnotation\"},{\"attributes\":{\"data_source\":{\"id\":\"1fb1f301-a2f7-4bc6-a138-3cb891c82039\",\"type\":\"ColumnDataSource\"},\"glyph\":{\"id\":\"962ea109-bea8-4816-b8bd-6e797922a7df\",\"type\":\"Line\"},\"hover_glyph\":null,\"nonselection_glyph\":{\"id\":\"6def6920-ce92-4755-80df-5ad0e7d7df75\",\"type\":\"Line\"},\"selection_glyph\":null},\"id\":\"a65bc072-238e-47a0-a393-8008687475f1\",\"type\":\"GlyphRenderer\"},{\"attributes\":{\"label\":{\"value\":\"Thompson Sampling\"},\"renderers\":[{\"id\":\"a65bc072-238e-47a0-a393-8008687475f1\",\"type\":\"GlyphRenderer\"}]},\"id\":\"11679797-c7fc-4d9a-bb45-4fbe0a62e545\",\"type\":\"LegendItem\"}],\"root_ids\":[\"555476d6-e123-4e0e-8a0e-06a4bc7b65f6\"]},\"title\":\"Bokeh Application\",\"version\":\"0.12.4\"}};\n",
       "            var render_items = [{\"docid\":\"8abd7746-1442-4f66-a739-0478f2ff8719\",\"elementid\":\"958be7ac-4c88-480b-a927-df0280695a1c\",\"modelid\":\"555476d6-e123-4e0e-8a0e-06a4bc7b65f6\"}];\n",
       "            \n",
       "            Bokeh.embed.embed_items(docs_json, render_items);\n",
       "          };\n",
       "          if (document.readyState != \"loading\") fn();\n",
       "          else document.addEventListener(\"DOMContentLoaded\", fn);\n",
       "        })();\n",
       "      },\n",
       "      function(Bokeh) {\n",
       "      }\n",
       "    ];\n",
       "  \n",
       "    function run_inline_js() {\n",
       "      \n",
       "      if ((window.Bokeh !== undefined) || (force === true)) {\n",
       "        for (var i = 0; i < inline_js.length; i++) {\n",
       "          inline_js[i](window.Bokeh);\n",
       "        }if (force === true) {\n",
       "          display_loaded();\n",
       "        }} else if (Date.now() < window._bokeh_timeout) {\n",
       "        setTimeout(run_inline_js, 100);\n",
       "      } else if (!window._bokeh_failed_load) {\n",
       "        console.log(\"Bokeh: BokehJS failed to load within specified timeout.\");\n",
       "        window._bokeh_failed_load = true;\n",
       "      } else if (force !== true) {\n",
       "        var cell = $(document.getElementById(\"958be7ac-4c88-480b-a927-df0280695a1c\")).parents('.cell').data().cell;\n",
       "        cell.output_area.append_execute_result(NB_LOAD_WARNING)\n",
       "      }\n",
       "  \n",
       "    }\n",
       "  \n",
       "    if (window._bokeh_is_loading === 0) {\n",
       "      console.log(\"Bokeh: BokehJS loaded, going straight to plotting\");\n",
       "      run_inline_js();\n",
       "    } else {\n",
       "      load_libs(js_urls, function() {\n",
       "        console.log(\"Bokeh: BokehJS plotting callback run at\", now());\n",
       "        run_inline_js();\n",
       "      });\n",
       "    }\n",
       "  }(this));\n",
       "</script>"
      ]
     },
     "metadata": {},
     "output_type": "display_data"
    }
   ],
   "source": [
    "p1 = figure(title=\"The Performance over the number of neurons' pruned\", tools=TOOLS)\n",
    "p1.line(ind, ucb1, legend=\"ucb1\", line_color=\"blue\", line_width=2)\n",
    "p1.line(ind, ThompsonSampling, legend=\"Thompson Sampling\", line_color=\"red\", line_width=2)\n",
    "p1.title.align = \"center\"\n",
    "show(p1)"
   ]
  },
  {
   "cell_type": "markdown",
   "metadata": {},
   "source": [
    "# Comparing All algorithms with the model before pruning"
   ]
  },
  {
   "cell_type": "code",
   "execution_count": 10,
   "metadata": {
    "collapsed": false
   },
   "outputs": [
    {
     "data": {
      "image/png": "[encoded data removed]",
      "text/plain": [
       "<matplotlib.figure.Figure at 0x10e94bd30>"
      ]
     },
     "metadata": {},
     "output_type": "display_data"
    }
   ],
   "source": [
    "fig = plt.figure(figsize=(10, 6), dpi=80)\n",
    "ax = fig.add_subplot(111)\n",
    "N = len(ucb1)\n",
    "Acc = [Accuracy for col in range(N)]\n",
    "ind = np.arange(N)                # the x locations for the groups\n",
    "plt.plot(ind , ucb1 , color=\"blue\", linewidth=2.5, linestyle=\"-\", label=\"UCB1\")\n",
    "plt.plot(ind , ThompsonSampling, color=\"orange\", linewidth=2.5, linestyle=\"-\", label=\"Thompson Sampling\")\n",
    "plt.plot(ind , Acc, color=\"pink\", linewidth=2.5, linestyle=\"-\", label=\"Accuracy before Pruning\")\n",
    "plt.legend(loc = 3)\n",
    "plt.axis([0, 25, 0, 1])\n",
    "plt.xlabel('Number of pruned Neurons')\n",
    "plt.ylabel('The Accuracy')\n",
    "plt.grid(True)\n",
    "plt.show()"
   ]
  },
  {
   "cell_type": "code",
   "execution_count": 11,
   "metadata": {
    "collapsed": false
   },
   "outputs": [
    {
     "data": {
      "text/html": [
       "\n",
       "\n",
       "    <div class=\"bk-root\">\n",
       "        <div class=\"bk-plotdiv\" id=\"4c0c20f1-c9dd-4ca9-869f-0ed9d7b832ea\"></div>\n",
       "    </div>\n",
       "<script type=\"text/javascript\">\n",
       "  \n",
       "  (function(global) {\n",
       "    function now() {\n",
       "      return new Date();\n",
       "    }\n",
       "  \n",
       "    var force = false;\n",
       "  \n",
       "    if (typeof (window._bokeh_onload_callbacks) === \"undefined\" || force === true) {\n",
       "      window._bokeh_onload_callbacks = [];\n",
       "      window._bokeh_is_loading = undefined;\n",
       "    }\n",
       "  \n",
       "  \n",
       "    \n",
       "    if (typeof (window._bokeh_timeout) === \"undefined\" || force === true) {\n",
       "      window._bokeh_timeout = Date.now() + 0;\n",
       "      window._bokeh_failed_load = false;\n",
       "    }\n",
       "  \n",
       "    var NB_LOAD_WARNING = {'data': {'text/html':\n",
       "       \"<div style='background-color: #fdd'>\\n\"+\n",
       "       \"<p>\\n\"+\n",
       "       \"BokehJS does not appear to have successfully loaded. If loading BokehJS from CDN, this \\n\"+\n",
       "       \"may be due to a slow or bad network connection. Possible fixes:\\n\"+\n",
       "       \"</p>\\n\"+\n",
       "       \"<ul>\\n\"+\n",
       "       \"<li>re-rerun `output_notebook()` to attempt to load from CDN again, or</li>\\n\"+\n",
       "       \"<li>use INLINE resources instead, as so:</li>\\n\"+\n",
       "       \"</ul>\\n\"+\n",
       "       \"<code>\\n\"+\n",
       "       \"from bokeh.resources import INLINE\\n\"+\n",
       "       \"output_notebook(resources=INLINE)\\n\"+\n",
       "       \"</code>\\n\"+\n",
       "       \"</div>\"}};\n",
       "  \n",
       "    function display_loaded() {\n",
       "      if (window.Bokeh !== undefined) {\n",
       "        document.getElementById(\"4c0c20f1-c9dd-4ca9-869f-0ed9d7b832ea\").textContent = \"BokehJS successfully loaded.\";\n",
       "      } else if (Date.now() < window._bokeh_timeout) {\n",
       "        setTimeout(display_loaded, 100)\n",
       "      }\n",
       "    }\n",
       "  \n",
       "    function run_callbacks() {\n",
       "      window._bokeh_onload_callbacks.forEach(function(callback) { callback() });\n",
       "      delete window._bokeh_onload_callbacks\n",
       "      console.info(\"Bokeh: all callbacks have finished\");\n",
       "    }\n",
       "  \n",
       "    function load_libs(js_urls, callback) {\n",
       "      window._bokeh_onload_callbacks.push(callback);\n",
       "      if (window._bokeh_is_loading > 0) {\n",
       "        console.log(\"Bokeh: BokehJS is being loaded, scheduling callback at\", now());\n",
       "        return null;\n",
       "      }\n",
       "      if (js_urls == null || js_urls.length === 0) {\n",
       "        run_callbacks();\n",
       "        return null;\n",
       "      }\n",
       "      console.log(\"Bokeh: BokehJS not loaded, scheduling load and callback at\", now());\n",
       "      window._bokeh_is_loading = js_urls.length;\n",
       "      for (var i = 0; i < js_urls.length; i++) {\n",
       "        var url = js_urls[i];\n",
       "        var s = document.createElement('script');\n",
       "        s.src = url;\n",
       "        s.async = false;\n",
       "        s.onreadystatechange = s.onload = function() {\n",
       "          window._bokeh_is_loading--;\n",
       "          if (window._bokeh_is_loading === 0) {\n",
       "            console.log(\"Bokeh: all BokehJS libraries loaded\");\n",
       "            run_callbacks()\n",
       "          }\n",
       "        };\n",
       "        s.onerror = function() {\n",
       "          console.warn(\"failed to load library \" + url);\n",
       "        };\n",
       "        console.log(\"Bokeh: injecting script tag for BokehJS library: \", url);\n",
       "        document.getElementsByTagName(\"head\")[0].appendChild(s);\n",
       "      }\n",
       "    };var element = document.getElementById(\"4c0c20f1-c9dd-4ca9-869f-0ed9d7b832ea\");\n",
       "    if (element == null) {\n",
       "      console.log(\"Bokeh: ERROR: autoload.js configured with elementid '4c0c20f1-c9dd-4ca9-869f-0ed9d7b832ea' but no matching script tag was found. \")\n",
       "      return false;\n",
       "    }\n",
       "  \n",
       "    var js_urls = [];\n",
       "  \n",
       "    var inline_js = [\n",
       "      function(Bokeh) {\n",
       "        (function() {\n",
       "          var fn = function() {\n",
       "            var docs_json = {\"a8d37ebb-4285-4042-9a99-0481f468a0b6\":{\"roots\":{\"references\":[{\"attributes\":{\"callback\":null,\"column_names\":[\"x\",\"y\"],\"data\":{\"x\":[0,1,2,3,4,5,6,7,8,9,10,11,12,13,14,15,16,17,18,19,20,21,22,23,24,25,26,27,28,29,30,31,32,33,34],\"y\":{\"__ndarray__\":\"AAAAAAAA8D8AAAAAAADwPwAAAAAAAPA/AAAAAAAA8D/HcRzHcRzvP8dxHMdxHO8/x3Ecx3Ec7z/HcRzHcRzvP8dxHMdxHO8/x3Ecx3Ec7z/HcRzHcRzvP47jOI7jOO4/VVVVVVVV7T9VVVVVVVXtP+Q4juM4jus/HMdxHMdx7D8cx3Ecx3HsPxzHcRzHcew/x3Ecx3Ec7z/HcRzHcRzvP8dxHMdxHO8/x3Ecx3Ec7z8AAAAAAADwPwAAAAAAAPA/AAAAAAAA8D/HcRzHcRzvPwAAAAAAAPA/AAAAAAAA8D/HcRzHcRzvPzmO4ziO4+g/chzHcRzH6T9yHMdxHMfpP3Icx3Ecx+k/HMdxHMdx5D8cx3Ecx3HcPw==\",\"dtype\":\"float64\",\"shape\":[35]}}},\"id\":\"b11ab688-59e6-48a9-bf53-9cb75c266529\",\"type\":\"ColumnDataSource\"},{\"attributes\":{\"callback\":null,\"overlay\":{\"id\":\"228d061b-7be1-4623-ad4c-12cf6c5f5542\",\"type\":\"BoxAnnotation\"},\"plot\":{\"id\":\"df9cf6bc-51bc-4018-ad3b-3f6c9afd1ff1\",\"subtype\":\"Figure\",\"type\":\"Plot\"},\"renderers\":[{\"id\":\"f1c3d9fb-6f91-4934-940e-66404918b0b5\",\"type\":\"GlyphRenderer\"},{\"id\":\"f2a2de36-ad30-4dae-a87b-c9f56666e89a\",\"type\":\"GlyphRenderer\"},{\"id\":\"1e5d01a5-4685-463c-99ae-1283e9345d8a\",\"type\":\"GlyphRenderer\"}]},\"id\":\"b38222d5-8f77-4d64-a834-c9aacb13d6d5\",\"type\":\"BoxSelectTool\"},{\"attributes\":{\"below\":[{\"id\":\"30453bae-6fb2-441a-92b5-e9fb23701f0d\",\"type\":\"LinearAxis\"}],\"left\":[{\"id\":\"79db496b-7537-4386-b0ff-748092051b80\",\"type\":\"LinearAxis\"}],\"renderers\":[{\"id\":\"30453bae-6fb2-441a-92b5-e9fb23701f0d\",\"type\":\"LinearAxis\"},{\"id\":\"818d7263-4015-4aa2-be41-d7c9113fdbad\",\"type\":\"Grid\"},{\"id\":\"79db496b-7537-4386-b0ff-748092051b80\",\"type\":\"LinearAxis\"},{\"id\":\"25bb6136-b44a-49da-8d27-324d2484ca66\",\"type\":\"Grid\"},{\"id\":\"1141ff35-59ec-4549-ba14-08fea150d7c6\",\"type\":\"BoxAnnotation\"},{\"id\":\"228d061b-7be1-4623-ad4c-12cf6c5f5542\",\"type\":\"BoxAnnotation\"},{\"id\":\"ced8cf02-d9dc-47ac-8bbf-26ac5a5435c8\",\"type\":\"PolyAnnotation\"},{\"id\":\"4da26a8d-70f8-4045-8f4a-b9a11461669a\",\"type\":\"PolyAnnotation\"},{\"id\":\"4bcf4d87-4b77-4e90-abba-a9023bd15cfa\",\"type\":\"Legend\"},{\"id\":\"f1c3d9fb-6f91-4934-940e-66404918b0b5\",\"type\":\"GlyphRenderer\"},{\"id\":\"f2a2de36-ad30-4dae-a87b-c9f56666e89a\",\"type\":\"GlyphRenderer\"},{\"id\":\"1e5d01a5-4685-463c-99ae-1283e9345d8a\",\"type\":\"GlyphRenderer\"}],\"title\":{\"id\":\"829474d1-9ccc-4bc5-a3f3-ba3087f043f8\",\"type\":\"Title\"},\"tool_events\":{\"id\":\"916b8fd2-1acb-4080-99cb-0b1c41217266\",\"type\":\"ToolEvents\"},\"toolbar\":{\"id\":\"350fc698-3cdf-49ac-8e46-a283b2560742\",\"type\":\"Toolbar\"},\"x_range\":{\"id\":\"1b78a924-9709-4564-9005-c6a0251dcba5\",\"type\":\"DataRange1d\"},\"y_range\":{\"id\":\"d552dfed-4576-4589-bab9-94da0917caa9\",\"type\":\"DataRange1d\"}},\"id\":\"df9cf6bc-51bc-4018-ad3b-3f6c9afd1ff1\",\"subtype\":\"Figure\",\"type\":\"Plot\"},{\"attributes\":{\"items\":[{\"id\":\"3f5eb75a-b402-4817-a6bf-15ed05ae6188\",\"type\":\"LegendItem\"},{\"id\":\"13413939-0d7a-4329-b463-48e95ffc6168\",\"type\":\"LegendItem\"},{\"id\":\"f3eae911-5873-443a-9037-54828094fe4e\",\"type\":\"LegendItem\"}],\"plot\":{\"id\":\"df9cf6bc-51bc-4018-ad3b-3f6c9afd1ff1\",\"subtype\":\"Figure\",\"type\":\"Plot\"}},\"id\":\"4bcf4d87-4b77-4e90-abba-a9023bd15cfa\",\"type\":\"Legend\"},{\"attributes\":{\"callback\":null,\"overlay\":{\"id\":\"ced8cf02-d9dc-47ac-8bbf-26ac5a5435c8\",\"type\":\"PolyAnnotation\"},\"plot\":{\"id\":\"df9cf6bc-51bc-4018-ad3b-3f6c9afd1ff1\",\"subtype\":\"Figure\",\"type\":\"Plot\"}},\"id\":\"07486ba6-e87f-4e5c-8f8f-605c31ffeef1\",\"type\":\"LassoSelectTool\"},{\"attributes\":{},\"id\":\"1a9ed70e-8dba-4432-aa73-ec2d373dfda5\",\"type\":\"BasicTicker\"},{\"attributes\":{\"callback\":null},\"id\":\"1b78a924-9709-4564-9005-c6a0251dcba5\",\"type\":\"DataRange1d\"},{\"attributes\":{\"line_alpha\":{\"value\":0.1},\"line_color\":{\"value\":\"#1f77b4\"},\"line_width\":{\"value\":2},\"x\":{\"field\":\"x\"},\"y\":{\"field\":\"y\"}},\"id\":\"0c649cf9-17f4-4650-9778-b3c81c986107\",\"type\":\"Line\"},{\"attributes\":{},\"id\":\"cb847dae-3cf5-429a-a73f-951014ef69e8\",\"type\":\"BasicTickFormatter\"},{\"attributes\":{\"line_color\":{\"value\":\"red\"},\"line_width\":{\"value\":2},\"x\":{\"field\":\"x\"},\"y\":{\"field\":\"y\"}},\"id\":\"a2ac54f4-cd4e-4117-9775-9950c45889fa\",\"type\":\"Line\"},{\"attributes\":{\"formatter\":{\"id\":\"c812c144-35a7-475b-a452-f7ec8f5fafcf\",\"type\":\"BasicTickFormatter\"},\"plot\":{\"id\":\"df9cf6bc-51bc-4018-ad3b-3f6c9afd1ff1\",\"subtype\":\"Figure\",\"type\":\"Plot\"},\"ticker\":{\"id\":\"afb4d731-48e6-4cfb-b776-0a8ce1fa45b3\",\"type\":\"BasicTicker\"}},\"id\":\"30453bae-6fb2-441a-92b5-e9fb23701f0d\",\"type\":\"LinearAxis\"},{\"attributes\":{\"label\":{\"value\":\"ucb1\"},\"renderers\":[{\"id\":\"f1c3d9fb-6f91-4934-940e-66404918b0b5\",\"type\":\"GlyphRenderer\"}]},\"id\":\"3f5eb75a-b402-4817-a6bf-15ed05ae6188\",\"type\":\"LegendItem\"},{\"attributes\":{\"plot\":{\"id\":\"df9cf6bc-51bc-4018-ad3b-3f6c9afd1ff1\",\"subtype\":\"Figure\",\"type\":\"Plot\"}},\"id\":\"994fed48-0b3f-47a4-aff8-99e29d90271e\",\"type\":\"PanTool\"},{\"attributes\":{\"plot\":{\"id\":\"df9cf6bc-51bc-4018-ad3b-3f6c9afd1ff1\",\"subtype\":\"Figure\",\"type\":\"Plot\"}},\"id\":\"b03f86ec-4467-4e8f-b1a6-65a20323b9e1\",\"type\":\"CrosshairTool\"},{\"attributes\":{\"line_alpha\":{\"value\":0.1},\"line_color\":{\"value\":\"#1f77b4\"},\"line_dash\":[4,4],\"line_width\":{\"value\":2},\"x\":{\"field\":\"x\"},\"y\":{\"field\":\"y\"}},\"id\":\"c6c42012-eb30-4b2a-af08-604693c42cde\",\"type\":\"Line\"},{\"attributes\":{\"active_drag\":\"auto\",\"active_scroll\":\"auto\",\"active_tap\":\"auto\",\"tools\":[{\"id\":\"8602b59e-6565-4858-b852-ab4a07a30b94\",\"type\":\"BoxZoomTool\"},{\"id\":\"b38222d5-8f77-4d64-a834-c9aacb13d6d5\",\"type\":\"BoxSelectTool\"},{\"id\":\"b03f86ec-4467-4e8f-b1a6-65a20323b9e1\",\"type\":\"CrosshairTool\"},{\"id\":\"d898e8f4-631c-4833-a46f-1d6a211058ae\",\"type\":\"ResizeTool\"},{\"id\":\"12ed1f61-f66f-4275-9585-e21d1be44fe2\",\"type\":\"ResetTool\"},{\"id\":\"07486ba6-e87f-4e5c-8f8f-605c31ffeef1\",\"type\":\"LassoSelectTool\"},{\"id\":\"994fed48-0b3f-47a4-aff8-99e29d90271e\",\"type\":\"PanTool\"},{\"id\":\"e664e1af-d9c9-41ee-a873-17675059b445\",\"type\":\"SaveTool\"},{\"id\":\"f2c1fbc4-54dc-416d-aa09-8d3b9dded801\",\"type\":\"PolySelectTool\"},{\"id\":\"a420f37f-5d28-42b5-bf1f-ea19603ce7a3\",\"type\":\"TapTool\"},{\"id\":\"99057aeb-6d2f-4e8b-a46c-1883b6668119\",\"type\":\"WheelZoomTool\"},{\"id\":\"5c9b523a-56a0-4214-8b23-e7461ececc98\",\"type\":\"UndoTool\"}]},\"id\":\"350fc698-3cdf-49ac-8e46-a283b2560742\",\"type\":\"Toolbar\"},{\"attributes\":{\"plot\":{\"id\":\"df9cf6bc-51bc-4018-ad3b-3f6c9afd1ff1\",\"subtype\":\"Figure\",\"type\":\"Plot\"}},\"id\":\"99057aeb-6d2f-4e8b-a46c-1883b6668119\",\"type\":\"WheelZoomTool\"},{\"attributes\":{\"line_color\":{\"value\":\"green\"},\"line_width\":{\"value\":2},\"x\":{\"field\":\"x\"},\"y\":{\"field\":\"y\"}},\"id\":\"e9431c93-01dc-4d1f-b67a-5a02abe96b9b\",\"type\":\"Line\"},{\"attributes\":{},\"id\":\"916b8fd2-1acb-4080-99cb-0b1c41217266\",\"type\":\"ToolEvents\"},{\"attributes\":{\"fill_alpha\":{\"value\":0.5},\"fill_color\":{\"value\":\"lightgrey\"},\"level\":\"overlay\",\"line_alpha\":{\"value\":1.0},\"line_color\":{\"value\":\"black\"},\"line_dash\":[4,4],\"line_width\":{\"value\":2},\"plot\":null,\"xs_units\":\"screen\",\"ys_units\":\"screen\"},\"id\":\"ced8cf02-d9dc-47ac-8bbf-26ac5a5435c8\",\"type\":\"PolyAnnotation\"},{\"attributes\":{},\"id\":\"c812c144-35a7-475b-a452-f7ec8f5fafcf\",\"type\":\"BasicTickFormatter\"},{\"attributes\":{\"bottom_units\":\"screen\",\"fill_alpha\":{\"value\":0.5},\"fill_color\":{\"value\":\"lightgrey\"},\"left_units\":\"screen\",\"level\":\"overlay\",\"line_alpha\":{\"value\":1.0},\"line_color\":{\"value\":\"black\"},\"line_dash\":[4,4],\"line_width\":{\"value\":2},\"plot\":null,\"render_mode\":\"css\",\"right_units\":\"screen\",\"top_units\":\"screen\"},\"id\":\"228d061b-7be1-4623-ad4c-12cf6c5f5542\",\"type\":\"BoxAnnotation\"},{\"attributes\":{\"data_source\":{\"id\":\"255bd062-eb34-4e87-bb47-ad9e130440ce\",\"type\":\"ColumnDataSource\"},\"glyph\":{\"id\":\"e9431c93-01dc-4d1f-b67a-5a02abe96b9b\",\"type\":\"Line\"},\"hover_glyph\":null,\"nonselection_glyph\":{\"id\":\"0c649cf9-17f4-4650-9778-b3c81c986107\",\"type\":\"Line\"},\"selection_glyph\":null},\"id\":\"f1c3d9fb-6f91-4934-940e-66404918b0b5\",\"type\":\"GlyphRenderer\"},{\"attributes\":{\"callback\":null},\"id\":\"d552dfed-4576-4589-bab9-94da0917caa9\",\"type\":\"DataRange1d\"},{\"attributes\":{\"plot\":{\"id\":\"df9cf6bc-51bc-4018-ad3b-3f6c9afd1ff1\",\"subtype\":\"Figure\",\"type\":\"Plot\"}},\"id\":\"e664e1af-d9c9-41ee-a873-17675059b445\",\"type\":\"SaveTool\"},{\"attributes\":{\"data_source\":{\"id\":\"b11ab688-59e6-48a9-bf53-9cb75c266529\",\"type\":\"ColumnDataSource\"},\"glyph\":{\"id\":\"a2ac54f4-cd4e-4117-9775-9950c45889fa\",\"type\":\"Line\"},\"hover_glyph\":null,\"nonselection_glyph\":{\"id\":\"4a8b0b55-f791-483b-bdf1-9e5da548c14d\",\"type\":\"Line\"},\"selection_glyph\":null},\"id\":\"f2a2de36-ad30-4dae-a87b-c9f56666e89a\",\"type\":\"GlyphRenderer\"},{\"attributes\":{\"label\":{\"value\":\"Accuracy\"},\"renderers\":[{\"id\":\"1e5d01a5-4685-463c-99ae-1283e9345d8a\",\"type\":\"GlyphRenderer\"}]},\"id\":\"f3eae911-5873-443a-9037-54828094fe4e\",\"type\":\"LegendItem\"},{\"attributes\":{\"callback\":null,\"column_names\":[\"x\",\"y\"],\"data\":{\"x\":[0,1,2,3,4,5,6,7,8,9,10,11,12,13,14,15,16,17,18,19,20,21,22,23,24,25,26,27,28,29,30,31,32,33,34],\"y\":[{\"__ndarray__\":\"rkfh2piT7j8=\",\"dtype\":\"float64\",\"shape\":[]},{\"__ndarray__\":\"rkfh2piT7j8=\",\"dtype\":\"float64\",\"shape\":[]},{\"__ndarray__\":\"rkfh2piT7j8=\",\"dtype\":\"float64\",\"shape\":[]},{\"__ndarray__\":\"rkfh2piT7j8=\",\"dtype\":\"float64\",\"shape\":[]},{\"__ndarray__\":\"rkfh2piT7j8=\",\"dtype\":\"float64\",\"shape\":[]},{\"__ndarray__\":\"rkfh2piT7j8=\",\"dtype\":\"float64\",\"shape\":[]},{\"__ndarray__\":\"rkfh2piT7j8=\",\"dtype\":\"float64\",\"shape\":[]},{\"__ndarray__\":\"rkfh2piT7j8=\",\"dtype\":\"float64\",\"shape\":[]},{\"__ndarray__\":\"rkfh2piT7j8=\",\"dtype\":\"float64\",\"shape\":[]},{\"__ndarray__\":\"rkfh2piT7j8=\",\"dtype\":\"float64\",\"shape\":[]},{\"__ndarray__\":\"rkfh2piT7j8=\",\"dtype\":\"float64\",\"shape\":[]},{\"__ndarray__\":\"rkfh2piT7j8=\",\"dtype\":\"float64\",\"shape\":[]},{\"__ndarray__\":\"rkfh2piT7j8=\",\"dtype\":\"float64\",\"shape\":[]},{\"__ndarray__\":\"rkfh2piT7j8=\",\"dtype\":\"float64\",\"shape\":[]},{\"__ndarray__\":\"rkfh2piT7j8=\",\"dtype\":\"float64\",\"shape\":[]},{\"__ndarray__\":\"rkfh2piT7j8=\",\"dtype\":\"float64\",\"shape\":[]},{\"__ndarray__\":\"rkfh2piT7j8=\",\"dtype\":\"float64\",\"shape\":[]},{\"__ndarray__\":\"rkfh2piT7j8=\",\"dtype\":\"float64\",\"shape\":[]},{\"__ndarray__\":\"rkfh2piT7j8=\",\"dtype\":\"float64\",\"shape\":[]},{\"__ndarray__\":\"rkfh2piT7j8=\",\"dtype\":\"float64\",\"shape\":[]},{\"__ndarray__\":\"rkfh2piT7j8=\",\"dtype\":\"float64\",\"shape\":[]},{\"__ndarray__\":\"rkfh2piT7j8=\",\"dtype\":\"float64\",\"shape\":[]},{\"__ndarray__\":\"rkfh2piT7j8=\",\"dtype\":\"float64\",\"shape\":[]},{\"__ndarray__\":\"rkfh2piT7j8=\",\"dtype\":\"float64\",\"shape\":[]},{\"__ndarray__\":\"rkfh2piT7j8=\",\"dtype\":\"float64\",\"shape\":[]},{\"__ndarray__\":\"rkfh2piT7j8=\",\"dtype\":\"float64\",\"shape\":[]},{\"__ndarray__\":\"rkfh2piT7j8=\",\"dtype\":\"float64\",\"shape\":[]},{\"__ndarray__\":\"rkfh2piT7j8=\",\"dtype\":\"float64\",\"shape\":[]},{\"__ndarray__\":\"rkfh2piT7j8=\",\"dtype\":\"float64\",\"shape\":[]},{\"__ndarray__\":\"rkfh2piT7j8=\",\"dtype\":\"float64\",\"shape\":[]},{\"__ndarray__\":\"rkfh2piT7j8=\",\"dtype\":\"float64\",\"shape\":[]},{\"__ndarray__\":\"rkfh2piT7j8=\",\"dtype\":\"float64\",\"shape\":[]},{\"__ndarray__\":\"rkfh2piT7j8=\",\"dtype\":\"float64\",\"shape\":[]},{\"__ndarray__\":\"rkfh2piT7j8=\",\"dtype\":\"float64\",\"shape\":[]},{\"__ndarray__\":\"rkfh2piT7j8=\",\"dtype\":\"float64\",\"shape\":[]}]}},\"id\":\"70df0101-8b3f-4f4f-b225-2c2eb6a0bfaa\",\"type\":\"ColumnDataSource\"},{\"attributes\":{\"data_source\":{\"id\":\"70df0101-8b3f-4f4f-b225-2c2eb6a0bfaa\",\"type\":\"ColumnDataSource\"},\"glyph\":{\"id\":\"d8999c85-48a4-4e6d-b1ff-d8532ce1874b\",\"type\":\"Line\"},\"hover_glyph\":null,\"nonselection_glyph\":{\"id\":\"c6c42012-eb30-4b2a-af08-604693c42cde\",\"type\":\"Line\"},\"selection_glyph\":null},\"id\":\"1e5d01a5-4685-463c-99ae-1283e9345d8a\",\"type\":\"GlyphRenderer\"},{\"attributes\":{},\"id\":\"afb4d731-48e6-4cfb-b776-0a8ce1fa45b3\",\"type\":\"BasicTicker\"},{\"attributes\":{\"callback\":null,\"column_names\":[\"x\",\"y\"],\"data\":{\"x\":[0,1,2,3,4,5,6,7,8,9,10,11,12,13,14,15,16,17,18,19,20,21,22,23,24,25,26,27,28,29,30,31,32,33,34],\"y\":{\"__ndarray__\":\"AAAAAAAA8D8AAAAAAADwPwAAAAAAAPA/AAAAAAAA8D8AAAAAAADwPwAAAAAAAPA/AAAAAAAA8D8AAAAAAADwPwAAAAAAAPA/AAAAAAAA8D8AAAAAAADwPwAAAAAAAPA/AAAAAAAA8D8AAAAAAADwPwAAAAAAAPA/AAAAAAAA8D8AAAAAAADwPwAAAAAAAPA/AAAAAAAA8D8AAAAAAADwPwAAAAAAAPA/AAAAAAAA8D8AAAAAAADwPwAAAAAAAPA/AAAAAAAA8D/kOI7jOI7rP+Q4juM4jus/5DiO4ziO6z/kOI7jOI7rP6uqqqqqquo/q6qqqqqq6j8cx3Ecx3HkPxzHcRzHcdw/HMdxHMdx3D8cx3Ecx3HcPw==\",\"dtype\":\"float64\",\"shape\":[35]}}},\"id\":\"255bd062-eb34-4e87-bb47-ad9e130440ce\",\"type\":\"ColumnDataSource\"},{\"attributes\":{\"line_color\":{\"value\":\"blue\"},\"line_dash\":[4,4],\"line_width\":{\"value\":2},\"x\":{\"field\":\"x\"},\"y\":{\"field\":\"y\"}},\"id\":\"d8999c85-48a4-4e6d-b1ff-d8532ce1874b\",\"type\":\"Line\"},{\"attributes\":{\"line_alpha\":{\"value\":0.1},\"line_color\":{\"value\":\"#1f77b4\"},\"line_width\":{\"value\":2},\"x\":{\"field\":\"x\"},\"y\":{\"field\":\"y\"}},\"id\":\"4a8b0b55-f791-483b-bdf1-9e5da548c14d\",\"type\":\"Line\"},{\"attributes\":{\"label\":{\"value\":\"Thompson Sampling\"},\"renderers\":[{\"id\":\"f2a2de36-ad30-4dae-a87b-c9f56666e89a\",\"type\":\"GlyphRenderer\"}]},\"id\":\"13413939-0d7a-4329-b463-48e95ffc6168\",\"type\":\"LegendItem\"},{\"attributes\":{\"overlay\":{\"id\":\"4da26a8d-70f8-4045-8f4a-b9a11461669a\",\"type\":\"PolyAnnotation\"},\"plot\":{\"id\":\"df9cf6bc-51bc-4018-ad3b-3f6c9afd1ff1\",\"subtype\":\"Figure\",\"type\":\"Plot\"}},\"id\":\"f2c1fbc4-54dc-416d-aa09-8d3b9dded801\",\"type\":\"PolySelectTool\"},{\"attributes\":{\"plot\":{\"id\":\"df9cf6bc-51bc-4018-ad3b-3f6c9afd1ff1\",\"subtype\":\"Figure\",\"type\":\"Plot\"},\"ticker\":{\"id\":\"afb4d731-48e6-4cfb-b776-0a8ce1fa45b3\",\"type\":\"BasicTicker\"}},\"id\":\"818d7263-4015-4aa2-be41-d7c9113fdbad\",\"type\":\"Grid\"},{\"attributes\":{\"callback\":null,\"plot\":{\"id\":\"df9cf6bc-51bc-4018-ad3b-3f6c9afd1ff1\",\"subtype\":\"Figure\",\"type\":\"Plot\"}},\"id\":\"a420f37f-5d28-42b5-bf1f-ea19603ce7a3\",\"type\":\"TapTool\"},{\"attributes\":{\"dimension\":1,\"plot\":{\"id\":\"df9cf6bc-51bc-4018-ad3b-3f6c9afd1ff1\",\"subtype\":\"Figure\",\"type\":\"Plot\"},\"ticker\":{\"id\":\"1a9ed70e-8dba-4432-aa73-ec2d373dfda5\",\"type\":\"BasicTicker\"}},\"id\":\"25bb6136-b44a-49da-8d27-324d2484ca66\",\"type\":\"Grid\"},{\"attributes\":{\"fill_alpha\":{\"value\":0.5},\"fill_color\":{\"value\":\"lightgrey\"},\"level\":\"overlay\",\"line_alpha\":{\"value\":1.0},\"line_color\":{\"value\":\"black\"},\"line_dash\":[4,4],\"line_width\":{\"value\":2},\"plot\":null,\"xs_units\":\"screen\",\"ys_units\":\"screen\"},\"id\":\"4da26a8d-70f8-4045-8f4a-b9a11461669a\",\"type\":\"PolyAnnotation\"},{\"attributes\":{\"bottom_units\":\"screen\",\"fill_alpha\":{\"value\":0.5},\"fill_color\":{\"value\":\"lightgrey\"},\"left_units\":\"screen\",\"level\":\"overlay\",\"line_alpha\":{\"value\":1.0},\"line_color\":{\"value\":\"black\"},\"line_dash\":[4,4],\"line_width\":{\"value\":2},\"plot\":null,\"render_mode\":\"css\",\"right_units\":\"screen\",\"top_units\":\"screen\"},\"id\":\"1141ff35-59ec-4549-ba14-08fea150d7c6\",\"type\":\"BoxAnnotation\"},{\"attributes\":{\"plot\":{\"id\":\"df9cf6bc-51bc-4018-ad3b-3f6c9afd1ff1\",\"subtype\":\"Figure\",\"type\":\"Plot\"}},\"id\":\"d898e8f4-631c-4833-a46f-1d6a211058ae\",\"type\":\"ResizeTool\"},{\"attributes\":{\"plot\":{\"id\":\"df9cf6bc-51bc-4018-ad3b-3f6c9afd1ff1\",\"subtype\":\"Figure\",\"type\":\"Plot\"}},\"id\":\"5c9b523a-56a0-4214-8b23-e7461ececc98\",\"type\":\"UndoTool\"},{\"attributes\":{\"overlay\":{\"id\":\"1141ff35-59ec-4549-ba14-08fea150d7c6\",\"type\":\"BoxAnnotation\"},\"plot\":{\"id\":\"df9cf6bc-51bc-4018-ad3b-3f6c9afd1ff1\",\"subtype\":\"Figure\",\"type\":\"Plot\"}},\"id\":\"8602b59e-6565-4858-b852-ab4a07a30b94\",\"type\":\"BoxZoomTool\"},{\"attributes\":{\"formatter\":{\"id\":\"cb847dae-3cf5-429a-a73f-951014ef69e8\",\"type\":\"BasicTickFormatter\"},\"plot\":{\"id\":\"df9cf6bc-51bc-4018-ad3b-3f6c9afd1ff1\",\"subtype\":\"Figure\",\"type\":\"Plot\"},\"ticker\":{\"id\":\"1a9ed70e-8dba-4432-aa73-ec2d373dfda5\",\"type\":\"BasicTicker\"}},\"id\":\"79db496b-7537-4386-b0ff-748092051b80\",\"type\":\"LinearAxis\"},{\"attributes\":{\"align\":\"center\",\"plot\":null,\"text\":\"The Performance over the number of neurons' pruned\"},\"id\":\"829474d1-9ccc-4bc5-a3f3-ba3087f043f8\",\"type\":\"Title\"},{\"attributes\":{\"plot\":{\"id\":\"df9cf6bc-51bc-4018-ad3b-3f6c9afd1ff1\",\"subtype\":\"Figure\",\"type\":\"Plot\"}},\"id\":\"12ed1f61-f66f-4275-9585-e21d1be44fe2\",\"type\":\"ResetTool\"}],\"root_ids\":[\"df9cf6bc-51bc-4018-ad3b-3f6c9afd1ff1\"]},\"title\":\"Bokeh Application\",\"version\":\"0.12.4\"}};\n",
       "            var render_items = [{\"docid\":\"a8d37ebb-4285-4042-9a99-0481f468a0b6\",\"elementid\":\"4c0c20f1-c9dd-4ca9-869f-0ed9d7b832ea\",\"modelid\":\"df9cf6bc-51bc-4018-ad3b-3f6c9afd1ff1\"}];\n",
       "            \n",
       "            Bokeh.embed.embed_items(docs_json, render_items);\n",
       "          };\n",
       "          if (document.readyState != \"loading\") fn();\n",
       "          else document.addEventListener(\"DOMContentLoaded\", fn);\n",
       "        })();\n",
       "      },\n",
       "      function(Bokeh) {\n",
       "      }\n",
       "    ];\n",
       "  \n",
       "    function run_inline_js() {\n",
       "      \n",
       "      if ((window.Bokeh !== undefined) || (force === true)) {\n",
       "        for (var i = 0; i < inline_js.length; i++) {\n",
       "          inline_js[i](window.Bokeh);\n",
       "        }if (force === true) {\n",
       "          display_loaded();\n",
       "        }} else if (Date.now() < window._bokeh_timeout) {\n",
       "        setTimeout(run_inline_js, 100);\n",
       "      } else if (!window._bokeh_failed_load) {\n",
       "        console.log(\"Bokeh: BokehJS failed to load within specified timeout.\");\n",
       "        window._bokeh_failed_load = true;\n",
       "      } else if (force !== true) {\n",
       "        var cell = $(document.getElementById(\"4c0c20f1-c9dd-4ca9-869f-0ed9d7b832ea\")).parents('.cell').data().cell;\n",
       "        cell.output_area.append_execute_result(NB_LOAD_WARNING)\n",
       "      }\n",
       "  \n",
       "    }\n",
       "  \n",
       "    if (window._bokeh_is_loading === 0) {\n",
       "      console.log(\"Bokeh: BokehJS loaded, going straight to plotting\");\n",
       "      run_inline_js();\n",
       "    } else {\n",
       "      load_libs(js_urls, function() {\n",
       "        console.log(\"Bokeh: BokehJS plotting callback run at\", now());\n",
       "        run_inline_js();\n",
       "      });\n",
       "    }\n",
       "  }(this));\n",
       "</script>"
      ]
     },
     "metadata": {},
     "output_type": "display_data"
    }
   ],
   "source": [
    "p1 = figure(title=\"The Performance over the number of neurons' pruned\", tools=TOOLS)\n",
    "p1.line(ind, ucb1, legend=\"ucb1\", line_color=\"green\", line_width=2)\n",
    "p1.line(ind, ThompsonSampling, legend=\"Thompson Sampling\", line_color=\"red\", line_width=2)\n",
    "p1.line(ind, Acc, legend=\"Accuracy\", line_dash=(4, 4), line_color=\"blue\", line_width=2)\n",
    "p1.title.align = \"center\"\n",
    "show(p1)"
   ]
  }
 ],
 "metadata": {
  "kernelspec": {
   "display_name": "Python 3",
   "language": "python",
   "name": "python3"
  },
  "language_info": {
   "codemirror_mode": {
    "name": "ipython",
    "version": 3
   },
   "file_extension": ".py",
   "mimetype": "text/x-python",
   "name": "python",
   "nbconvert_exporter": "python",
   "pygments_lexer": "ipython3",
   "version": "3.6.0"
  }
 },
 "nbformat": 4,
 "nbformat_minor": 0
}
