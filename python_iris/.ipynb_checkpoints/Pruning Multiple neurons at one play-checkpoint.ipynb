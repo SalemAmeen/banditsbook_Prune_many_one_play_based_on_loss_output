{
 "cells": [
  {
   "cell_type": "markdown",
   "metadata": {},
   "source": [
    "Compute the performance of MAB methods of pruning Multiple neurons at one time\n",
    "\n",
    "MAP for choosing multi arms at one time"
   ]
  },
  {
   "cell_type": "code",
   "execution_count": 1,
   "metadata": {
    "collapsed": true
   },
   "outputs": [],
   "source": [
    "import numpy as np\n",
    "import time\n",
    "import sys\n",
    "from numpy import *\n",
    "import matplotlib.pyplot as plt\n",
    "from sklearn import metrics\n",
    "%matplotlib inline\n",
    "#plt.rcParams['figure.figsize'] = (15, 6)"
   ]
  },
  {
   "cell_type": "markdown",
   "metadata": {},
   "source": [
    "# Load Bokeh"
   ]
  },
  {
   "cell_type": "code",
   "execution_count": 2,
   "metadata": {
    "collapsed": false
   },
   "outputs": [
    {
     "data": {
      "text/html": [
       "\n",
       "    <div class=\"bk-root\">\n",
       "        <a href=\"http://bokeh.pydata.org\" target=\"_blank\" class=\"bk-logo bk-logo-small bk-logo-notebook\"></a>\n",
       "        <span id=\"6289dc8f-f620-44dc-aede-bfb8e9818cd2\">Loading BokehJS ...</span>\n",
       "    </div>"
      ]
     },
     "metadata": {},
     "output_type": "display_data"
    },
    {
     "data": {
      "application/javascript": [
       "\n",
       "(function(global) {\n",
       "  function now() {\n",
       "    return new Date();\n",
       "  }\n",
       "\n",
       "  var force = true;\n",
       "\n",
       "  if (typeof (window._bokeh_onload_callbacks) === \"undefined\" || force === true) {\n",
       "    window._bokeh_onload_callbacks = [];\n",
       "    window._bokeh_is_loading = undefined;\n",
       "  }\n",
       "\n",
       "\n",
       "  \n",
       "  if (typeof (window._bokeh_timeout) === \"undefined\" || force === true) {\n",
       "    window._bokeh_timeout = Date.now() + 5000;\n",
       "    window._bokeh_failed_load = false;\n",
       "  }\n",
       "\n",
       "  var NB_LOAD_WARNING = {'data': {'text/html':\n",
       "     \"<div style='background-color: #fdd'>\\n\"+\n",
       "     \"<p>\\n\"+\n",
       "     \"BokehJS does not appear to have successfully loaded. If loading BokehJS from CDN, this \\n\"+\n",
       "     \"may be due to a slow or bad network connection. Possible fixes:\\n\"+\n",
       "     \"</p>\\n\"+\n",
       "     \"<ul>\\n\"+\n",
       "     \"<li>re-rerun `output_notebook()` to attempt to load from CDN again, or</li>\\n\"+\n",
       "     \"<li>use INLINE resources instead, as so:</li>\\n\"+\n",
       "     \"</ul>\\n\"+\n",
       "     \"<code>\\n\"+\n",
       "     \"from bokeh.resources import INLINE\\n\"+\n",
       "     \"output_notebook(resources=INLINE)\\n\"+\n",
       "     \"</code>\\n\"+\n",
       "     \"</div>\"}};\n",
       "\n",
       "  function display_loaded() {\n",
       "    if (window.Bokeh !== undefined) {\n",
       "      document.getElementById(\"6289dc8f-f620-44dc-aede-bfb8e9818cd2\").textContent = \"BokehJS successfully loaded.\";\n",
       "    } else if (Date.now() < window._bokeh_timeout) {\n",
       "      setTimeout(display_loaded, 100)\n",
       "    }\n",
       "  }\n",
       "\n",
       "  function run_callbacks() {\n",
       "    window._bokeh_onload_callbacks.forEach(function(callback) { callback() });\n",
       "    delete window._bokeh_onload_callbacks\n",
       "    console.info(\"Bokeh: all callbacks have finished\");\n",
       "  }\n",
       "\n",
       "  function load_libs(js_urls, callback) {\n",
       "    window._bokeh_onload_callbacks.push(callback);\n",
       "    if (window._bokeh_is_loading > 0) {\n",
       "      console.log(\"Bokeh: BokehJS is being loaded, scheduling callback at\", now());\n",
       "      return null;\n",
       "    }\n",
       "    if (js_urls == null || js_urls.length === 0) {\n",
       "      run_callbacks();\n",
       "      return null;\n",
       "    }\n",
       "    console.log(\"Bokeh: BokehJS not loaded, scheduling load and callback at\", now());\n",
       "    window._bokeh_is_loading = js_urls.length;\n",
       "    for (var i = 0; i < js_urls.length; i++) {\n",
       "      var url = js_urls[i];\n",
       "      var s = document.createElement('script');\n",
       "      s.src = url;\n",
       "      s.async = false;\n",
       "      s.onreadystatechange = s.onload = function() {\n",
       "        window._bokeh_is_loading--;\n",
       "        if (window._bokeh_is_loading === 0) {\n",
       "          console.log(\"Bokeh: all BokehJS libraries loaded\");\n",
       "          run_callbacks()\n",
       "        }\n",
       "      };\n",
       "      s.onerror = function() {\n",
       "        console.warn(\"failed to load library \" + url);\n",
       "      };\n",
       "      console.log(\"Bokeh: injecting script tag for BokehJS library: \", url);\n",
       "      document.getElementsByTagName(\"head\")[0].appendChild(s);\n",
       "    }\n",
       "  };var element = document.getElementById(\"6289dc8f-f620-44dc-aede-bfb8e9818cd2\");\n",
       "  if (element == null) {\n",
       "    console.log(\"Bokeh: ERROR: autoload.js configured with elementid '6289dc8f-f620-44dc-aede-bfb8e9818cd2' but no matching script tag was found. \")\n",
       "    return false;\n",
       "  }\n",
       "\n",
       "  var js_urls = [\"https://cdn.pydata.org/bokeh/release/bokeh-0.12.4.min.js\", \"https://cdn.pydata.org/bokeh/release/bokeh-widgets-0.12.4.min.js\"];\n",
       "\n",
       "  var inline_js = [\n",
       "    function(Bokeh) {\n",
       "      Bokeh.set_log_level(\"info\");\n",
       "    },\n",
       "    \n",
       "    function(Bokeh) {\n",
       "      \n",
       "      document.getElementById(\"6289dc8f-f620-44dc-aede-bfb8e9818cd2\").textContent = \"BokehJS is loading...\";\n",
       "    },\n",
       "    function(Bokeh) {\n",
       "      console.log(\"Bokeh: injecting CSS: https://cdn.pydata.org/bokeh/release/bokeh-0.12.4.min.css\");\n",
       "      Bokeh.embed.inject_css(\"https://cdn.pydata.org/bokeh/release/bokeh-0.12.4.min.css\");\n",
       "      console.log(\"Bokeh: injecting CSS: https://cdn.pydata.org/bokeh/release/bokeh-widgets-0.12.4.min.css\");\n",
       "      Bokeh.embed.inject_css(\"https://cdn.pydata.org/bokeh/release/bokeh-widgets-0.12.4.min.css\");\n",
       "    }\n",
       "  ];\n",
       "\n",
       "  function run_inline_js() {\n",
       "    \n",
       "    if ((window.Bokeh !== undefined) || (force === true)) {\n",
       "      for (var i = 0; i < inline_js.length; i++) {\n",
       "        inline_js[i](window.Bokeh);\n",
       "      }if (force === true) {\n",
       "        display_loaded();\n",
       "      }} else if (Date.now() < window._bokeh_timeout) {\n",
       "      setTimeout(run_inline_js, 100);\n",
       "    } else if (!window._bokeh_failed_load) {\n",
       "      console.log(\"Bokeh: BokehJS failed to load within specified timeout.\");\n",
       "      window._bokeh_failed_load = true;\n",
       "    } else if (force !== true) {\n",
       "      var cell = $(document.getElementById(\"6289dc8f-f620-44dc-aede-bfb8e9818cd2\")).parents('.cell').data().cell;\n",
       "      cell.output_area.append_execute_result(NB_LOAD_WARNING)\n",
       "    }\n",
       "\n",
       "  }\n",
       "\n",
       "  if (window._bokeh_is_loading === 0) {\n",
       "    console.log(\"Bokeh: BokehJS loaded, going straight to plotting\");\n",
       "    run_inline_js();\n",
       "  } else {\n",
       "    load_libs(js_urls, function() {\n",
       "      console.log(\"Bokeh: BokehJS plotting callback run at\", now());\n",
       "      run_inline_js();\n",
       "    });\n",
       "  }\n",
       "}(this));"
      ]
     },
     "metadata": {},
     "output_type": "display_data"
    }
   ],
   "source": [
    "from bokeh.layouts import row, gridplot\n",
    "from bokeh.plotting import figure, output_notebook, show\n",
    "from bokeh.models import Legend\n",
    "TOOLS = 'box_zoom,box_select,crosshair,resize,reset,lasso_select,pan,save,poly_select,tap,wheel_zoom,undo'\n",
    "output_notebook()"
   ]
  },
  {
   "cell_type": "markdown",
   "metadata": {},
   "source": [
    "# Load the data"
   ]
  },
  {
   "cell_type": "code",
   "execution_count": 3,
   "metadata": {
    "collapsed": false
   },
   "outputs": [
    {
     "name": "stdout",
     "output_type": "stream",
     "text": [
      "Number of training examples 96\n",
      "Number of validation examples 24\n",
      "Number of testing examples 30\n"
     ]
    }
   ],
   "source": [
    "X_train = np.load('./iris/X_train.npy')\n",
    "y_train = np.load('./iris/y_train.npy')\n",
    "X_test = np.load('./iris/X_test.npy')\n",
    "y_test = np.load('./iris/y_test.npy')\n",
    "X_deploy = np.load('./iris/X_deploy.npy')\n",
    "y_deploy = np.load('./iris/y_deploy.npy')\n",
    "print('Number of training examples',len(X_train))\n",
    "print('Number of validation examples',len(X_test))\n",
    "print('Number of testing examples',len(X_deploy))"
   ]
  },
  {
   "cell_type": "code",
   "execution_count": 4,
   "metadata": {
    "collapsed": false
   },
   "outputs": [],
   "source": [
    "exec(open(\"core.py\").read())  # pyhton 3x"
   ]
  },
  {
   "cell_type": "markdown",
   "metadata": {},
   "source": [
    "## Run Thompson Sampling pruning Algorithm"
   ]
  },
  {
   "cell_type": "code",
   "execution_count": 5,
   "metadata": {
    "collapsed": false
   },
   "outputs": [
    {
     "name": "stdout",
     "output_type": "stream",
     "text": [
      "24 test samples\n"
     ]
    },
    {
     "name": "stderr",
     "output_type": "stream",
     "text": [
      "/Library/Frameworks/Python.framework/Versions/3.6/lib/python3.6/site-packages/sklearn/cross_validation.py:44: DeprecationWarning: This module was deprecated in version 0.18 in favor of the model_selection module into which all the refactored classes and functions are moved. Also note that the interface of the new CV iterators are different from that of this module. This module will be removed in 0.20.\n",
      "  \"This module will be removed in 0.20.\", DeprecationWarning)\n",
      "Using Theano backend.\n"
     ]
    },
    {
     "name": "stdout",
     "output_type": "stream",
     "text": [
      "Test score: 0.203268691897\n",
      "Test accuracy: 0.875\n",
      "The time for running this method is 4.9345152378082275 seconds \n",
      "Finsh playing start pruining:\n",
      "Test accuracy after pruning: 1.0\n",
      "Test accuracy after pruning: 1.0\n",
      "Test accuracy after pruning: 0.966666638851\n",
      "Test accuracy after pruning: 0.733333349228\n",
      "Test accuracy after pruning: 0.666666686535\n",
      "Test accuracy after pruning: 0.666666686535\n",
      "Test accuracy after pruning: 0.666666686535\n",
      "Test accuracy after pruning: 0.666666686535\n",
      "Test accuracy after pruning: 0.666666686535\n",
      "Test accuracy after pruning: 0.666666686535\n",
      "Test accuracy after pruning: 0.666666686535\n",
      "Test accuracy after pruning: 0.666666686535\n",
      "Test accuracy after pruning: 0.366666674614\n",
      "Test accuracy after pruning: 0.366666674614\n",
      "Test accuracy after pruning: 0.366666674614\n",
      "Test accuracy after pruning: 0.366666674614\n"
     ]
    },
    {
     "data": {
      "image/png": "[encoded data removed]",
      "text/plain": [
       "<matplotlib.figure.Figure at 0x10ecbe358>"
      ]
     },
     "metadata": {},
     "output_type": "display_data"
    }
   ],
   "source": [
    "algo = Thompson_Sampling([], [])\n",
    "Alg_name = 'Thompson_Sampling Algorithm'\n",
    "path = './Thompson_Sampling/'\n",
    "sys.path.append(\"./Thompson_Sampling\")\n",
    "exec(open(\"mnist_cnnFORTESTING.py\").read())"
   ]
  },
  {
   "cell_type": "markdown",
   "metadata": {},
   "source": [
    "## Run UCB1 pruning Algorithm"
   ]
  },
  {
   "cell_type": "code",
   "execution_count": 6,
   "metadata": {
    "collapsed": false
   },
   "outputs": [
    {
     "name": "stdout",
     "output_type": "stream",
     "text": [
      "24 test samples\n",
      "Test score: 0.203268691897\n",
      "Test accuracy: 0.875\n",
      "The time for running this method is 5.55451512336731 seconds \n",
      "Finsh playing start pruining:\n",
      "Test accuracy after pruning: 1.0\n",
      "Test accuracy after pruning: 1.0\n",
      "Test accuracy after pruning: 1.0\n",
      "Test accuracy after pruning: 0.933333337307\n",
      "Test accuracy after pruning: 0.933333337307\n",
      "Test accuracy after pruning: 0.733333349228\n",
      "Test accuracy after pruning: 0.666666686535\n",
      "Test accuracy after pruning: 0.666666686535\n",
      "Test accuracy after pruning: 0.666666686535\n",
      "Test accuracy after pruning: 0.666666686535\n",
      "Test accuracy after pruning: 0.666666686535\n",
      "Test accuracy after pruning: 0.666666686535\n",
      "Test accuracy after pruning: 0.666666686535\n",
      "Test accuracy after pruning: 0.366666674614\n",
      "Test accuracy after pruning: 0.366666674614\n",
      "Test accuracy after pruning: 0.366666674614\n"
     ]
    },
    {
     "data": {
      "image/png": "[encoded data removed]",
      "text/plain": [
       "<matplotlib.figure.Figure at 0x10f223a58>"
      ]
     },
     "metadata": {},
     "output_type": "display_data"
    }
   ],
   "source": [
    "algo = UCB1([], [])\n",
    "Alg_name = 'UCB1 Algorithm'\n",
    "path = './UCB1/'\n",
    "sys.path.append(\"./UCB1\")\n",
    "exec(open(\"mnist_cnnFORTESTING.py\").read())"
   ]
  },
  {
   "cell_type": "markdown",
   "metadata": {
    "collapsed": true
   },
   "source": [
    "# Compare the accuracy"
   ]
  },
  {
   "cell_type": "code",
   "execution_count": 7,
   "metadata": {
    "collapsed": true
   },
   "outputs": [],
   "source": [
    "ucb1 = np.load('./UCB1/AccuracyAftrerPrune.npy')\n",
    "ThompsonSampling = np.load('./Thompson_Sampling/AccuracyAftrerPrune.npy')\n",
    "Accuracy = np.load('AccuracyBeforePruning.npy')"
   ]
  },
  {
   "cell_type": "code",
   "execution_count": 8,
   "metadata": {
    "collapsed": false
   },
   "outputs": [
    {
     "data": {
      "image/png": "[encoded data removed]",
      "text/plain": [
       "<matplotlib.figure.Figure at 0x10ead5400>"
      ]
     },
     "metadata": {},
     "output_type": "display_data"
    }
   ],
   "source": [
    "fig = plt.figure(figsize=(10, 6), dpi=80)\n",
    "ax = fig.add_subplot(111)\n",
    "N = len(ucb1)\n",
    "ind = np.arange(N)                # the x locations for the groups\n",
    "plt.plot(ind , ucb1 , color=\"blue\", linewidth=2.5, linestyle=\"-\", label=\"UCB1\")\n",
    "plt.plot(ind , ThompsonSampling, color=\"orange\", linewidth=2.5, linestyle=\"-\", label=\"Thompson Sampling\")\n",
    "plt.legend(loc = 3)\n",
    "plt.axis([0, 25, 0, 1])\n",
    "plt.xlabel('Number of pruned Neurons')\n",
    "plt.ylabel('The Accuracy')\n",
    "plt.grid(True)\n",
    "plt.show()"
   ]
  },
  {
   "cell_type": "code",
   "execution_count": 9,
   "metadata": {
    "collapsed": false
   },
   "outputs": [
    {
     "data": {
      "text/html": [
       "\n",
       "\n",
       "    <div class=\"bk-root\">\n",
       "        <div class=\"bk-plotdiv\" id=\"ef5f7a07-19eb-4bdf-94a0-961a5e299e0d\"></div>\n",
       "    </div>\n",
       "<script type=\"text/javascript\">\n",
       "  \n",
       "  (function(global) {\n",
       "    function now() {\n",
       "      return new Date();\n",
       "    }\n",
       "  \n",
       "    var force = false;\n",
       "  \n",
       "    if (typeof (window._bokeh_onload_callbacks) === \"undefined\" || force === true) {\n",
       "      window._bokeh_onload_callbacks = [];\n",
       "      window._bokeh_is_loading = undefined;\n",
       "    }\n",
       "  \n",
       "  \n",
       "    \n",
       "    if (typeof (window._bokeh_timeout) === \"undefined\" || force === true) {\n",
       "      window._bokeh_timeout = Date.now() + 0;\n",
       "      window._bokeh_failed_load = false;\n",
       "    }\n",
       "  \n",
       "    var NB_LOAD_WARNING = {'data': {'text/html':\n",
       "       \"<div style='background-color: #fdd'>\\n\"+\n",
       "       \"<p>\\n\"+\n",
       "       \"BokehJS does not appear to have successfully loaded. If loading BokehJS from CDN, this \\n\"+\n",
       "       \"may be due to a slow or bad network connection. Possible fixes:\\n\"+\n",
       "       \"</p>\\n\"+\n",
       "       \"<ul>\\n\"+\n",
       "       \"<li>re-rerun `output_notebook()` to attempt to load from CDN again, or</li>\\n\"+\n",
       "       \"<li>use INLINE resources instead, as so:</li>\\n\"+\n",
       "       \"</ul>\\n\"+\n",
       "       \"<code>\\n\"+\n",
       "       \"from bokeh.resources import INLINE\\n\"+\n",
       "       \"output_notebook(resources=INLINE)\\n\"+\n",
       "       \"</code>\\n\"+\n",
       "       \"</div>\"}};\n",
       "  \n",
       "    function display_loaded() {\n",
       "      if (window.Bokeh !== undefined) {\n",
       "        document.getElementById(\"ef5f7a07-19eb-4bdf-94a0-961a5e299e0d\").textContent = \"BokehJS successfully loaded.\";\n",
       "      } else if (Date.now() < window._bokeh_timeout) {\n",
       "        setTimeout(display_loaded, 100)\n",
       "      }\n",
       "    }\n",
       "  \n",
       "    function run_callbacks() {\n",
       "      window._bokeh_onload_callbacks.forEach(function(callback) { callback() });\n",
       "      delete window._bokeh_onload_callbacks\n",
       "      console.info(\"Bokeh: all callbacks have finished\");\n",
       "    }\n",
       "  \n",
       "    function load_libs(js_urls, callback) {\n",
       "      window._bokeh_onload_callbacks.push(callback);\n",
       "      if (window._bokeh_is_loading > 0) {\n",
       "        console.log(\"Bokeh: BokehJS is being loaded, scheduling callback at\", now());\n",
       "        return null;\n",
       "      }\n",
       "      if (js_urls == null || js_urls.length === 0) {\n",
       "        run_callbacks();\n",
       "        return null;\n",
       "      }\n",
       "      console.log(\"Bokeh: BokehJS not loaded, scheduling load and callback at\", now());\n",
       "      window._bokeh_is_loading = js_urls.length;\n",
       "      for (var i = 0; i < js_urls.length; i++) {\n",
       "        var url = js_urls[i];\n",
       "        var s = document.createElement('script');\n",
       "        s.src = url;\n",
       "        s.async = false;\n",
       "        s.onreadystatechange = s.onload = function() {\n",
       "          window._bokeh_is_loading--;\n",
       "          if (window._bokeh_is_loading === 0) {\n",
       "            console.log(\"Bokeh: all BokehJS libraries loaded\");\n",
       "            run_callbacks()\n",
       "          }\n",
       "        };\n",
       "        s.onerror = function() {\n",
       "          console.warn(\"failed to load library \" + url);\n",
       "        };\n",
       "        console.log(\"Bokeh: injecting script tag for BokehJS library: \", url);\n",
       "        document.getElementsByTagName(\"head\")[0].appendChild(s);\n",
       "      }\n",
       "    };var element = document.getElementById(\"ef5f7a07-19eb-4bdf-94a0-961a5e299e0d\");\n",
       "    if (element == null) {\n",
       "      console.log(\"Bokeh: ERROR: autoload.js configured with elementid 'ef5f7a07-19eb-4bdf-94a0-961a5e299e0d' but no matching script tag was found. \")\n",
       "      return false;\n",
       "    }\n",
       "  \n",
       "    var js_urls = [];\n",
       "  \n",
       "    var inline_js = [\n",
       "      function(Bokeh) {\n",
       "        (function() {\n",
       "          var fn = function() {\n",
       "            var docs_json = {\"725f3962-8099-428d-bb46-3dc07f6d5d09\":{\"roots\":{\"references\":[{\"attributes\":{\"plot\":{\"id\":\"ec05abf6-5364-41d0-bfec-1c07710ef5ba\",\"subtype\":\"Figure\",\"type\":\"Plot\"}},\"id\":\"bf9b610e-28ca-4c13-93ce-e719e6b9d9cf\",\"type\":\"CrosshairTool\"},{\"attributes\":{\"plot\":{\"id\":\"ec05abf6-5364-41d0-bfec-1c07710ef5ba\",\"subtype\":\"Figure\",\"type\":\"Plot\"}},\"id\":\"267cb8c0-14cb-4a32-ad61-2cdf52cf0b28\",\"type\":\"SaveTool\"},{\"attributes\":{\"callback\":null,\"column_names\":[\"x\",\"y\"],\"data\":{\"x\":[0,1,2,3,4,5,6,7,8,9,10,11,12,13,14,15],\"y\":{\"__ndarray__\":\"AAAAAAAA8D8AAAAAAADwPwAAAODu7u4/AAAAgHd35z8AAABgVVXlPwAAAGBVVeU/AAAAYFVV5T8AAABgVVXlPwAAAGBVVeU/AAAAYFVV5T8AAABgVVXlPwAAAGBVVeU/AAAAgHd31z8AAACAd3fXPwAAAIB3d9c/AAAAgHd31z8=\",\"dtype\":\"float64\",\"shape\":[16]}}},\"id\":\"b812d021-17c5-4c79-b114-0d3a516fae3a\",\"type\":\"ColumnDataSource\"},{\"attributes\":{\"label\":{\"value\":\"Thompson Sampling\"},\"renderers\":[{\"id\":\"c8626459-2572-4f33-8cfe-2edad9ca0ce2\",\"type\":\"GlyphRenderer\"}]},\"id\":\"81519cd1-9056-4f96-8c72-0611a5ee7153\",\"type\":\"LegendItem\"},{\"attributes\":{\"fill_alpha\":{\"value\":0.5},\"fill_color\":{\"value\":\"lightgrey\"},\"level\":\"overlay\",\"line_alpha\":{\"value\":1.0},\"line_color\":{\"value\":\"black\"},\"line_dash\":[4,4],\"line_width\":{\"value\":2},\"plot\":null,\"xs_units\":\"screen\",\"ys_units\":\"screen\"},\"id\":\"10de2fd4-22d5-417f-a4ff-3cd787c727de\",\"type\":\"PolyAnnotation\"},{\"attributes\":{\"callback\":null,\"overlay\":{\"id\":\"10de2fd4-22d5-417f-a4ff-3cd787c727de\",\"type\":\"PolyAnnotation\"},\"plot\":{\"id\":\"ec05abf6-5364-41d0-bfec-1c07710ef5ba\",\"subtype\":\"Figure\",\"type\":\"Plot\"}},\"id\":\"e0830bb7-62e5-48b3-a1a3-dd9dc1a995a4\",\"type\":\"LassoSelectTool\"},{\"attributes\":{\"overlay\":{\"id\":\"11652920-a4f1-4552-812c-6568bde35a48\",\"type\":\"BoxAnnotation\"},\"plot\":{\"id\":\"ec05abf6-5364-41d0-bfec-1c07710ef5ba\",\"subtype\":\"Figure\",\"type\":\"Plot\"}},\"id\":\"3186438e-b602-48fb-a4d4-99390748cff5\",\"type\":\"BoxZoomTool\"},{\"attributes\":{\"bottom_units\":\"screen\",\"fill_alpha\":{\"value\":0.5},\"fill_color\":{\"value\":\"lightgrey\"},\"left_units\":\"screen\",\"level\":\"overlay\",\"line_alpha\":{\"value\":1.0},\"line_color\":{\"value\":\"black\"},\"line_dash\":[4,4],\"line_width\":{\"value\":2},\"plot\":null,\"render_mode\":\"css\",\"right_units\":\"screen\",\"top_units\":\"screen\"},\"id\":\"11652920-a4f1-4552-812c-6568bde35a48\",\"type\":\"BoxAnnotation\"},{\"attributes\":{\"line_color\":{\"value\":\"blue\"},\"line_width\":{\"value\":2},\"x\":{\"field\":\"x\"},\"y\":{\"field\":\"y\"}},\"id\":\"925f0a72-7603-4269-ae0a-b2291f84dc67\",\"type\":\"Line\"},{\"attributes\":{\"formatter\":{\"id\":\"eb84e4e9-d52b-4789-902c-0d7561d68fe9\",\"type\":\"BasicTickFormatter\"},\"plot\":{\"id\":\"ec05abf6-5364-41d0-bfec-1c07710ef5ba\",\"subtype\":\"Figure\",\"type\":\"Plot\"},\"ticker\":{\"id\":\"6b51bf4a-7cfb-42e7-a709-93420c332c26\",\"type\":\"BasicTicker\"}},\"id\":\"0dc8f57e-62db-48b9-8f33-b67cffcd39af\",\"type\":\"LinearAxis\"},{\"attributes\":{\"callback\":null,\"overlay\":{\"id\":\"3414b9b6-1f59-40c8-ae2f-5a6696e6e11c\",\"type\":\"BoxAnnotation\"},\"plot\":{\"id\":\"ec05abf6-5364-41d0-bfec-1c07710ef5ba\",\"subtype\":\"Figure\",\"type\":\"Plot\"},\"renderers\":[{\"id\":\"d4f8d34d-e8ce-4e31-a58a-2823d99db4c8\",\"type\":\"GlyphRenderer\"},{\"id\":\"c8626459-2572-4f33-8cfe-2edad9ca0ce2\",\"type\":\"GlyphRenderer\"}]},\"id\":\"3bfbe4ac-6274-49f4-a2cd-1c744e1ca18e\",\"type\":\"BoxSelectTool\"},{\"attributes\":{\"fill_alpha\":{\"value\":0.5},\"fill_color\":{\"value\":\"lightgrey\"},\"level\":\"overlay\",\"line_alpha\":{\"value\":1.0},\"line_color\":{\"value\":\"black\"},\"line_dash\":[4,4],\"line_width\":{\"value\":2},\"plot\":null,\"xs_units\":\"screen\",\"ys_units\":\"screen\"},\"id\":\"c7ab5ce5-1310-4d16-910d-1e8b99ae28ee\",\"type\":\"PolyAnnotation\"},{\"attributes\":{\"plot\":{\"id\":\"ec05abf6-5364-41d0-bfec-1c07710ef5ba\",\"subtype\":\"Figure\",\"type\":\"Plot\"}},\"id\":\"4ddca750-ac39-45c1-9597-072ee3c9209e\",\"type\":\"PanTool\"},{\"attributes\":{\"plot\":{\"id\":\"ec05abf6-5364-41d0-bfec-1c07710ef5ba\",\"subtype\":\"Figure\",\"type\":\"Plot\"}},\"id\":\"6732fb1c-f40c-4384-aaf2-53abd89b2c24\",\"type\":\"WheelZoomTool\"},{\"attributes\":{},\"id\":\"6b51bf4a-7cfb-42e7-a709-93420c332c26\",\"type\":\"BasicTicker\"},{\"attributes\":{\"plot\":{\"id\":\"ec05abf6-5364-41d0-bfec-1c07710ef5ba\",\"subtype\":\"Figure\",\"type\":\"Plot\"}},\"id\":\"d770976a-8a43-460f-aad5-db514aca62d8\",\"type\":\"UndoTool\"},{\"attributes\":{\"align\":\"center\",\"plot\":null,\"text\":\"The Performance over the number of neurons' pruned\"},\"id\":\"77749a58-f7cc-4915-88d1-f45c76619ea9\",\"type\":\"Title\"},{\"attributes\":{\"data_source\":{\"id\":\"b812d021-17c5-4c79-b114-0d3a516fae3a\",\"type\":\"ColumnDataSource\"},\"glyph\":{\"id\":\"6baf058a-777e-4526-b6df-0750fed99fb8\",\"type\":\"Line\"},\"hover_glyph\":null,\"nonselection_glyph\":{\"id\":\"f4b4ff17-7f38-4250-a9b2-e1ca9c518d75\",\"type\":\"Line\"},\"selection_glyph\":null},\"id\":\"c8626459-2572-4f33-8cfe-2edad9ca0ce2\",\"type\":\"GlyphRenderer\"},{\"attributes\":{\"dimension\":1,\"plot\":{\"id\":\"ec05abf6-5364-41d0-bfec-1c07710ef5ba\",\"subtype\":\"Figure\",\"type\":\"Plot\"},\"ticker\":{\"id\":\"6b51bf4a-7cfb-42e7-a709-93420c332c26\",\"type\":\"BasicTicker\"}},\"id\":\"d95a30f9-35b0-47ed-ad7e-41271e75a2b6\",\"type\":\"Grid\"},{\"attributes\":{\"line_alpha\":{\"value\":0.1},\"line_color\":{\"value\":\"#1f77b4\"},\"line_width\":{\"value\":2},\"x\":{\"field\":\"x\"},\"y\":{\"field\":\"y\"}},\"id\":\"f4b4ff17-7f38-4250-a9b2-e1ca9c518d75\",\"type\":\"Line\"},{\"attributes\":{\"bottom_units\":\"screen\",\"fill_alpha\":{\"value\":0.5},\"fill_color\":{\"value\":\"lightgrey\"},\"left_units\":\"screen\",\"level\":\"overlay\",\"line_alpha\":{\"value\":1.0},\"line_color\":{\"value\":\"black\"},\"line_dash\":[4,4],\"line_width\":{\"value\":2},\"plot\":null,\"render_mode\":\"css\",\"right_units\":\"screen\",\"top_units\":\"screen\"},\"id\":\"3414b9b6-1f59-40c8-ae2f-5a6696e6e11c\",\"type\":\"BoxAnnotation\"},{\"attributes\":{\"callback\":null},\"id\":\"d18ca5c1-4e47-4f02-8099-af45d870de5b\",\"type\":\"DataRange1d\"},{\"attributes\":{\"callback\":null},\"id\":\"6b95dc17-5018-492d-9370-10d3a08d938c\",\"type\":\"DataRange1d\"},{\"attributes\":{\"active_drag\":\"auto\",\"active_scroll\":\"auto\",\"active_tap\":\"auto\",\"tools\":[{\"id\":\"3186438e-b602-48fb-a4d4-99390748cff5\",\"type\":\"BoxZoomTool\"},{\"id\":\"3bfbe4ac-6274-49f4-a2cd-1c744e1ca18e\",\"type\":\"BoxSelectTool\"},{\"id\":\"bf9b610e-28ca-4c13-93ce-e719e6b9d9cf\",\"type\":\"CrosshairTool\"},{\"id\":\"b5ed4063-8dee-4b12-b6e5-878e62cf91f7\",\"type\":\"ResizeTool\"},{\"id\":\"165d657d-724c-4501-849d-74764ac3d88a\",\"type\":\"ResetTool\"},{\"id\":\"e0830bb7-62e5-48b3-a1a3-dd9dc1a995a4\",\"type\":\"LassoSelectTool\"},{\"id\":\"4ddca750-ac39-45c1-9597-072ee3c9209e\",\"type\":\"PanTool\"},{\"id\":\"267cb8c0-14cb-4a32-ad61-2cdf52cf0b28\",\"type\":\"SaveTool\"},{\"id\":\"4ccdb95e-c5a8-4928-ac3d-5a764a832a83\",\"type\":\"PolySelectTool\"},{\"id\":\"22b6328b-3604-4c96-a3db-c211e7b306ef\",\"type\":\"TapTool\"},{\"id\":\"6732fb1c-f40c-4384-aaf2-53abd89b2c24\",\"type\":\"WheelZoomTool\"},{\"id\":\"d770976a-8a43-460f-aad5-db514aca62d8\",\"type\":\"UndoTool\"}]},\"id\":\"d1ea3720-5932-4a8c-ad06-16d85555fe2e\",\"type\":\"Toolbar\"},{\"attributes\":{\"plot\":{\"id\":\"ec05abf6-5364-41d0-bfec-1c07710ef5ba\",\"subtype\":\"Figure\",\"type\":\"Plot\"}},\"id\":\"165d657d-724c-4501-849d-74764ac3d88a\",\"type\":\"ResetTool\"},{\"attributes\":{\"data_source\":{\"id\":\"c8aa6eff-3dee-49e1-b30c-fea8fb730186\",\"type\":\"ColumnDataSource\"},\"glyph\":{\"id\":\"925f0a72-7603-4269-ae0a-b2291f84dc67\",\"type\":\"Line\"},\"hover_glyph\":null,\"nonselection_glyph\":{\"id\":\"ddc85c9b-115c-4201-83af-004574c0c78c\",\"type\":\"Line\"},\"selection_glyph\":null},\"id\":\"d4f8d34d-e8ce-4e31-a58a-2823d99db4c8\",\"type\":\"GlyphRenderer\"},{\"attributes\":{\"formatter\":{\"id\":\"b9d77c07-6002-4351-8545-3dcd5fa6992e\",\"type\":\"BasicTickFormatter\"},\"plot\":{\"id\":\"ec05abf6-5364-41d0-bfec-1c07710ef5ba\",\"subtype\":\"Figure\",\"type\":\"Plot\"},\"ticker\":{\"id\":\"2cf3e973-3069-475f-ba7b-29d05962a286\",\"type\":\"BasicTicker\"}},\"id\":\"8ff96881-bc11-47ee-9677-f9ad2fcdc6d4\",\"type\":\"LinearAxis\"},{\"attributes\":{\"callback\":null,\"plot\":{\"id\":\"ec05abf6-5364-41d0-bfec-1c07710ef5ba\",\"subtype\":\"Figure\",\"type\":\"Plot\"}},\"id\":\"22b6328b-3604-4c96-a3db-c211e7b306ef\",\"type\":\"TapTool\"},{\"attributes\":{\"label\":{\"value\":\"ucb1\"},\"renderers\":[{\"id\":\"d4f8d34d-e8ce-4e31-a58a-2823d99db4c8\",\"type\":\"GlyphRenderer\"}]},\"id\":\"b08b8ed7-f2b2-4a80-8b1a-faf7dff7d4f3\",\"type\":\"LegendItem\"},{\"attributes\":{\"line_alpha\":{\"value\":0.1},\"line_color\":{\"value\":\"#1f77b4\"},\"line_width\":{\"value\":2},\"x\":{\"field\":\"x\"},\"y\":{\"field\":\"y\"}},\"id\":\"ddc85c9b-115c-4201-83af-004574c0c78c\",\"type\":\"Line\"},{\"attributes\":{\"callback\":null,\"column_names\":[\"x\",\"y\"],\"data\":{\"x\":[0,1,2,3,4,5,6,7,8,9,10,11,12,13,14,15],\"y\":{\"__ndarray__\":\"AAAAAAAA8D8AAAAAAADwPwAAAAAAAPA/AAAA4N3d7T8AAADg3d3tPwAAAIB3d+c/AAAAYFVV5T8AAABgVVXlPwAAAGBVVeU/AAAAYFVV5T8AAABgVVXlPwAAAGBVVeU/AAAAYFVV5T8AAACAd3fXPwAAAIB3d9c/AAAAgHd31z8=\",\"dtype\":\"float64\",\"shape\":[16]}}},\"id\":\"c8aa6eff-3dee-49e1-b30c-fea8fb730186\",\"type\":\"ColumnDataSource\"},{\"attributes\":{},\"id\":\"b9d77c07-6002-4351-8545-3dcd5fa6992e\",\"type\":\"BasicTickFormatter\"},{\"attributes\":{\"items\":[{\"id\":\"b08b8ed7-f2b2-4a80-8b1a-faf7dff7d4f3\",\"type\":\"LegendItem\"},{\"id\":\"81519cd1-9056-4f96-8c72-0611a5ee7153\",\"type\":\"LegendItem\"}],\"plot\":{\"id\":\"ec05abf6-5364-41d0-bfec-1c07710ef5ba\",\"subtype\":\"Figure\",\"type\":\"Plot\"}},\"id\":\"e08ee054-3787-4f2c-8a27-b95559a6035b\",\"type\":\"Legend\"},{\"attributes\":{},\"id\":\"2cf3e973-3069-475f-ba7b-29d05962a286\",\"type\":\"BasicTicker\"},{\"attributes\":{\"below\":[{\"id\":\"8ff96881-bc11-47ee-9677-f9ad2fcdc6d4\",\"type\":\"LinearAxis\"}],\"left\":[{\"id\":\"0dc8f57e-62db-48b9-8f33-b67cffcd39af\",\"type\":\"LinearAxis\"}],\"renderers\":[{\"id\":\"8ff96881-bc11-47ee-9677-f9ad2fcdc6d4\",\"type\":\"LinearAxis\"},{\"id\":\"99cf0ebd-1f97-4846-885d-1c0cdff40965\",\"type\":\"Grid\"},{\"id\":\"0dc8f57e-62db-48b9-8f33-b67cffcd39af\",\"type\":\"LinearAxis\"},{\"id\":\"d95a30f9-35b0-47ed-ad7e-41271e75a2b6\",\"type\":\"Grid\"},{\"id\":\"11652920-a4f1-4552-812c-6568bde35a48\",\"type\":\"BoxAnnotation\"},{\"id\":\"3414b9b6-1f59-40c8-ae2f-5a6696e6e11c\",\"type\":\"BoxAnnotation\"},{\"id\":\"10de2fd4-22d5-417f-a4ff-3cd787c727de\",\"type\":\"PolyAnnotation\"},{\"id\":\"c7ab5ce5-1310-4d16-910d-1e8b99ae28ee\",\"type\":\"PolyAnnotation\"},{\"id\":\"e08ee054-3787-4f2c-8a27-b95559a6035b\",\"type\":\"Legend\"},{\"id\":\"d4f8d34d-e8ce-4e31-a58a-2823d99db4c8\",\"type\":\"GlyphRenderer\"},{\"id\":\"c8626459-2572-4f33-8cfe-2edad9ca0ce2\",\"type\":\"GlyphRenderer\"}],\"title\":{\"id\":\"77749a58-f7cc-4915-88d1-f45c76619ea9\",\"type\":\"Title\"},\"tool_events\":{\"id\":\"c1f9740f-ef73-4030-8721-fd15a2b0f7a4\",\"type\":\"ToolEvents\"},\"toolbar\":{\"id\":\"d1ea3720-5932-4a8c-ad06-16d85555fe2e\",\"type\":\"Toolbar\"},\"x_range\":{\"id\":\"6b95dc17-5018-492d-9370-10d3a08d938c\",\"type\":\"DataRange1d\"},\"y_range\":{\"id\":\"d18ca5c1-4e47-4f02-8099-af45d870de5b\",\"type\":\"DataRange1d\"}},\"id\":\"ec05abf6-5364-41d0-bfec-1c07710ef5ba\",\"subtype\":\"Figure\",\"type\":\"Plot\"},{\"attributes\":{\"line_color\":{\"value\":\"red\"},\"line_width\":{\"value\":2},\"x\":{\"field\":\"x\"},\"y\":{\"field\":\"y\"}},\"id\":\"6baf058a-777e-4526-b6df-0750fed99fb8\",\"type\":\"Line\"},{\"attributes\":{\"plot\":{\"id\":\"ec05abf6-5364-41d0-bfec-1c07710ef5ba\",\"subtype\":\"Figure\",\"type\":\"Plot\"}},\"id\":\"b5ed4063-8dee-4b12-b6e5-878e62cf91f7\",\"type\":\"ResizeTool\"},{\"attributes\":{},\"id\":\"c1f9740f-ef73-4030-8721-fd15a2b0f7a4\",\"type\":\"ToolEvents\"},{\"attributes\":{\"overlay\":{\"id\":\"c7ab5ce5-1310-4d16-910d-1e8b99ae28ee\",\"type\":\"PolyAnnotation\"},\"plot\":{\"id\":\"ec05abf6-5364-41d0-bfec-1c07710ef5ba\",\"subtype\":\"Figure\",\"type\":\"Plot\"}},\"id\":\"4ccdb95e-c5a8-4928-ac3d-5a764a832a83\",\"type\":\"PolySelectTool\"},{\"attributes\":{},\"id\":\"eb84e4e9-d52b-4789-902c-0d7561d68fe9\",\"type\":\"BasicTickFormatter\"},{\"attributes\":{\"plot\":{\"id\":\"ec05abf6-5364-41d0-bfec-1c07710ef5ba\",\"subtype\":\"Figure\",\"type\":\"Plot\"},\"ticker\":{\"id\":\"2cf3e973-3069-475f-ba7b-29d05962a286\",\"type\":\"BasicTicker\"}},\"id\":\"99cf0ebd-1f97-4846-885d-1c0cdff40965\",\"type\":\"Grid\"}],\"root_ids\":[\"ec05abf6-5364-41d0-bfec-1c07710ef5ba\"]},\"title\":\"Bokeh Application\",\"version\":\"0.12.4\"}};\n",
       "            var render_items = [{\"docid\":\"725f3962-8099-428d-bb46-3dc07f6d5d09\",\"elementid\":\"ef5f7a07-19eb-4bdf-94a0-961a5e299e0d\",\"modelid\":\"ec05abf6-5364-41d0-bfec-1c07710ef5ba\"}];\n",
       "            \n",
       "            Bokeh.embed.embed_items(docs_json, render_items);\n",
       "          };\n",
       "          if (document.readyState != \"loading\") fn();\n",
       "          else document.addEventListener(\"DOMContentLoaded\", fn);\n",
       "        })();\n",
       "      },\n",
       "      function(Bokeh) {\n",
       "      }\n",
       "    ];\n",
       "  \n",
       "    function run_inline_js() {\n",
       "      \n",
       "      if ((window.Bokeh !== undefined) || (force === true)) {\n",
       "        for (var i = 0; i < inline_js.length; i++) {\n",
       "          inline_js[i](window.Bokeh);\n",
       "        }if (force === true) {\n",
       "          display_loaded();\n",
       "        }} else if (Date.now() < window._bokeh_timeout) {\n",
       "        setTimeout(run_inline_js, 100);\n",
       "      } else if (!window._bokeh_failed_load) {\n",
       "        console.log(\"Bokeh: BokehJS failed to load within specified timeout.\");\n",
       "        window._bokeh_failed_load = true;\n",
       "      } else if (force !== true) {\n",
       "        var cell = $(document.getElementById(\"ef5f7a07-19eb-4bdf-94a0-961a5e299e0d\")).parents('.cell').data().cell;\n",
       "        cell.output_area.append_execute_result(NB_LOAD_WARNING)\n",
       "      }\n",
       "  \n",
       "    }\n",
       "  \n",
       "    if (window._bokeh_is_loading === 0) {\n",
       "      console.log(\"Bokeh: BokehJS loaded, going straight to plotting\");\n",
       "      run_inline_js();\n",
       "    } else {\n",
       "      load_libs(js_urls, function() {\n",
       "        console.log(\"Bokeh: BokehJS plotting callback run at\", now());\n",
       "        run_inline_js();\n",
       "      });\n",
       "    }\n",
       "  }(this));\n",
       "</script>"
      ]
     },
     "metadata": {},
     "output_type": "display_data"
    }
   ],
   "source": [
    "p1 = figure(title=\"The Performance over the number of neurons' pruned\", tools=TOOLS)\n",
    "p1.line(ind, ucb1, legend=\"ucb1\", line_color=\"blue\", line_width=2)\n",
    "p1.line(ind, ThompsonSampling, legend=\"Thompson Sampling\", line_color=\"red\", line_width=2)\n",
    "p1.title.align = \"center\"\n",
    "show(p1)"
   ]
  },
  {
   "cell_type": "markdown",
   "metadata": {},
   "source": [
    "# Comparing All algorithms with the model before pruning"
   ]
  },
  {
   "cell_type": "code",
   "execution_count": 10,
   "metadata": {
    "collapsed": false
   },
   "outputs": [
    {
     "data": {
      "image/png": "[encoded data removed]",
      "text/plain": [
       "<matplotlib.figure.Figure at 0x10e874320>"
      ]
     },
     "metadata": {},
     "output_type": "display_data"
    }
   ],
   "source": [
    "fig = plt.figure(figsize=(10, 6), dpi=80)\n",
    "ax = fig.add_subplot(111)\n",
    "N = len(ucb1)\n",
    "Acc = [Accuracy for col in range(N)]\n",
    "ind = np.arange(N)                # the x locations for the groups\n",
    "plt.plot(ind , ucb1 , color=\"blue\", linewidth=2.5, linestyle=\"-\", label=\"UCB1\")\n",
    "plt.plot(ind , ThompsonSampling, color=\"orange\", linewidth=2.5, linestyle=\"-\", label=\"Thompson Sampling\")\n",
    "plt.plot(ind , Acc, color=\"pink\", linewidth=2.5, linestyle=\"-\", label=\"Accuracy before Pruning\")\n",
    "plt.legend(loc = 3)\n",
    "plt.axis([0, 25, 0, 1])\n",
    "plt.xlabel('Number of pruned Neurons')\n",
    "plt.ylabel('The Accuracy')\n",
    "plt.grid(True)\n",
    "plt.show()"
   ]
  },
  {
   "cell_type": "code",
   "execution_count": 11,
   "metadata": {
    "collapsed": false
   },
   "outputs": [
    {
     "data": {
      "text/html": [
       "\n",
       "\n",
       "    <div class=\"bk-root\">\n",
       "        <div class=\"bk-plotdiv\" id=\"0e67afd6-3351-45f6-8e61-50b19deb4396\"></div>\n",
       "    </div>\n",
       "<script type=\"text/javascript\">\n",
       "  \n",
       "  (function(global) {\n",
       "    function now() {\n",
       "      return new Date();\n",
       "    }\n",
       "  \n",
       "    var force = false;\n",
       "  \n",
       "    if (typeof (window._bokeh_onload_callbacks) === \"undefined\" || force === true) {\n",
       "      window._bokeh_onload_callbacks = [];\n",
       "      window._bokeh_is_loading = undefined;\n",
       "    }\n",
       "  \n",
       "  \n",
       "    \n",
       "    if (typeof (window._bokeh_timeout) === \"undefined\" || force === true) {\n",
       "      window._bokeh_timeout = Date.now() + 0;\n",
       "      window._bokeh_failed_load = false;\n",
       "    }\n",
       "  \n",
       "    var NB_LOAD_WARNING = {'data': {'text/html':\n",
       "       \"<div style='background-color: #fdd'>\\n\"+\n",
       "       \"<p>\\n\"+\n",
       "       \"BokehJS does not appear to have successfully loaded. If loading BokehJS from CDN, this \\n\"+\n",
       "       \"may be due to a slow or bad network connection. Possible fixes:\\n\"+\n",
       "       \"</p>\\n\"+\n",
       "       \"<ul>\\n\"+\n",
       "       \"<li>re-rerun `output_notebook()` to attempt to load from CDN again, or</li>\\n\"+\n",
       "       \"<li>use INLINE resources instead, as so:</li>\\n\"+\n",
       "       \"</ul>\\n\"+\n",
       "       \"<code>\\n\"+\n",
       "       \"from bokeh.resources import INLINE\\n\"+\n",
       "       \"output_notebook(resources=INLINE)\\n\"+\n",
       "       \"</code>\\n\"+\n",
       "       \"</div>\"}};\n",
       "  \n",
       "    function display_loaded() {\n",
       "      if (window.Bokeh !== undefined) {\n",
       "        document.getElementById(\"0e67afd6-3351-45f6-8e61-50b19deb4396\").textContent = \"BokehJS successfully loaded.\";\n",
       "      } else if (Date.now() < window._bokeh_timeout) {\n",
       "        setTimeout(display_loaded, 100)\n",
       "      }\n",
       "    }\n",
       "  \n",
       "    function run_callbacks() {\n",
       "      window._bokeh_onload_callbacks.forEach(function(callback) { callback() });\n",
       "      delete window._bokeh_onload_callbacks\n",
       "      console.info(\"Bokeh: all callbacks have finished\");\n",
       "    }\n",
       "  \n",
       "    function load_libs(js_urls, callback) {\n",
       "      window._bokeh_onload_callbacks.push(callback);\n",
       "      if (window._bokeh_is_loading > 0) {\n",
       "        console.log(\"Bokeh: BokehJS is being loaded, scheduling callback at\", now());\n",
       "        return null;\n",
       "      }\n",
       "      if (js_urls == null || js_urls.length === 0) {\n",
       "        run_callbacks();\n",
       "        return null;\n",
       "      }\n",
       "      console.log(\"Bokeh: BokehJS not loaded, scheduling load and callback at\", now());\n",
       "      window._bokeh_is_loading = js_urls.length;\n",
       "      for (var i = 0; i < js_urls.length; i++) {\n",
       "        var url = js_urls[i];\n",
       "        var s = document.createElement('script');\n",
       "        s.src = url;\n",
       "        s.async = false;\n",
       "        s.onreadystatechange = s.onload = function() {\n",
       "          window._bokeh_is_loading--;\n",
       "          if (window._bokeh_is_loading === 0) {\n",
       "            console.log(\"Bokeh: all BokehJS libraries loaded\");\n",
       "            run_callbacks()\n",
       "          }\n",
       "        };\n",
       "        s.onerror = function() {\n",
       "          console.warn(\"failed to load library \" + url);\n",
       "        };\n",
       "        console.log(\"Bokeh: injecting script tag for BokehJS library: \", url);\n",
       "        document.getElementsByTagName(\"head\")[0].appendChild(s);\n",
       "      }\n",
       "    };var element = document.getElementById(\"0e67afd6-3351-45f6-8e61-50b19deb4396\");\n",
       "    if (element == null) {\n",
       "      console.log(\"Bokeh: ERROR: autoload.js configured with elementid '0e67afd6-3351-45f6-8e61-50b19deb4396' but no matching script tag was found. \")\n",
       "      return false;\n",
       "    }\n",
       "  \n",
       "    var js_urls = [];\n",
       "  \n",
       "    var inline_js = [\n",
       "      function(Bokeh) {\n",
       "        (function() {\n",
       "          var fn = function() {\n",
       "            var docs_json = {\"3dd99a17-b692-48c0-8469-1ca5062adbf9\":{\"roots\":{\"references\":[{\"attributes\":{\"callback\":null},\"id\":\"019924ef-0f21-4433-ac20-3b5971df7f16\",\"type\":\"DataRange1d\"},{\"attributes\":{\"plot\":{\"id\":\"662b06b1-b9a1-4530-b2fc-047a2757558c\",\"subtype\":\"Figure\",\"type\":\"Plot\"}},\"id\":\"7d21e390-026f-4381-a029-c8b94ab8fcd3\",\"type\":\"ResizeTool\"},{\"attributes\":{},\"id\":\"cde00999-0bea-4644-aa17-fcc0a52b0970\",\"type\":\"BasicTicker\"},{\"attributes\":{\"line_alpha\":{\"value\":0.1},\"line_color\":{\"value\":\"#1f77b4\"},\"line_dash\":[4,4],\"line_width\":{\"value\":2},\"x\":{\"field\":\"x\"},\"y\":{\"field\":\"y\"}},\"id\":\"597b0040-37ea-4bcd-ac98-0a9089918ef1\",\"type\":\"Line\"},{\"attributes\":{\"overlay\":{\"id\":\"5fbfc491-8c8b-48d4-8609-8ab7377ecbc7\",\"type\":\"BoxAnnotation\"},\"plot\":{\"id\":\"662b06b1-b9a1-4530-b2fc-047a2757558c\",\"subtype\":\"Figure\",\"type\":\"Plot\"}},\"id\":\"c5bfbc0e-b544-4cdb-a0ad-619f10b69d55\",\"type\":\"BoxZoomTool\"},{\"attributes\":{\"callback\":null},\"id\":\"e2ea8dd9-db2d-4010-822f-4cae3743eaea\",\"type\":\"DataRange1d\"},{\"attributes\":{\"callback\":null,\"overlay\":{\"id\":\"e3e70f18-72d8-4ea1-9ff3-6e39b7b0e91d\",\"type\":\"BoxAnnotation\"},\"plot\":{\"id\":\"662b06b1-b9a1-4530-b2fc-047a2757558c\",\"subtype\":\"Figure\",\"type\":\"Plot\"},\"renderers\":[{\"id\":\"3b3b5006-e3fa-44af-b9d4-8c78c703b64f\",\"type\":\"GlyphRenderer\"},{\"id\":\"1e96e0f0-2664-41dd-92b4-bab84f77fbcc\",\"type\":\"GlyphRenderer\"},{\"id\":\"0868e672-4dff-4a6e-9871-f6ae8ef556e3\",\"type\":\"GlyphRenderer\"}]},\"id\":\"67d10669-5419-4535-930e-0fc2f6c30e69\",\"type\":\"BoxSelectTool\"},{\"attributes\":{\"plot\":{\"id\":\"662b06b1-b9a1-4530-b2fc-047a2757558c\",\"subtype\":\"Figure\",\"type\":\"Plot\"}},\"id\":\"fbcf9871-d7d2-41ac-be9c-a98924c0ab05\",\"type\":\"CrosshairTool\"},{\"attributes\":{\"data_source\":{\"id\":\"17a6633c-fc49-424d-9f1a-546b2486b168\",\"type\":\"ColumnDataSource\"},\"glyph\":{\"id\":\"339a5bd1-1a6a-43e6-8259-363de215a8c2\",\"type\":\"Line\"},\"hover_glyph\":null,\"nonselection_glyph\":{\"id\":\"597b0040-37ea-4bcd-ac98-0a9089918ef1\",\"type\":\"Line\"},\"selection_glyph\":null},\"id\":\"0868e672-4dff-4a6e-9871-f6ae8ef556e3\",\"type\":\"GlyphRenderer\"},{\"attributes\":{\"callback\":null,\"column_names\":[\"x\",\"y\"],\"data\":{\"x\":[0,1,2,3,4,5,6,7,8,9,10,11,12,13,14,15],\"y\":{\"__ndarray__\":\"AAAAAAAA8D8AAAAAAADwPwAAAODu7u4/AAAAgHd35z8AAABgVVXlPwAAAGBVVeU/AAAAYFVV5T8AAABgVVXlPwAAAGBVVeU/AAAAYFVV5T8AAABgVVXlPwAAAGBVVeU/AAAAgHd31z8AAACAd3fXPwAAAIB3d9c/AAAAgHd31z8=\",\"dtype\":\"float64\",\"shape\":[16]}}},\"id\":\"2740eb16-7f04-422e-a291-11e4ad3decab\",\"type\":\"ColumnDataSource\"},{\"attributes\":{\"label\":{\"value\":\"Accuracy\"},\"renderers\":[{\"id\":\"0868e672-4dff-4a6e-9871-f6ae8ef556e3\",\"type\":\"GlyphRenderer\"}]},\"id\":\"f26c7df3-c39e-49d1-926c-193c42490c88\",\"type\":\"LegendItem\"},{\"attributes\":{\"data_source\":{\"id\":\"2740eb16-7f04-422e-a291-11e4ad3decab\",\"type\":\"ColumnDataSource\"},\"glyph\":{\"id\":\"c8417085-58dd-4f69-b62b-70c87b253b6c\",\"type\":\"Line\"},\"hover_glyph\":null,\"nonselection_glyph\":{\"id\":\"8841f465-767b-4479-8ff9-b1ee0339f405\",\"type\":\"Line\"},\"selection_glyph\":null},\"id\":\"1e96e0f0-2664-41dd-92b4-bab84f77fbcc\",\"type\":\"GlyphRenderer\"},{\"attributes\":{},\"id\":\"e474947f-c923-4081-8450-42beaadb9aab\",\"type\":\"BasicTickFormatter\"},{\"attributes\":{\"align\":\"center\",\"plot\":null,\"text\":\"The Performance over the number of neurons' pruned\"},\"id\":\"7d3eb33c-efb2-443b-b0b5-a00890362ada\",\"type\":\"Title\"},{\"attributes\":{\"callback\":null,\"column_names\":[\"x\",\"y\"],\"data\":{\"x\":[0,1,2,3,4,5,6,7,8,9,10,11,12,13,14,15],\"y\":[{\"__ndarray__\":\"rkfh2mkD7T8=\",\"dtype\":\"float64\",\"shape\":[]},{\"__ndarray__\":\"rkfh2mkD7T8=\",\"dtype\":\"float64\",\"shape\":[]},{\"__ndarray__\":\"rkfh2mkD7T8=\",\"dtype\":\"float64\",\"shape\":[]},{\"__ndarray__\":\"rkfh2mkD7T8=\",\"dtype\":\"float64\",\"shape\":[]},{\"__ndarray__\":\"rkfh2mkD7T8=\",\"dtype\":\"float64\",\"shape\":[]},{\"__ndarray__\":\"rkfh2mkD7T8=\",\"dtype\":\"float64\",\"shape\":[]},{\"__ndarray__\":\"rkfh2mkD7T8=\",\"dtype\":\"float64\",\"shape\":[]},{\"__ndarray__\":\"rkfh2mkD7T8=\",\"dtype\":\"float64\",\"shape\":[]},{\"__ndarray__\":\"rkfh2mkD7T8=\",\"dtype\":\"float64\",\"shape\":[]},{\"__ndarray__\":\"rkfh2mkD7T8=\",\"dtype\":\"float64\",\"shape\":[]},{\"__ndarray__\":\"rkfh2mkD7T8=\",\"dtype\":\"float64\",\"shape\":[]},{\"__ndarray__\":\"rkfh2mkD7T8=\",\"dtype\":\"float64\",\"shape\":[]},{\"__ndarray__\":\"rkfh2mkD7T8=\",\"dtype\":\"float64\",\"shape\":[]},{\"__ndarray__\":\"rkfh2mkD7T8=\",\"dtype\":\"float64\",\"shape\":[]},{\"__ndarray__\":\"rkfh2mkD7T8=\",\"dtype\":\"float64\",\"shape\":[]},{\"__ndarray__\":\"rkfh2mkD7T8=\",\"dtype\":\"float64\",\"shape\":[]}]}},\"id\":\"17a6633c-fc49-424d-9f1a-546b2486b168\",\"type\":\"ColumnDataSource\"},{\"attributes\":{\"bottom_units\":\"screen\",\"fill_alpha\":{\"value\":0.5},\"fill_color\":{\"value\":\"lightgrey\"},\"left_units\":\"screen\",\"level\":\"overlay\",\"line_alpha\":{\"value\":1.0},\"line_color\":{\"value\":\"black\"},\"line_dash\":[4,4],\"line_width\":{\"value\":2},\"plot\":null,\"render_mode\":\"css\",\"right_units\":\"screen\",\"top_units\":\"screen\"},\"id\":\"e3e70f18-72d8-4ea1-9ff3-6e39b7b0e91d\",\"type\":\"BoxAnnotation\"},{\"attributes\":{},\"id\":\"18e59a4c-4fef-4048-934e-4e047ab26b7b\",\"type\":\"ToolEvents\"},{\"attributes\":{\"callback\":null,\"plot\":{\"id\":\"662b06b1-b9a1-4530-b2fc-047a2757558c\",\"subtype\":\"Figure\",\"type\":\"Plot\"}},\"id\":\"6505cd41-cebb-456c-95a1-634da36b065c\",\"type\":\"TapTool\"},{\"attributes\":{},\"id\":\"55abfdf0-d590-4fc5-8626-fdc027425788\",\"type\":\"BasicTicker\"},{\"attributes\":{\"bottom_units\":\"screen\",\"fill_alpha\":{\"value\":0.5},\"fill_color\":{\"value\":\"lightgrey\"},\"left_units\":\"screen\",\"level\":\"overlay\",\"line_alpha\":{\"value\":1.0},\"line_color\":{\"value\":\"black\"},\"line_dash\":[4,4],\"line_width\":{\"value\":2},\"plot\":null,\"render_mode\":\"css\",\"right_units\":\"screen\",\"top_units\":\"screen\"},\"id\":\"5fbfc491-8c8b-48d4-8609-8ab7377ecbc7\",\"type\":\"BoxAnnotation\"},{\"attributes\":{\"active_drag\":\"auto\",\"active_scroll\":\"auto\",\"active_tap\":\"auto\",\"tools\":[{\"id\":\"c5bfbc0e-b544-4cdb-a0ad-619f10b69d55\",\"type\":\"BoxZoomTool\"},{\"id\":\"67d10669-5419-4535-930e-0fc2f6c30e69\",\"type\":\"BoxSelectTool\"},{\"id\":\"fbcf9871-d7d2-41ac-be9c-a98924c0ab05\",\"type\":\"CrosshairTool\"},{\"id\":\"7d21e390-026f-4381-a029-c8b94ab8fcd3\",\"type\":\"ResizeTool\"},{\"id\":\"848edf8e-f3d4-4771-8b0c-b8069856cd3d\",\"type\":\"ResetTool\"},{\"id\":\"d1accd5e-d472-4e37-ade8-8cfcf1d521ba\",\"type\":\"LassoSelectTool\"},{\"id\":\"f553c418-e34c-4e8b-8dcc-5d350bfc838d\",\"type\":\"PanTool\"},{\"id\":\"f12449aa-20ca-4b44-acbc-bf6b54606f56\",\"type\":\"SaveTool\"},{\"id\":\"67326adf-6559-44dc-83f2-8f18132702d4\",\"type\":\"PolySelectTool\"},{\"id\":\"6505cd41-cebb-456c-95a1-634da36b065c\",\"type\":\"TapTool\"},{\"id\":\"9408eabb-0c48-423f-8a1f-af588a50572a\",\"type\":\"WheelZoomTool\"},{\"id\":\"31b23c24-e897-4df6-b471-f1d298e60773\",\"type\":\"UndoTool\"}]},\"id\":\"ef2943fc-fd90-4f8f-8c76-d80e1eadf57e\",\"type\":\"Toolbar\"},{\"attributes\":{\"plot\":{\"id\":\"662b06b1-b9a1-4530-b2fc-047a2757558c\",\"subtype\":\"Figure\",\"type\":\"Plot\"}},\"id\":\"9408eabb-0c48-423f-8a1f-af588a50572a\",\"type\":\"WheelZoomTool\"},{\"attributes\":{\"callback\":null,\"overlay\":{\"id\":\"eec62d65-fcb5-4014-bcdb-769b5e8f105c\",\"type\":\"PolyAnnotation\"},\"plot\":{\"id\":\"662b06b1-b9a1-4530-b2fc-047a2757558c\",\"subtype\":\"Figure\",\"type\":\"Plot\"}},\"id\":\"d1accd5e-d472-4e37-ade8-8cfcf1d521ba\",\"type\":\"LassoSelectTool\"},{\"attributes\":{\"data_source\":{\"id\":\"4a28bd75-4880-4b84-abaa-3669b1c8b95e\",\"type\":\"ColumnDataSource\"},\"glyph\":{\"id\":\"ee86a60d-1f7d-47cc-bcb2-68da5f1aad20\",\"type\":\"Line\"},\"hover_glyph\":null,\"nonselection_glyph\":{\"id\":\"303d665d-30be-4519-a588-e76dcbc50240\",\"type\":\"Line\"},\"selection_glyph\":null},\"id\":\"3b3b5006-e3fa-44af-b9d4-8c78c703b64f\",\"type\":\"GlyphRenderer\"},{\"attributes\":{\"plot\":{\"id\":\"662b06b1-b9a1-4530-b2fc-047a2757558c\",\"subtype\":\"Figure\",\"type\":\"Plot\"}},\"id\":\"f12449aa-20ca-4b44-acbc-bf6b54606f56\",\"type\":\"SaveTool\"},{\"attributes\":{\"plot\":{\"id\":\"662b06b1-b9a1-4530-b2fc-047a2757558c\",\"subtype\":\"Figure\",\"type\":\"Plot\"}},\"id\":\"f553c418-e34c-4e8b-8dcc-5d350bfc838d\",\"type\":\"PanTool\"},{\"attributes\":{\"plot\":{\"id\":\"662b06b1-b9a1-4530-b2fc-047a2757558c\",\"subtype\":\"Figure\",\"type\":\"Plot\"},\"ticker\":{\"id\":\"55abfdf0-d590-4fc5-8626-fdc027425788\",\"type\":\"BasicTicker\"}},\"id\":\"b3ce1aac-584e-412e-8f6e-efb2679b2c1a\",\"type\":\"Grid\"},{\"attributes\":{\"overlay\":{\"id\":\"168839da-592c-4792-8254-a56f88fd91f9\",\"type\":\"PolyAnnotation\"},\"plot\":{\"id\":\"662b06b1-b9a1-4530-b2fc-047a2757558c\",\"subtype\":\"Figure\",\"type\":\"Plot\"}},\"id\":\"67326adf-6559-44dc-83f2-8f18132702d4\",\"type\":\"PolySelectTool\"},{\"attributes\":{\"below\":[{\"id\":\"fa4a7655-5f65-4033-8742-9ca93d4bcef9\",\"type\":\"LinearAxis\"}],\"left\":[{\"id\":\"73df3630-9893-4572-87ff-c2e929ef54e6\",\"type\":\"LinearAxis\"}],\"renderers\":[{\"id\":\"fa4a7655-5f65-4033-8742-9ca93d4bcef9\",\"type\":\"LinearAxis\"},{\"id\":\"b3ce1aac-584e-412e-8f6e-efb2679b2c1a\",\"type\":\"Grid\"},{\"id\":\"73df3630-9893-4572-87ff-c2e929ef54e6\",\"type\":\"LinearAxis\"},{\"id\":\"fa07a9c7-70fb-4d00-931d-be1b80fa68fb\",\"type\":\"Grid\"},{\"id\":\"5fbfc491-8c8b-48d4-8609-8ab7377ecbc7\",\"type\":\"BoxAnnotation\"},{\"id\":\"e3e70f18-72d8-4ea1-9ff3-6e39b7b0e91d\",\"type\":\"BoxAnnotation\"},{\"id\":\"eec62d65-fcb5-4014-bcdb-769b5e8f105c\",\"type\":\"PolyAnnotation\"},{\"id\":\"168839da-592c-4792-8254-a56f88fd91f9\",\"type\":\"PolyAnnotation\"},{\"id\":\"0c272811-d8c3-4c3f-a5fe-adad2a5f8892\",\"type\":\"Legend\"},{\"id\":\"3b3b5006-e3fa-44af-b9d4-8c78c703b64f\",\"type\":\"GlyphRenderer\"},{\"id\":\"1e96e0f0-2664-41dd-92b4-bab84f77fbcc\",\"type\":\"GlyphRenderer\"},{\"id\":\"0868e672-4dff-4a6e-9871-f6ae8ef556e3\",\"type\":\"GlyphRenderer\"}],\"title\":{\"id\":\"7d3eb33c-efb2-443b-b0b5-a00890362ada\",\"type\":\"Title\"},\"tool_events\":{\"id\":\"18e59a4c-4fef-4048-934e-4e047ab26b7b\",\"type\":\"ToolEvents\"},\"toolbar\":{\"id\":\"ef2943fc-fd90-4f8f-8c76-d80e1eadf57e\",\"type\":\"Toolbar\"},\"x_range\":{\"id\":\"019924ef-0f21-4433-ac20-3b5971df7f16\",\"type\":\"DataRange1d\"},\"y_range\":{\"id\":\"e2ea8dd9-db2d-4010-822f-4cae3743eaea\",\"type\":\"DataRange1d\"}},\"id\":\"662b06b1-b9a1-4530-b2fc-047a2757558c\",\"subtype\":\"Figure\",\"type\":\"Plot\"},{\"attributes\":{\"formatter\":{\"id\":\"25772235-066d-4df5-a736-14d1a3dac6ce\",\"type\":\"BasicTickFormatter\"},\"plot\":{\"id\":\"662b06b1-b9a1-4530-b2fc-047a2757558c\",\"subtype\":\"Figure\",\"type\":\"Plot\"},\"ticker\":{\"id\":\"cde00999-0bea-4644-aa17-fcc0a52b0970\",\"type\":\"BasicTicker\"}},\"id\":\"73df3630-9893-4572-87ff-c2e929ef54e6\",\"type\":\"LinearAxis\"},{\"attributes\":{\"formatter\":{\"id\":\"e474947f-c923-4081-8450-42beaadb9aab\",\"type\":\"BasicTickFormatter\"},\"plot\":{\"id\":\"662b06b1-b9a1-4530-b2fc-047a2757558c\",\"subtype\":\"Figure\",\"type\":\"Plot\"},\"ticker\":{\"id\":\"55abfdf0-d590-4fc5-8626-fdc027425788\",\"type\":\"BasicTicker\"}},\"id\":\"fa4a7655-5f65-4033-8742-9ca93d4bcef9\",\"type\":\"LinearAxis\"},{\"attributes\":{\"plot\":{\"id\":\"662b06b1-b9a1-4530-b2fc-047a2757558c\",\"subtype\":\"Figure\",\"type\":\"Plot\"}},\"id\":\"31b23c24-e897-4df6-b471-f1d298e60773\",\"type\":\"UndoTool\"},{\"attributes\":{\"items\":[{\"id\":\"ac0c6356-4c86-405e-8ea0-c430a90e96ba\",\"type\":\"LegendItem\"},{\"id\":\"7cd4f2cd-b911-4321-83c5-8b91a85db4cf\",\"type\":\"LegendItem\"},{\"id\":\"f26c7df3-c39e-49d1-926c-193c42490c88\",\"type\":\"LegendItem\"}],\"plot\":{\"id\":\"662b06b1-b9a1-4530-b2fc-047a2757558c\",\"subtype\":\"Figure\",\"type\":\"Plot\"}},\"id\":\"0c272811-d8c3-4c3f-a5fe-adad2a5f8892\",\"type\":\"Legend\"},{\"attributes\":{\"dimension\":1,\"plot\":{\"id\":\"662b06b1-b9a1-4530-b2fc-047a2757558c\",\"subtype\":\"Figure\",\"type\":\"Plot\"},\"ticker\":{\"id\":\"cde00999-0bea-4644-aa17-fcc0a52b0970\",\"type\":\"BasicTicker\"}},\"id\":\"fa07a9c7-70fb-4d00-931d-be1b80fa68fb\",\"type\":\"Grid\"},{\"attributes\":{\"line_color\":{\"value\":\"green\"},\"line_width\":{\"value\":2},\"x\":{\"field\":\"x\"},\"y\":{\"field\":\"y\"}},\"id\":\"ee86a60d-1f7d-47cc-bcb2-68da5f1aad20\",\"type\":\"Line\"},{\"attributes\":{},\"id\":\"25772235-066d-4df5-a736-14d1a3dac6ce\",\"type\":\"BasicTickFormatter\"},{\"attributes\":{\"fill_alpha\":{\"value\":0.5},\"fill_color\":{\"value\":\"lightgrey\"},\"level\":\"overlay\",\"line_alpha\":{\"value\":1.0},\"line_color\":{\"value\":\"black\"},\"line_dash\":[4,4],\"line_width\":{\"value\":2},\"plot\":null,\"xs_units\":\"screen\",\"ys_units\":\"screen\"},\"id\":\"168839da-592c-4792-8254-a56f88fd91f9\",\"type\":\"PolyAnnotation\"},{\"attributes\":{\"line_alpha\":{\"value\":0.1},\"line_color\":{\"value\":\"#1f77b4\"},\"line_width\":{\"value\":2},\"x\":{\"field\":\"x\"},\"y\":{\"field\":\"y\"}},\"id\":\"303d665d-30be-4519-a588-e76dcbc50240\",\"type\":\"Line\"},{\"attributes\":{\"fill_alpha\":{\"value\":0.5},\"fill_color\":{\"value\":\"lightgrey\"},\"level\":\"overlay\",\"line_alpha\":{\"value\":1.0},\"line_color\":{\"value\":\"black\"},\"line_dash\":[4,4],\"line_width\":{\"value\":2},\"plot\":null,\"xs_units\":\"screen\",\"ys_units\":\"screen\"},\"id\":\"eec62d65-fcb5-4014-bcdb-769b5e8f105c\",\"type\":\"PolyAnnotation\"},{\"attributes\":{\"label\":{\"value\":\"ucb1\"},\"renderers\":[{\"id\":\"3b3b5006-e3fa-44af-b9d4-8c78c703b64f\",\"type\":\"GlyphRenderer\"}]},\"id\":\"ac0c6356-4c86-405e-8ea0-c430a90e96ba\",\"type\":\"LegendItem\"},{\"attributes\":{\"callback\":null,\"column_names\":[\"x\",\"y\"],\"data\":{\"x\":[0,1,2,3,4,5,6,7,8,9,10,11,12,13,14,15],\"y\":{\"__ndarray__\":\"AAAAAAAA8D8AAAAAAADwPwAAAAAAAPA/AAAA4N3d7T8AAADg3d3tPwAAAIB3d+c/AAAAYFVV5T8AAABgVVXlPwAAAGBVVeU/AAAAYFVV5T8AAABgVVXlPwAAAGBVVeU/AAAAYFVV5T8AAACAd3fXPwAAAIB3d9c/AAAAgHd31z8=\",\"dtype\":\"float64\",\"shape\":[16]}}},\"id\":\"4a28bd75-4880-4b84-abaa-3669b1c8b95e\",\"type\":\"ColumnDataSource\"},{\"attributes\":{\"line_color\":{\"value\":\"red\"},\"line_width\":{\"value\":2},\"x\":{\"field\":\"x\"},\"y\":{\"field\":\"y\"}},\"id\":\"c8417085-58dd-4f69-b62b-70c87b253b6c\",\"type\":\"Line\"},{\"attributes\":{\"label\":{\"value\":\"Thompson Sampling\"},\"renderers\":[{\"id\":\"1e96e0f0-2664-41dd-92b4-bab84f77fbcc\",\"type\":\"GlyphRenderer\"}]},\"id\":\"7cd4f2cd-b911-4321-83c5-8b91a85db4cf\",\"type\":\"LegendItem\"},{\"attributes\":{\"line_color\":{\"value\":\"blue\"},\"line_dash\":[4,4],\"line_width\":{\"value\":2},\"x\":{\"field\":\"x\"},\"y\":{\"field\":\"y\"}},\"id\":\"339a5bd1-1a6a-43e6-8259-363de215a8c2\",\"type\":\"Line\"},{\"attributes\":{\"plot\":{\"id\":\"662b06b1-b9a1-4530-b2fc-047a2757558c\",\"subtype\":\"Figure\",\"type\":\"Plot\"}},\"id\":\"848edf8e-f3d4-4771-8b0c-b8069856cd3d\",\"type\":\"ResetTool\"},{\"attributes\":{\"line_alpha\":{\"value\":0.1},\"line_color\":{\"value\":\"#1f77b4\"},\"line_width\":{\"value\":2},\"x\":{\"field\":\"x\"},\"y\":{\"field\":\"y\"}},\"id\":\"8841f465-767b-4479-8ff9-b1ee0339f405\",\"type\":\"Line\"}],\"root_ids\":[\"662b06b1-b9a1-4530-b2fc-047a2757558c\"]},\"title\":\"Bokeh Application\",\"version\":\"0.12.4\"}};\n",
       "            var render_items = [{\"docid\":\"3dd99a17-b692-48c0-8469-1ca5062adbf9\",\"elementid\":\"0e67afd6-3351-45f6-8e61-50b19deb4396\",\"modelid\":\"662b06b1-b9a1-4530-b2fc-047a2757558c\"}];\n",
       "            \n",
       "            Bokeh.embed.embed_items(docs_json, render_items);\n",
       "          };\n",
       "          if (document.readyState != \"loading\") fn();\n",
       "          else document.addEventListener(\"DOMContentLoaded\", fn);\n",
       "        })();\n",
       "      },\n",
       "      function(Bokeh) {\n",
       "      }\n",
       "    ];\n",
       "  \n",
       "    function run_inline_js() {\n",
       "      \n",
       "      if ((window.Bokeh !== undefined) || (force === true)) {\n",
       "        for (var i = 0; i < inline_js.length; i++) {\n",
       "          inline_js[i](window.Bokeh);\n",
       "        }if (force === true) {\n",
       "          display_loaded();\n",
       "        }} else if (Date.now() < window._bokeh_timeout) {\n",
       "        setTimeout(run_inline_js, 100);\n",
       "      } else if (!window._bokeh_failed_load) {\n",
       "        console.log(\"Bokeh: BokehJS failed to load within specified timeout.\");\n",
       "        window._bokeh_failed_load = true;\n",
       "      } else if (force !== true) {\n",
       "        var cell = $(document.getElementById(\"0e67afd6-3351-45f6-8e61-50b19deb4396\")).parents('.cell').data().cell;\n",
       "        cell.output_area.append_execute_result(NB_LOAD_WARNING)\n",
       "      }\n",
       "  \n",
       "    }\n",
       "  \n",
       "    if (window._bokeh_is_loading === 0) {\n",
       "      console.log(\"Bokeh: BokehJS loaded, going straight to plotting\");\n",
       "      run_inline_js();\n",
       "    } else {\n",
       "      load_libs(js_urls, function() {\n",
       "        console.log(\"Bokeh: BokehJS plotting callback run at\", now());\n",
       "        run_inline_js();\n",
       "      });\n",
       "    }\n",
       "  }(this));\n",
       "</script>"
      ]
     },
     "metadata": {},
     "output_type": "display_data"
    }
   ],
   "source": [
    "p1 = figure(title=\"The Performance over the number of neurons' pruned\", tools=TOOLS)\n",
    "p1.line(ind, ucb1, legend=\"ucb1\", line_color=\"green\", line_width=2)\n",
    "p1.line(ind, ThompsonSampling, legend=\"Thompson Sampling\", line_color=\"red\", line_width=2)\n",
    "p1.line(ind, Acc, legend=\"Accuracy\", line_dash=(4, 4), line_color=\"blue\", line_width=2)\n",
    "p1.title.align = \"center\"\n",
    "show(p1)"
   ]
  }
 ],
 "metadata": {
  "kernelspec": {
   "display_name": "Python 3",
   "language": "python",
   "name": "python3"
  },
  "language_info": {
   "codemirror_mode": {
    "name": "ipython",
    "version": 3
   },
   "file_extension": ".py",
   "mimetype": "text/x-python",
   "name": "python",
   "nbconvert_exporter": "python",
   "pygments_lexer": "ipython3",
   "version": "3.6.0"
  }
 },
 "nbformat": 4,
 "nbformat_minor": 0
}
