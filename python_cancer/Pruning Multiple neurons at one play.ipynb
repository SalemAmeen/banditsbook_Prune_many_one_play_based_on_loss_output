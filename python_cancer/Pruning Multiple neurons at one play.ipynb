{
 "cells": [
  {
   "cell_type": "markdown",
   "metadata": {},
   "source": [
    "Compute the performance of MAB methods of pruning Multiple neurons at one time\n",
    "\n",
    "MAP for choosing multi arms at one time"
   ]
  },
  {
   "cell_type": "code",
   "execution_count": 12,
   "metadata": {
    "collapsed": true
   },
   "outputs": [],
   "source": [
    "import numpy as np\n",
    "import time\n",
    "import sys\n",
    "from numpy import *\n",
    "import matplotlib.pyplot as plt\n",
    "from sklearn import metrics\n",
    "%matplotlib inline\n",
    "#plt.rcParams['figure.figsize'] = (15, 6)"
   ]
  },
  {
   "cell_type": "markdown",
   "metadata": {},
   "source": [
    "# Load Bokeh"
   ]
  },
  {
   "cell_type": "code",
   "execution_count": 13,
   "metadata": {
    "collapsed": false
   },
   "outputs": [
    {
     "data": {
      "text/html": [
       "\n",
       "    <div class=\"bk-root\">\n",
       "        <a href=\"http://bokeh.pydata.org\" target=\"_blank\" class=\"bk-logo bk-logo-small bk-logo-notebook\"></a>\n",
       "        <span id=\"455e5282-8174-44a1-9ea6-d4890a27e585\">Loading BokehJS ...</span>\n",
       "    </div>"
      ]
     },
     "metadata": {},
     "output_type": "display_data"
    },
    {
     "data": {
      "application/javascript": [
       "\n",
       "(function(global) {\n",
       "  function now() {\n",
       "    return new Date();\n",
       "  }\n",
       "\n",
       "  var force = true;\n",
       "\n",
       "  if (typeof (window._bokeh_onload_callbacks) === \"undefined\" || force === true) {\n",
       "    window._bokeh_onload_callbacks = [];\n",
       "    window._bokeh_is_loading = undefined;\n",
       "  }\n",
       "\n",
       "\n",
       "  \n",
       "  if (typeof (window._bokeh_timeout) === \"undefined\" || force === true) {\n",
       "    window._bokeh_timeout = Date.now() + 5000;\n",
       "    window._bokeh_failed_load = false;\n",
       "  }\n",
       "\n",
       "  var NB_LOAD_WARNING = {'data': {'text/html':\n",
       "     \"<div style='background-color: #fdd'>\\n\"+\n",
       "     \"<p>\\n\"+\n",
       "     \"BokehJS does not appear to have successfully loaded. If loading BokehJS from CDN, this \\n\"+\n",
       "     \"may be due to a slow or bad network connection. Possible fixes:\\n\"+\n",
       "     \"</p>\\n\"+\n",
       "     \"<ul>\\n\"+\n",
       "     \"<li>re-rerun `output_notebook()` to attempt to load from CDN again, or</li>\\n\"+\n",
       "     \"<li>use INLINE resources instead, as so:</li>\\n\"+\n",
       "     \"</ul>\\n\"+\n",
       "     \"<code>\\n\"+\n",
       "     \"from bokeh.resources import INLINE\\n\"+\n",
       "     \"output_notebook(resources=INLINE)\\n\"+\n",
       "     \"</code>\\n\"+\n",
       "     \"</div>\"}};\n",
       "\n",
       "  function display_loaded() {\n",
       "    if (window.Bokeh !== undefined) {\n",
       "      document.getElementById(\"455e5282-8174-44a1-9ea6-d4890a27e585\").textContent = \"BokehJS successfully loaded.\";\n",
       "    } else if (Date.now() < window._bokeh_timeout) {\n",
       "      setTimeout(display_loaded, 100)\n",
       "    }\n",
       "  }\n",
       "\n",
       "  function run_callbacks() {\n",
       "    window._bokeh_onload_callbacks.forEach(function(callback) { callback() });\n",
       "    delete window._bokeh_onload_callbacks\n",
       "    console.info(\"Bokeh: all callbacks have finished\");\n",
       "  }\n",
       "\n",
       "  function load_libs(js_urls, callback) {\n",
       "    window._bokeh_onload_callbacks.push(callback);\n",
       "    if (window._bokeh_is_loading > 0) {\n",
       "      console.log(\"Bokeh: BokehJS is being loaded, scheduling callback at\", now());\n",
       "      return null;\n",
       "    }\n",
       "    if (js_urls == null || js_urls.length === 0) {\n",
       "      run_callbacks();\n",
       "      return null;\n",
       "    }\n",
       "    console.log(\"Bokeh: BokehJS not loaded, scheduling load and callback at\", now());\n",
       "    window._bokeh_is_loading = js_urls.length;\n",
       "    for (var i = 0; i < js_urls.length; i++) {\n",
       "      var url = js_urls[i];\n",
       "      var s = document.createElement('script');\n",
       "      s.src = url;\n",
       "      s.async = false;\n",
       "      s.onreadystatechange = s.onload = function() {\n",
       "        window._bokeh_is_loading--;\n",
       "        if (window._bokeh_is_loading === 0) {\n",
       "          console.log(\"Bokeh: all BokehJS libraries loaded\");\n",
       "          run_callbacks()\n",
       "        }\n",
       "      };\n",
       "      s.onerror = function() {\n",
       "        console.warn(\"failed to load library \" + url);\n",
       "      };\n",
       "      console.log(\"Bokeh: injecting script tag for BokehJS library: \", url);\n",
       "      document.getElementsByTagName(\"head\")[0].appendChild(s);\n",
       "    }\n",
       "  };var element = document.getElementById(\"455e5282-8174-44a1-9ea6-d4890a27e585\");\n",
       "  if (element == null) {\n",
       "    console.log(\"Bokeh: ERROR: autoload.js configured with elementid '455e5282-8174-44a1-9ea6-d4890a27e585' but no matching script tag was found. \")\n",
       "    return false;\n",
       "  }\n",
       "\n",
       "  var js_urls = [\"https://cdn.pydata.org/bokeh/release/bokeh-0.12.4.min.js\", \"https://cdn.pydata.org/bokeh/release/bokeh-widgets-0.12.4.min.js\"];\n",
       "\n",
       "  var inline_js = [\n",
       "    function(Bokeh) {\n",
       "      Bokeh.set_log_level(\"info\");\n",
       "    },\n",
       "    \n",
       "    function(Bokeh) {\n",
       "      \n",
       "      document.getElementById(\"455e5282-8174-44a1-9ea6-d4890a27e585\").textContent = \"BokehJS is loading...\";\n",
       "    },\n",
       "    function(Bokeh) {\n",
       "      console.log(\"Bokeh: injecting CSS: https://cdn.pydata.org/bokeh/release/bokeh-0.12.4.min.css\");\n",
       "      Bokeh.embed.inject_css(\"https://cdn.pydata.org/bokeh/release/bokeh-0.12.4.min.css\");\n",
       "      console.log(\"Bokeh: injecting CSS: https://cdn.pydata.org/bokeh/release/bokeh-widgets-0.12.4.min.css\");\n",
       "      Bokeh.embed.inject_css(\"https://cdn.pydata.org/bokeh/release/bokeh-widgets-0.12.4.min.css\");\n",
       "    }\n",
       "  ];\n",
       "\n",
       "  function run_inline_js() {\n",
       "    \n",
       "    if ((window.Bokeh !== undefined) || (force === true)) {\n",
       "      for (var i = 0; i < inline_js.length; i++) {\n",
       "        inline_js[i](window.Bokeh);\n",
       "      }if (force === true) {\n",
       "        display_loaded();\n",
       "      }} else if (Date.now() < window._bokeh_timeout) {\n",
       "      setTimeout(run_inline_js, 100);\n",
       "    } else if (!window._bokeh_failed_load) {\n",
       "      console.log(\"Bokeh: BokehJS failed to load within specified timeout.\");\n",
       "      window._bokeh_failed_load = true;\n",
       "    } else if (force !== true) {\n",
       "      var cell = $(document.getElementById(\"455e5282-8174-44a1-9ea6-d4890a27e585\")).parents('.cell').data().cell;\n",
       "      cell.output_area.append_execute_result(NB_LOAD_WARNING)\n",
       "    }\n",
       "\n",
       "  }\n",
       "\n",
       "  if (window._bokeh_is_loading === 0) {\n",
       "    console.log(\"Bokeh: BokehJS loaded, going straight to plotting\");\n",
       "    run_inline_js();\n",
       "  } else {\n",
       "    load_libs(js_urls, function() {\n",
       "      console.log(\"Bokeh: BokehJS plotting callback run at\", now());\n",
       "      run_inline_js();\n",
       "    });\n",
       "  }\n",
       "}(this));"
      ]
     },
     "metadata": {},
     "output_type": "display_data"
    }
   ],
   "source": [
    "from bokeh.layouts import row, gridplot\n",
    "from bokeh.plotting import figure, output_notebook, show\n",
    "from bokeh.models import Legend\n",
    "TOOLS = 'box_zoom,box_select,crosshair,resize,reset,lasso_select,pan,save,poly_select,tap,wheel_zoom,undo'\n",
    "output_notebook()"
   ]
  },
  {
   "cell_type": "markdown",
   "metadata": {},
   "source": [
    "# Load the data"
   ]
  },
  {
   "cell_type": "code",
   "execution_count": 14,
   "metadata": {
    "collapsed": false
   },
   "outputs": [
    {
     "name": "stdout",
     "output_type": "stream",
     "text": [
      "Number of training examples 364\n",
      "Number of validation examples 91\n",
      "Number of testing examples 114\n"
     ]
    }
   ],
   "source": [
    "X_train = np.load('./cancer/X_train.npy')\n",
    "y_train = np.load('./cancer/y_train.npy')\n",
    "X_test = np.load('./cancer/X_test.npy')\n",
    "y_test = np.load('./cancer/y_test.npy')\n",
    "X_deploy = np.load('./cancer/X_deploy.npy')\n",
    "y_deploy = np.load('./cancer/y_deploy.npy')\n",
    "print('Number of training examples',len(X_train))\n",
    "print('Number of validation examples',len(X_test))\n",
    "print('Number of testing examples',len(X_deploy))"
   ]
  },
  {
   "cell_type": "code",
   "execution_count": 15,
   "metadata": {
    "collapsed": false
   },
   "outputs": [],
   "source": [
    "exec(open(\"core.py\").read())  # pyhton 3x"
   ]
  },
  {
   "cell_type": "markdown",
   "metadata": {},
   "source": [
    "## Run Thompson Sampling pruning Algorithm"
   ]
  },
  {
   "cell_type": "code",
   "execution_count": 16,
   "metadata": {
    "collapsed": false
   },
   "outputs": [
    {
     "name": "stdout",
     "output_type": "stream",
     "text": [
      "Test fraction correct (NN-Score) = 0.13\n",
      "Test fraction correct (NN-Accuracy) = 0.96\n",
      "The time for running this method is 4.9852728843688965 seconds \n",
      "Finsh playing start pruining:\n",
      "Test after pruning= 0.96\n",
      "Test after pruning= 0.96\n",
      "Test after pruning= 0.96\n",
      "Test after pruning= 0.96\n",
      "Test after pruning= 0.96\n",
      "Test after pruning= 0.96\n",
      "Test after pruning= 0.96\n",
      "Test after pruning= 0.96\n",
      "Test after pruning= 0.96\n",
      "Test after pruning= 0.96\n",
      "Test after pruning= 0.97\n",
      "Test after pruning= 0.97\n",
      "Test after pruning= 0.97\n",
      "Test after pruning= 0.96\n",
      "Test after pruning= 0.96\n",
      "Test after pruning= 0.96\n",
      "Test after pruning= 0.96\n",
      "Test after pruning= 0.94\n",
      "Test after pruning= 0.89\n",
      "Test after pruning= 0.67\n",
      "Test after pruning= 0.67\n",
      "Test after pruning= 0.67\n",
      "Test after pruning= 0.67\n",
      "Test after pruning= 0.67\n",
      "Test after pruning= 0.67\n",
      "Test after pruning= 0.67\n",
      "Test after pruning= 0.67\n",
      "Test after pruning= 0.67\n",
      "Test after pruning= 0.67\n",
      "Test after pruning= 0.67\n"
     ]
    },
    {
     "data": {
      "image/png": "[encoded data removed]",
      "text/plain": [
       "<matplotlib.figure.Figure at 0x10e028400>"
      ]
     },
     "metadata": {},
     "output_type": "display_data"
    }
   ],
   "source": [
    "algo = Thompson_Sampling([], [])\n",
    "Alg_name = 'Thompson_Sampling Algorithm'\n",
    "path = './Thompson_Sampling/'\n",
    "sys.path.append(\"./Thompson_Sampling\")\n",
    "exec(open(\"mnist_cnnFORTESTING.py\").read())"
   ]
  },
  {
   "cell_type": "markdown",
   "metadata": {},
   "source": [
    "## Run UCB1 pruning Algorithm"
   ]
  },
  {
   "cell_type": "code",
   "execution_count": 17,
   "metadata": {
    "collapsed": false
   },
   "outputs": [
    {
     "name": "stdout",
     "output_type": "stream",
     "text": [
      "Test fraction correct (NN-Score) = 0.13\n",
      "Test fraction correct (NN-Accuracy) = 0.96\n",
      "The time for running this method is 4.986270427703857 seconds \n",
      "Finsh playing start pruining:\n",
      "Test after pruning= 0.96\n",
      "Test after pruning= 0.96\n",
      "Test after pruning= 0.96\n",
      "Test after pruning= 0.96\n",
      "Test after pruning= 0.96\n",
      "Test after pruning= 0.96\n",
      "Test after pruning= 0.96\n",
      "Test after pruning= 0.97\n",
      "Test after pruning= 0.97\n",
      "Test after pruning= 0.96\n",
      "Test after pruning= 0.96\n",
      "Test after pruning= 0.97\n",
      "Test after pruning= 0.97\n",
      "Test after pruning= 0.96\n",
      "Test after pruning= 0.96\n",
      "Test after pruning= 0.96\n",
      "Test after pruning= 0.96\n",
      "Test after pruning= 0.95\n",
      "Test after pruning= 0.91\n",
      "Test after pruning= 0.90\n",
      "Test after pruning= 0.89\n",
      "Test after pruning= 0.77\n",
      "Test after pruning= 0.67\n",
      "Test after pruning= 0.67\n",
      "Test after pruning= 0.67\n",
      "Test after pruning= 0.67\n",
      "Test after pruning= 0.67\n",
      "Test after pruning= 0.67\n",
      "Test after pruning= 0.67\n",
      "Test after pruning= 0.67\n"
     ]
    },
    {
     "data": {
      "image/png": "[encoded data removed]",
      "text/plain": [
       "<matplotlib.figure.Figure at 0x10e6f2198>"
      ]
     },
     "metadata": {},
     "output_type": "display_data"
    }
   ],
   "source": [
    "algo = UCB1([], [])\n",
    "Alg_name = 'UCB1 Algorithm'\n",
    "path = './UCB1/'\n",
    "sys.path.append(\"./UCB1\")\n",
    "exec(open(\"mnist_cnnFORTESTING.py\").read())"
   ]
  },
  {
   "cell_type": "markdown",
   "metadata": {
    "collapsed": true
   },
   "source": [
    "# Compare the accuracy"
   ]
  },
  {
   "cell_type": "code",
   "execution_count": 18,
   "metadata": {
    "collapsed": true
   },
   "outputs": [],
   "source": [
    "ucb1 = np.load('./UCB1/AccuracyAftrerPrune.npy')\n",
    "ThompsonSampling = np.load('./Thompson_Sampling/AccuracyAftrerPrune.npy')\n",
    "Accuracy = np.load('AccuracyBeforePruning.npy')"
   ]
  },
  {
   "cell_type": "code",
   "execution_count": 19,
   "metadata": {
    "collapsed": false
   },
   "outputs": [
    {
     "data": {
      "image/png": "[encoded data removed]",
      "text/plain": [
       "<matplotlib.figure.Figure at 0x10ded6630>"
      ]
     },
     "metadata": {},
     "output_type": "display_data"
    }
   ],
   "source": [
    "fig = plt.figure(figsize=(10, 6), dpi=80)\n",
    "ax = fig.add_subplot(111)\n",
    "N = len(ucb1)\n",
    "ind = np.arange(N)                # the x locations for the groups\n",
    "plt.plot(ind , ucb1 , color=\"blue\", linewidth=2.5, linestyle=\"-\", label=\"UCB1\")\n",
    "plt.plot(ind , ThompsonSampling, color=\"orange\", linewidth=2.5, linestyle=\"-\", label=\"Thompson Sampling\")\n",
    "plt.legend(loc = 3)\n",
    "plt.axis([0, 25, 0, 1])\n",
    "plt.xlabel('Number of pruned Neurons')\n",
    "plt.ylabel('The Accuracy')\n",
    "plt.grid(True)\n",
    "plt.show()"
   ]
  },
  {
   "cell_type": "code",
   "execution_count": 20,
   "metadata": {
    "collapsed": false
   },
   "outputs": [
    {
     "data": {
      "text/html": [
       "\n",
       "\n",
       "    <div class=\"bk-root\">\n",
       "        <div class=\"bk-plotdiv\" id=\"9d3add83-500d-409c-844d-ce8350554791\"></div>\n",
       "    </div>\n",
       "<script type=\"text/javascript\">\n",
       "  \n",
       "  (function(global) {\n",
       "    function now() {\n",
       "      return new Date();\n",
       "    }\n",
       "  \n",
       "    var force = false;\n",
       "  \n",
       "    if (typeof (window._bokeh_onload_callbacks) === \"undefined\" || force === true) {\n",
       "      window._bokeh_onload_callbacks = [];\n",
       "      window._bokeh_is_loading = undefined;\n",
       "    }\n",
       "  \n",
       "  \n",
       "    \n",
       "    if (typeof (window._bokeh_timeout) === \"undefined\" || force === true) {\n",
       "      window._bokeh_timeout = Date.now() + 0;\n",
       "      window._bokeh_failed_load = false;\n",
       "    }\n",
       "  \n",
       "    var NB_LOAD_WARNING = {'data': {'text/html':\n",
       "       \"<div style='background-color: #fdd'>\\n\"+\n",
       "       \"<p>\\n\"+\n",
       "       \"BokehJS does not appear to have successfully loaded. If loading BokehJS from CDN, this \\n\"+\n",
       "       \"may be due to a slow or bad network connection. Possible fixes:\\n\"+\n",
       "       \"</p>\\n\"+\n",
       "       \"<ul>\\n\"+\n",
       "       \"<li>re-rerun `output_notebook()` to attempt to load from CDN again, or</li>\\n\"+\n",
       "       \"<li>use INLINE resources instead, as so:</li>\\n\"+\n",
       "       \"</ul>\\n\"+\n",
       "       \"<code>\\n\"+\n",
       "       \"from bokeh.resources import INLINE\\n\"+\n",
       "       \"output_notebook(resources=INLINE)\\n\"+\n",
       "       \"</code>\\n\"+\n",
       "       \"</div>\"}};\n",
       "  \n",
       "    function display_loaded() {\n",
       "      if (window.Bokeh !== undefined) {\n",
       "        document.getElementById(\"9d3add83-500d-409c-844d-ce8350554791\").textContent = \"BokehJS successfully loaded.\";\n",
       "      } else if (Date.now() < window._bokeh_timeout) {\n",
       "        setTimeout(display_loaded, 100)\n",
       "      }\n",
       "    }\n",
       "  \n",
       "    function run_callbacks() {\n",
       "      window._bokeh_onload_callbacks.forEach(function(callback) { callback() });\n",
       "      delete window._bokeh_onload_callbacks\n",
       "      console.info(\"Bokeh: all callbacks have finished\");\n",
       "    }\n",
       "  \n",
       "    function load_libs(js_urls, callback) {\n",
       "      window._bokeh_onload_callbacks.push(callback);\n",
       "      if (window._bokeh_is_loading > 0) {\n",
       "        console.log(\"Bokeh: BokehJS is being loaded, scheduling callback at\", now());\n",
       "        return null;\n",
       "      }\n",
       "      if (js_urls == null || js_urls.length === 0) {\n",
       "        run_callbacks();\n",
       "        return null;\n",
       "      }\n",
       "      console.log(\"Bokeh: BokehJS not loaded, scheduling load and callback at\", now());\n",
       "      window._bokeh_is_loading = js_urls.length;\n",
       "      for (var i = 0; i < js_urls.length; i++) {\n",
       "        var url = js_urls[i];\n",
       "        var s = document.createElement('script');\n",
       "        s.src = url;\n",
       "        s.async = false;\n",
       "        s.onreadystatechange = s.onload = function() {\n",
       "          window._bokeh_is_loading--;\n",
       "          if (window._bokeh_is_loading === 0) {\n",
       "            console.log(\"Bokeh: all BokehJS libraries loaded\");\n",
       "            run_callbacks()\n",
       "          }\n",
       "        };\n",
       "        s.onerror = function() {\n",
       "          console.warn(\"failed to load library \" + url);\n",
       "        };\n",
       "        console.log(\"Bokeh: injecting script tag for BokehJS library: \", url);\n",
       "        document.getElementsByTagName(\"head\")[0].appendChild(s);\n",
       "      }\n",
       "    };var element = document.getElementById(\"9d3add83-500d-409c-844d-ce8350554791\");\n",
       "    if (element == null) {\n",
       "      console.log(\"Bokeh: ERROR: autoload.js configured with elementid '9d3add83-500d-409c-844d-ce8350554791' but no matching script tag was found. \")\n",
       "      return false;\n",
       "    }\n",
       "  \n",
       "    var js_urls = [];\n",
       "  \n",
       "    var inline_js = [\n",
       "      function(Bokeh) {\n",
       "        (function() {\n",
       "          var fn = function() {\n",
       "            var docs_json = {\"55678506-5910-4b98-b5ed-fefa9285f9b1\":{\"roots\":{\"references\":[{\"attributes\":{\"plot\":{\"id\":\"bbfd7048-f181-45a2-a7c7-97930e4f53a2\",\"subtype\":\"Figure\",\"type\":\"Plot\"}},\"id\":\"f99bb4f8-f507-4744-a578-20012919b094\",\"type\":\"ResizeTool\"},{\"attributes\":{\"plot\":{\"id\":\"bbfd7048-f181-45a2-a7c7-97930e4f53a2\",\"subtype\":\"Figure\",\"type\":\"Plot\"}},\"id\":\"183e0f12-3d40-49c0-b5d8-4f9a02a29ce0\",\"type\":\"SaveTool\"},{\"attributes\":{\"align\":\"center\",\"plot\":null,\"text\":\"The Performance over the number of neurons' pruned\"},\"id\":\"305fea0a-b6f1-4833-b414-160d24202d2c\",\"type\":\"Title\"},{\"attributes\":{\"formatter\":{\"id\":\"cbe36847-0ca7-420e-9a85-39ccc13c9992\",\"type\":\"BasicTickFormatter\"},\"plot\":{\"id\":\"bbfd7048-f181-45a2-a7c7-97930e4f53a2\",\"subtype\":\"Figure\",\"type\":\"Plot\"},\"ticker\":{\"id\":\"8bbdf3b2-bebb-4947-b398-5a38515f84ff\",\"type\":\"BasicTicker\"}},\"id\":\"c1adef78-d6d1-463c-ac06-4b7b735d720e\",\"type\":\"LinearAxis\"},{\"attributes\":{\"line_alpha\":{\"value\":0.1},\"line_color\":{\"value\":\"#1f77b4\"},\"line_width\":{\"value\":2},\"x\":{\"field\":\"x\"},\"y\":{\"field\":\"y\"}},\"id\":\"78f2e5b1-44a6-433f-8769-adf35d80798d\",\"type\":\"Line\"},{\"attributes\":{\"plot\":{\"id\":\"bbfd7048-f181-45a2-a7c7-97930e4f53a2\",\"subtype\":\"Figure\",\"type\":\"Plot\"}},\"id\":\"95bab9e0-7a7f-4807-abf4-f6898ce48dbd\",\"type\":\"ResetTool\"},{\"attributes\":{\"callback\":null,\"overlay\":{\"id\":\"8976678d-6424-4554-8a12-aeab9075ab08\",\"type\":\"BoxAnnotation\"},\"plot\":{\"id\":\"bbfd7048-f181-45a2-a7c7-97930e4f53a2\",\"subtype\":\"Figure\",\"type\":\"Plot\"},\"renderers\":[{\"id\":\"6df189da-6c1e-44e1-b3e7-16ea06b6f8da\",\"type\":\"GlyphRenderer\"},{\"id\":\"343e73a8-775c-495a-9886-b66ad59d1ce5\",\"type\":\"GlyphRenderer\"}]},\"id\":\"fba74fcc-033f-4fd7-b49f-0856a2a70678\",\"type\":\"BoxSelectTool\"},{\"attributes\":{\"active_drag\":\"auto\",\"active_scroll\":\"auto\",\"active_tap\":\"auto\",\"tools\":[{\"id\":\"6a773fb0-15f0-4640-ba21-d5c795d8f165\",\"type\":\"BoxZoomTool\"},{\"id\":\"fba74fcc-033f-4fd7-b49f-0856a2a70678\",\"type\":\"BoxSelectTool\"},{\"id\":\"94a80d65-e448-440a-91e3-5cdf10ed7a12\",\"type\":\"CrosshairTool\"},{\"id\":\"f99bb4f8-f507-4744-a578-20012919b094\",\"type\":\"ResizeTool\"},{\"id\":\"95bab9e0-7a7f-4807-abf4-f6898ce48dbd\",\"type\":\"ResetTool\"},{\"id\":\"fcb34a95-6662-43e8-b1bb-00ede4cb5ce4\",\"type\":\"LassoSelectTool\"},{\"id\":\"c2d7f13d-be45-4f52-8cad-a3034d67a4c9\",\"type\":\"PanTool\"},{\"id\":\"183e0f12-3d40-49c0-b5d8-4f9a02a29ce0\",\"type\":\"SaveTool\"},{\"id\":\"2aa57fe2-34b3-42b1-92fb-f49f3d5c2031\",\"type\":\"PolySelectTool\"},{\"id\":\"45032fe9-8545-4cdb-99da-8c2c951aab1a\",\"type\":\"TapTool\"},{\"id\":\"48188c3c-43ca-424c-bd91-bca9200d8f47\",\"type\":\"WheelZoomTool\"},{\"id\":\"7eaaa6e0-5fed-4fa2-86bb-6364a4758459\",\"type\":\"UndoTool\"}]},\"id\":\"41db5b22-9597-44d9-8c43-33d8d6e6fb52\",\"type\":\"Toolbar\"},{\"attributes\":{\"plot\":{\"id\":\"bbfd7048-f181-45a2-a7c7-97930e4f53a2\",\"subtype\":\"Figure\",\"type\":\"Plot\"}},\"id\":\"94a80d65-e448-440a-91e3-5cdf10ed7a12\",\"type\":\"CrosshairTool\"},{\"attributes\":{\"overlay\":{\"id\":\"7fd2b43e-013c-47c9-810f-715360493848\",\"type\":\"BoxAnnotation\"},\"plot\":{\"id\":\"bbfd7048-f181-45a2-a7c7-97930e4f53a2\",\"subtype\":\"Figure\",\"type\":\"Plot\"}},\"id\":\"6a773fb0-15f0-4640-ba21-d5c795d8f165\",\"type\":\"BoxZoomTool\"},{\"attributes\":{},\"id\":\"cbe36847-0ca7-420e-9a85-39ccc13c9992\",\"type\":\"BasicTickFormatter\"},{\"attributes\":{\"callback\":null,\"plot\":{\"id\":\"bbfd7048-f181-45a2-a7c7-97930e4f53a2\",\"subtype\":\"Figure\",\"type\":\"Plot\"}},\"id\":\"45032fe9-8545-4cdb-99da-8c2c951aab1a\",\"type\":\"TapTool\"},{\"attributes\":{\"callback\":null,\"overlay\":{\"id\":\"4e9b75ab-affd-4c48-92ab-3042edfa7764\",\"type\":\"PolyAnnotation\"},\"plot\":{\"id\":\"bbfd7048-f181-45a2-a7c7-97930e4f53a2\",\"subtype\":\"Figure\",\"type\":\"Plot\"}},\"id\":\"fcb34a95-6662-43e8-b1bb-00ede4cb5ce4\",\"type\":\"LassoSelectTool\"},{\"attributes\":{},\"id\":\"75a967fa-c844-466a-b9fc-a40c0d0dc094\",\"type\":\"ToolEvents\"},{\"attributes\":{},\"id\":\"aa75e64e-9bb5-412f-965f-4719554bc4a7\",\"type\":\"BasicTickFormatter\"},{\"attributes\":{\"plot\":{\"id\":\"bbfd7048-f181-45a2-a7c7-97930e4f53a2\",\"subtype\":\"Figure\",\"type\":\"Plot\"}},\"id\":\"7eaaa6e0-5fed-4fa2-86bb-6364a4758459\",\"type\":\"UndoTool\"},{\"attributes\":{\"items\":[{\"id\":\"60ac4677-c84f-4e73-859d-5fa6e10ae006\",\"type\":\"LegendItem\"},{\"id\":\"1740a672-2bb3-4dc9-85c0-ac64cdb65d1a\",\"type\":\"LegendItem\"}],\"plot\":{\"id\":\"bbfd7048-f181-45a2-a7c7-97930e4f53a2\",\"subtype\":\"Figure\",\"type\":\"Plot\"}},\"id\":\"57f05ec7-1c87-4ee9-bc7b-9b4d915b11a5\",\"type\":\"Legend\"},{\"attributes\":{\"plot\":{\"id\":\"bbfd7048-f181-45a2-a7c7-97930e4f53a2\",\"subtype\":\"Figure\",\"type\":\"Plot\"}},\"id\":\"48188c3c-43ca-424c-bd91-bca9200d8f47\",\"type\":\"WheelZoomTool\"},{\"attributes\":{\"label\":{\"value\":\"ucb1\"},\"renderers\":[{\"id\":\"6df189da-6c1e-44e1-b3e7-16ea06b6f8da\",\"type\":\"GlyphRenderer\"}]},\"id\":\"60ac4677-c84f-4e73-859d-5fa6e10ae006\",\"type\":\"LegendItem\"},{\"attributes\":{},\"id\":\"8bbdf3b2-bebb-4947-b398-5a38515f84ff\",\"type\":\"BasicTicker\"},{\"attributes\":{\"callback\":null},\"id\":\"3d69d5d4-49ea-4c2e-be06-ebaad5e9c042\",\"type\":\"DataRange1d\"},{\"attributes\":{\"callback\":null,\"column_names\":[\"x\",\"y\"],\"data\":{\"x\":[0,1,2,3,4,5,6,7,8,9,10,11,12,13,14,15,16,17,18,19,20,21,22,23,24,25,26,27,28,29],\"y\":{\"__ndarray__\":\"oryGso/g7j+ivIayj+DuP6K8hrKP4O4/oryGso/g7j+ivIayj+DuP6K8hrKP4O4/oryGso/g7j+ivIayj+DuP6K8hrKP4O4/oryGso/g7j8bymvIayjvPxvKa8hrKO8/G8pryGso7z+vobyms5juP6+hvKazmO4/r6G8prOY7j+vobyms5juP1FeQ3n7CO4/G8prKK+h7D+9hvJaVVXlP72G8lpVVeU/vYbyWlVV5T+9hvJaVVXlP72G8lpVVeU/vYbyWlVV5T+9hvJaVVXlP72G8lpVVeU/vYbyWlVV5T+9hvJaVVXlP72G8lpVVeU/\",\"dtype\":\"float64\",\"shape\":[30]}}},\"id\":\"05e283e1-2da4-4cd9-b709-05995ccab13c\",\"type\":\"ColumnDataSource\"},{\"attributes\":{\"dimension\":1,\"plot\":{\"id\":\"bbfd7048-f181-45a2-a7c7-97930e4f53a2\",\"subtype\":\"Figure\",\"type\":\"Plot\"},\"ticker\":{\"id\":\"5516f2cd-82c8-4826-9ef9-0b4fa8003b4b\",\"type\":\"BasicTicker\"}},\"id\":\"18b0a0dc-b5ff-47c8-9a04-454bd15f9f82\",\"type\":\"Grid\"},{\"attributes\":{\"line_color\":{\"value\":\"red\"},\"line_width\":{\"value\":2},\"x\":{\"field\":\"x\"},\"y\":{\"field\":\"y\"}},\"id\":\"b9d00844-5595-4d00-8ca5-18e749f4da4e\",\"type\":\"Line\"},{\"attributes\":{\"below\":[{\"id\":\"c1adef78-d6d1-463c-ac06-4b7b735d720e\",\"type\":\"LinearAxis\"}],\"left\":[{\"id\":\"ca54a9c2-7fac-4446-ba04-d2987eb4dbc6\",\"type\":\"LinearAxis\"}],\"renderers\":[{\"id\":\"c1adef78-d6d1-463c-ac06-4b7b735d720e\",\"type\":\"LinearAxis\"},{\"id\":\"c5a84837-0e15-4d08-afcd-ccb54ff189cf\",\"type\":\"Grid\"},{\"id\":\"ca54a9c2-7fac-4446-ba04-d2987eb4dbc6\",\"type\":\"LinearAxis\"},{\"id\":\"18b0a0dc-b5ff-47c8-9a04-454bd15f9f82\",\"type\":\"Grid\"},{\"id\":\"7fd2b43e-013c-47c9-810f-715360493848\",\"type\":\"BoxAnnotation\"},{\"id\":\"8976678d-6424-4554-8a12-aeab9075ab08\",\"type\":\"BoxAnnotation\"},{\"id\":\"4e9b75ab-affd-4c48-92ab-3042edfa7764\",\"type\":\"PolyAnnotation\"},{\"id\":\"bf45cc24-52bf-4462-8baf-f3157eb0da8c\",\"type\":\"PolyAnnotation\"},{\"id\":\"57f05ec7-1c87-4ee9-bc7b-9b4d915b11a5\",\"type\":\"Legend\"},{\"id\":\"6df189da-6c1e-44e1-b3e7-16ea06b6f8da\",\"type\":\"GlyphRenderer\"},{\"id\":\"343e73a8-775c-495a-9886-b66ad59d1ce5\",\"type\":\"GlyphRenderer\"}],\"title\":{\"id\":\"305fea0a-b6f1-4833-b414-160d24202d2c\",\"type\":\"Title\"},\"tool_events\":{\"id\":\"75a967fa-c844-466a-b9fc-a40c0d0dc094\",\"type\":\"ToolEvents\"},\"toolbar\":{\"id\":\"41db5b22-9597-44d9-8c43-33d8d6e6fb52\",\"type\":\"Toolbar\"},\"x_range\":{\"id\":\"cf48cd3b-7617-4652-aa70-6f28552a76bb\",\"type\":\"DataRange1d\"},\"y_range\":{\"id\":\"3d69d5d4-49ea-4c2e-be06-ebaad5e9c042\",\"type\":\"DataRange1d\"}},\"id\":\"bbfd7048-f181-45a2-a7c7-97930e4f53a2\",\"subtype\":\"Figure\",\"type\":\"Plot\"},{\"attributes\":{},\"id\":\"5516f2cd-82c8-4826-9ef9-0b4fa8003b4b\",\"type\":\"BasicTicker\"},{\"attributes\":{\"data_source\":{\"id\":\"05e283e1-2da4-4cd9-b709-05995ccab13c\",\"type\":\"ColumnDataSource\"},\"glyph\":{\"id\":\"b9d00844-5595-4d00-8ca5-18e749f4da4e\",\"type\":\"Line\"},\"hover_glyph\":null,\"nonselection_glyph\":{\"id\":\"0d827bbb-12e0-4b7e-bbc6-f8392d117627\",\"type\":\"Line\"},\"selection_glyph\":null},\"id\":\"343e73a8-775c-495a-9886-b66ad59d1ce5\",\"type\":\"GlyphRenderer\"},{\"attributes\":{\"bottom_units\":\"screen\",\"fill_alpha\":{\"value\":0.5},\"fill_color\":{\"value\":\"lightgrey\"},\"left_units\":\"screen\",\"level\":\"overlay\",\"line_alpha\":{\"value\":1.0},\"line_color\":{\"value\":\"black\"},\"line_dash\":[4,4],\"line_width\":{\"value\":2},\"plot\":null,\"render_mode\":\"css\",\"right_units\":\"screen\",\"top_units\":\"screen\"},\"id\":\"7fd2b43e-013c-47c9-810f-715360493848\",\"type\":\"BoxAnnotation\"},{\"attributes\":{\"bottom_units\":\"screen\",\"fill_alpha\":{\"value\":0.5},\"fill_color\":{\"value\":\"lightgrey\"},\"left_units\":\"screen\",\"level\":\"overlay\",\"line_alpha\":{\"value\":1.0},\"line_color\":{\"value\":\"black\"},\"line_dash\":[4,4],\"line_width\":{\"value\":2},\"plot\":null,\"render_mode\":\"css\",\"right_units\":\"screen\",\"top_units\":\"screen\"},\"id\":\"8976678d-6424-4554-8a12-aeab9075ab08\",\"type\":\"BoxAnnotation\"},{\"attributes\":{\"callback\":null,\"column_names\":[\"x\",\"y\"],\"data\":{\"x\":[0,1,2,3,4,5,6,7,8,9,10,11,12,13,14,15,16,17,18,19,20,21,22,23,24,25,26,27,28,29],\"y\":{\"__ndarray__\":\"oryGso/g7j+ivIayj+DuP6K8hrKP4O4/oryGso/g7j+ivIayj+DuP6K8hrKP4O4/oryGso/g7j8bymvIayjvPxvKa8hrKO8/vYbyuo/g7j+9hvK6j+DuPxvKa8hrKO8/G8pryGso7z+9hvK6j+DuP72G8rqP4O4/vYbyuo/g7j9DeQ2ls5juP8prKI/XUO4/NpTXUGcx7T+9hvI6i+nsPzaU1xDTWew/h/IaKqaz6D+9hvJaVVXlP72G8lpVVeU/vYbyWlVV5T+9hvJaVVXlP72G8lpVVeU/vYbyWlVV5T+9hvJaVVXlP72G8lpVVeU/\",\"dtype\":\"float64\",\"shape\":[30]}}},\"id\":\"5f0b087b-fec3-4853-beb5-7dfac6df18c7\",\"type\":\"ColumnDataSource\"},{\"attributes\":{\"line_alpha\":{\"value\":0.1},\"line_color\":{\"value\":\"#1f77b4\"},\"line_width\":{\"value\":2},\"x\":{\"field\":\"x\"},\"y\":{\"field\":\"y\"}},\"id\":\"0d827bbb-12e0-4b7e-bbc6-f8392d117627\",\"type\":\"Line\"},{\"attributes\":{\"overlay\":{\"id\":\"bf45cc24-52bf-4462-8baf-f3157eb0da8c\",\"type\":\"PolyAnnotation\"},\"plot\":{\"id\":\"bbfd7048-f181-45a2-a7c7-97930e4f53a2\",\"subtype\":\"Figure\",\"type\":\"Plot\"}},\"id\":\"2aa57fe2-34b3-42b1-92fb-f49f3d5c2031\",\"type\":\"PolySelectTool\"},{\"attributes\":{\"data_source\":{\"id\":\"5f0b087b-fec3-4853-beb5-7dfac6df18c7\",\"type\":\"ColumnDataSource\"},\"glyph\":{\"id\":\"cf25e883-5e90-4188-841d-be646f449880\",\"type\":\"Line\"},\"hover_glyph\":null,\"nonselection_glyph\":{\"id\":\"78f2e5b1-44a6-433f-8769-adf35d80798d\",\"type\":\"Line\"},\"selection_glyph\":null},\"id\":\"6df189da-6c1e-44e1-b3e7-16ea06b6f8da\",\"type\":\"GlyphRenderer\"},{\"attributes\":{\"plot\":{\"id\":\"bbfd7048-f181-45a2-a7c7-97930e4f53a2\",\"subtype\":\"Figure\",\"type\":\"Plot\"}},\"id\":\"c2d7f13d-be45-4f52-8cad-a3034d67a4c9\",\"type\":\"PanTool\"},{\"attributes\":{\"line_color\":{\"value\":\"blue\"},\"line_width\":{\"value\":2},\"x\":{\"field\":\"x\"},\"y\":{\"field\":\"y\"}},\"id\":\"cf25e883-5e90-4188-841d-be646f449880\",\"type\":\"Line\"},{\"attributes\":{\"fill_alpha\":{\"value\":0.5},\"fill_color\":{\"value\":\"lightgrey\"},\"level\":\"overlay\",\"line_alpha\":{\"value\":1.0},\"line_color\":{\"value\":\"black\"},\"line_dash\":[4,4],\"line_width\":{\"value\":2},\"plot\":null,\"xs_units\":\"screen\",\"ys_units\":\"screen\"},\"id\":\"bf45cc24-52bf-4462-8baf-f3157eb0da8c\",\"type\":\"PolyAnnotation\"},{\"attributes\":{\"formatter\":{\"id\":\"aa75e64e-9bb5-412f-965f-4719554bc4a7\",\"type\":\"BasicTickFormatter\"},\"plot\":{\"id\":\"bbfd7048-f181-45a2-a7c7-97930e4f53a2\",\"subtype\":\"Figure\",\"type\":\"Plot\"},\"ticker\":{\"id\":\"5516f2cd-82c8-4826-9ef9-0b4fa8003b4b\",\"type\":\"BasicTicker\"}},\"id\":\"ca54a9c2-7fac-4446-ba04-d2987eb4dbc6\",\"type\":\"LinearAxis\"},{\"attributes\":{\"plot\":{\"id\":\"bbfd7048-f181-45a2-a7c7-97930e4f53a2\",\"subtype\":\"Figure\",\"type\":\"Plot\"},\"ticker\":{\"id\":\"8bbdf3b2-bebb-4947-b398-5a38515f84ff\",\"type\":\"BasicTicker\"}},\"id\":\"c5a84837-0e15-4d08-afcd-ccb54ff189cf\",\"type\":\"Grid\"},{\"attributes\":{\"fill_alpha\":{\"value\":0.5},\"fill_color\":{\"value\":\"lightgrey\"},\"level\":\"overlay\",\"line_alpha\":{\"value\":1.0},\"line_color\":{\"value\":\"black\"},\"line_dash\":[4,4],\"line_width\":{\"value\":2},\"plot\":null,\"xs_units\":\"screen\",\"ys_units\":\"screen\"},\"id\":\"4e9b75ab-affd-4c48-92ab-3042edfa7764\",\"type\":\"PolyAnnotation\"},{\"attributes\":{\"label\":{\"value\":\"Thompson Sampling\"},\"renderers\":[{\"id\":\"343e73a8-775c-495a-9886-b66ad59d1ce5\",\"type\":\"GlyphRenderer\"}]},\"id\":\"1740a672-2bb3-4dc9-85c0-ac64cdb65d1a\",\"type\":\"LegendItem\"},{\"attributes\":{\"callback\":null},\"id\":\"cf48cd3b-7617-4652-aa70-6f28552a76bb\",\"type\":\"DataRange1d\"}],\"root_ids\":[\"bbfd7048-f181-45a2-a7c7-97930e4f53a2\"]},\"title\":\"Bokeh Application\",\"version\":\"0.12.4\"}};\n",
       "            var render_items = [{\"docid\":\"55678506-5910-4b98-b5ed-fefa9285f9b1\",\"elementid\":\"9d3add83-500d-409c-844d-ce8350554791\",\"modelid\":\"bbfd7048-f181-45a2-a7c7-97930e4f53a2\"}];\n",
       "            \n",
       "            Bokeh.embed.embed_items(docs_json, render_items);\n",
       "          };\n",
       "          if (document.readyState != \"loading\") fn();\n",
       "          else document.addEventListener(\"DOMContentLoaded\", fn);\n",
       "        })();\n",
       "      },\n",
       "      function(Bokeh) {\n",
       "      }\n",
       "    ];\n",
       "  \n",
       "    function run_inline_js() {\n",
       "      \n",
       "      if ((window.Bokeh !== undefined) || (force === true)) {\n",
       "        for (var i = 0; i < inline_js.length; i++) {\n",
       "          inline_js[i](window.Bokeh);\n",
       "        }if (force === true) {\n",
       "          display_loaded();\n",
       "        }} else if (Date.now() < window._bokeh_timeout) {\n",
       "        setTimeout(run_inline_js, 100);\n",
       "      } else if (!window._bokeh_failed_load) {\n",
       "        console.log(\"Bokeh: BokehJS failed to load within specified timeout.\");\n",
       "        window._bokeh_failed_load = true;\n",
       "      } else if (force !== true) {\n",
       "        var cell = $(document.getElementById(\"9d3add83-500d-409c-844d-ce8350554791\")).parents('.cell').data().cell;\n",
       "        cell.output_area.append_execute_result(NB_LOAD_WARNING)\n",
       "      }\n",
       "  \n",
       "    }\n",
       "  \n",
       "    if (window._bokeh_is_loading === 0) {\n",
       "      console.log(\"Bokeh: BokehJS loaded, going straight to plotting\");\n",
       "      run_inline_js();\n",
       "    } else {\n",
       "      load_libs(js_urls, function() {\n",
       "        console.log(\"Bokeh: BokehJS plotting callback run at\", now());\n",
       "        run_inline_js();\n",
       "      });\n",
       "    }\n",
       "  }(this));\n",
       "</script>"
      ]
     },
     "metadata": {},
     "output_type": "display_data"
    }
   ],
   "source": [
    "p1 = figure(title=\"The Performance over the number of neurons' pruned\", tools=TOOLS)\n",
    "p1.line(ind, ucb1, legend=\"ucb1\", line_color=\"blue\", line_width=2)\n",
    "p1.line(ind, ThompsonSampling, legend=\"Thompson Sampling\", line_color=\"red\", line_width=2)\n",
    "p1.title.align = \"center\"\n",
    "show(p1)"
   ]
  },
  {
   "cell_type": "markdown",
   "metadata": {},
   "source": [
    "# Comparing All algorithms with the model before pruning"
   ]
  },
  {
   "cell_type": "code",
   "execution_count": 21,
   "metadata": {
    "collapsed": false
   },
   "outputs": [
    {
     "data": {
      "image/png": "[encoded data removed]",
      "text/plain": [
       "<matplotlib.figure.Figure at 0x10e472f28>"
      ]
     },
     "metadata": {},
     "output_type": "display_data"
    }
   ],
   "source": [
    "fig = plt.figure(figsize=(10, 6), dpi=80)\n",
    "ax = fig.add_subplot(111)\n",
    "N = len(ucb1)\n",
    "Acc = [Accuracy for col in range(N)]\n",
    "ind = np.arange(N)                # the x locations for the groups\n",
    "plt.plot(ind , ucb1 , color=\"blue\", linewidth=2.5, linestyle=\"-\", label=\"UCB1\")\n",
    "plt.plot(ind , ThompsonSampling, color=\"orange\", linewidth=2.5, linestyle=\"-\", label=\"Thompson Sampling\")\n",
    "plt.plot(ind , Acc, color=\"pink\", linewidth=2.5, linestyle=\"-\", label=\"Accuracy before Pruning\")\n",
    "plt.legend(loc = 3)\n",
    "plt.axis([0, 25, 0, 1])\n",
    "plt.xlabel('Number of pruned Neurons')\n",
    "plt.ylabel('The Accuracy')\n",
    "plt.grid(True)\n",
    "plt.show()"
   ]
  },
  {
   "cell_type": "code",
   "execution_count": 22,
   "metadata": {
    "collapsed": false
   },
   "outputs": [
    {
     "data": {
      "text/html": [
       "\n",
       "\n",
       "    <div class=\"bk-root\">\n",
       "        <div class=\"bk-plotdiv\" id=\"2ca15ac1-516d-41e0-ab82-bfa18a2a4ae8\"></div>\n",
       "    </div>\n",
       "<script type=\"text/javascript\">\n",
       "  \n",
       "  (function(global) {\n",
       "    function now() {\n",
       "      return new Date();\n",
       "    }\n",
       "  \n",
       "    var force = false;\n",
       "  \n",
       "    if (typeof (window._bokeh_onload_callbacks) === \"undefined\" || force === true) {\n",
       "      window._bokeh_onload_callbacks = [];\n",
       "      window._bokeh_is_loading = undefined;\n",
       "    }\n",
       "  \n",
       "  \n",
       "    \n",
       "    if (typeof (window._bokeh_timeout) === \"undefined\" || force === true) {\n",
       "      window._bokeh_timeout = Date.now() + 0;\n",
       "      window._bokeh_failed_load = false;\n",
       "    }\n",
       "  \n",
       "    var NB_LOAD_WARNING = {'data': {'text/html':\n",
       "       \"<div style='background-color: #fdd'>\\n\"+\n",
       "       \"<p>\\n\"+\n",
       "       \"BokehJS does not appear to have successfully loaded. If loading BokehJS from CDN, this \\n\"+\n",
       "       \"may be due to a slow or bad network connection. Possible fixes:\\n\"+\n",
       "       \"</p>\\n\"+\n",
       "       \"<ul>\\n\"+\n",
       "       \"<li>re-rerun `output_notebook()` to attempt to load from CDN again, or</li>\\n\"+\n",
       "       \"<li>use INLINE resources instead, as so:</li>\\n\"+\n",
       "       \"</ul>\\n\"+\n",
       "       \"<code>\\n\"+\n",
       "       \"from bokeh.resources import INLINE\\n\"+\n",
       "       \"output_notebook(resources=INLINE)\\n\"+\n",
       "       \"</code>\\n\"+\n",
       "       \"</div>\"}};\n",
       "  \n",
       "    function display_loaded() {\n",
       "      if (window.Bokeh !== undefined) {\n",
       "        document.getElementById(\"2ca15ac1-516d-41e0-ab82-bfa18a2a4ae8\").textContent = \"BokehJS successfully loaded.\";\n",
       "      } else if (Date.now() < window._bokeh_timeout) {\n",
       "        setTimeout(display_loaded, 100)\n",
       "      }\n",
       "    }\n",
       "  \n",
       "    function run_callbacks() {\n",
       "      window._bokeh_onload_callbacks.forEach(function(callback) { callback() });\n",
       "      delete window._bokeh_onload_callbacks\n",
       "      console.info(\"Bokeh: all callbacks have finished\");\n",
       "    }\n",
       "  \n",
       "    function load_libs(js_urls, callback) {\n",
       "      window._bokeh_onload_callbacks.push(callback);\n",
       "      if (window._bokeh_is_loading > 0) {\n",
       "        console.log(\"Bokeh: BokehJS is being loaded, scheduling callback at\", now());\n",
       "        return null;\n",
       "      }\n",
       "      if (js_urls == null || js_urls.length === 0) {\n",
       "        run_callbacks();\n",
       "        return null;\n",
       "      }\n",
       "      console.log(\"Bokeh: BokehJS not loaded, scheduling load and callback at\", now());\n",
       "      window._bokeh_is_loading = js_urls.length;\n",
       "      for (var i = 0; i < js_urls.length; i++) {\n",
       "        var url = js_urls[i];\n",
       "        var s = document.createElement('script');\n",
       "        s.src = url;\n",
       "        s.async = false;\n",
       "        s.onreadystatechange = s.onload = function() {\n",
       "          window._bokeh_is_loading--;\n",
       "          if (window._bokeh_is_loading === 0) {\n",
       "            console.log(\"Bokeh: all BokehJS libraries loaded\");\n",
       "            run_callbacks()\n",
       "          }\n",
       "        };\n",
       "        s.onerror = function() {\n",
       "          console.warn(\"failed to load library \" + url);\n",
       "        };\n",
       "        console.log(\"Bokeh: injecting script tag for BokehJS library: \", url);\n",
       "        document.getElementsByTagName(\"head\")[0].appendChild(s);\n",
       "      }\n",
       "    };var element = document.getElementById(\"2ca15ac1-516d-41e0-ab82-bfa18a2a4ae8\");\n",
       "    if (element == null) {\n",
       "      console.log(\"Bokeh: ERROR: autoload.js configured with elementid '2ca15ac1-516d-41e0-ab82-bfa18a2a4ae8' but no matching script tag was found. \")\n",
       "      return false;\n",
       "    }\n",
       "  \n",
       "    var js_urls = [];\n",
       "  \n",
       "    var inline_js = [\n",
       "      function(Bokeh) {\n",
       "        (function() {\n",
       "          var fn = function() {\n",
       "            var docs_json = {\"152d0fc2-b047-4a40-93c4-897c857adef2\":{\"roots\":{\"references\":[{\"attributes\":{\"below\":[{\"id\":\"08c0bbd7-0fa0-4d04-a7da-cb04662639d8\",\"type\":\"LinearAxis\"}],\"left\":[{\"id\":\"3b913333-67ff-4d51-bbc9-dc2ed03abc5c\",\"type\":\"LinearAxis\"}],\"renderers\":[{\"id\":\"08c0bbd7-0fa0-4d04-a7da-cb04662639d8\",\"type\":\"LinearAxis\"},{\"id\":\"35173b0e-b3f4-4a1a-a091-ec32f8b0d3ff\",\"type\":\"Grid\"},{\"id\":\"3b913333-67ff-4d51-bbc9-dc2ed03abc5c\",\"type\":\"LinearAxis\"},{\"id\":\"e5c33ab3-33d0-4727-9530-f789b2bb8365\",\"type\":\"Grid\"},{\"id\":\"f515a950-eb72-4370-923a-9befac925873\",\"type\":\"BoxAnnotation\"},{\"id\":\"bc875da6-c23b-4ca0-8441-a49e4ad877c5\",\"type\":\"BoxAnnotation\"},{\"id\":\"e6b76155-8e79-42e5-bf9e-71e160e7e266\",\"type\":\"PolyAnnotation\"},{\"id\":\"c2b6b076-b701-4a39-b20f-b9159fab4516\",\"type\":\"PolyAnnotation\"},{\"id\":\"b22a45f6-ff26-4fe5-b279-eb90c29ae928\",\"type\":\"Legend\"},{\"id\":\"6830a20e-4502-4598-96dc-3c3c3cc82003\",\"type\":\"GlyphRenderer\"},{\"id\":\"6486fde9-0964-4f94-8a9a-d9f1ff646828\",\"type\":\"GlyphRenderer\"},{\"id\":\"48a397db-ef33-46bb-a608-5fdb4a8277c4\",\"type\":\"GlyphRenderer\"}],\"title\":{\"id\":\"ad05af8d-2448-4881-9a19-7128de9ab674\",\"type\":\"Title\"},\"tool_events\":{\"id\":\"8655ba9a-0052-4e55-929e-85b7351e5e17\",\"type\":\"ToolEvents\"},\"toolbar\":{\"id\":\"01e62f24-1cc0-4aa5-a70e-8e5f3a5532f8\",\"type\":\"Toolbar\"},\"x_range\":{\"id\":\"1b6f8fd6-a788-48b9-9950-d61db3daf287\",\"type\":\"DataRange1d\"},\"y_range\":{\"id\":\"a2394849-aca0-4dde-8797-b93d2b45b3a4\",\"type\":\"DataRange1d\"}},\"id\":\"f69f0c65-4515-422b-8f98-c262021ccb67\",\"subtype\":\"Figure\",\"type\":\"Plot\"},{\"attributes\":{\"line_alpha\":{\"value\":0.1},\"line_color\":{\"value\":\"#1f77b4\"},\"line_dash\":[4,4],\"line_width\":{\"value\":2},\"x\":{\"field\":\"x\"},\"y\":{\"field\":\"y\"}},\"id\":\"f19c743d-2199-4941-a4f5-bf5d372d7fbd\",\"type\":\"Line\"},{\"attributes\":{},\"id\":\"a7fb565b-9c60-4663-925b-be15778083bc\",\"type\":\"BasicTickFormatter\"},{\"attributes\":{\"formatter\":{\"id\":\"a7fb565b-9c60-4663-925b-be15778083bc\",\"type\":\"BasicTickFormatter\"},\"plot\":{\"id\":\"f69f0c65-4515-422b-8f98-c262021ccb67\",\"subtype\":\"Figure\",\"type\":\"Plot\"},\"ticker\":{\"id\":\"73af926b-f2ed-4a16-9965-e9498fdf3fa1\",\"type\":\"BasicTicker\"}},\"id\":\"3b913333-67ff-4d51-bbc9-dc2ed03abc5c\",\"type\":\"LinearAxis\"},{\"attributes\":{\"data_source\":{\"id\":\"5745e72d-0d8f-41d0-8f60-74c06cd67552\",\"type\":\"ColumnDataSource\"},\"glyph\":{\"id\":\"df0be68b-9f0a-4e3b-a1b5-63882174469c\",\"type\":\"Line\"},\"hover_glyph\":null,\"nonselection_glyph\":{\"id\":\"f19c743d-2199-4941-a4f5-bf5d372d7fbd\",\"type\":\"Line\"},\"selection_glyph\":null},\"id\":\"48a397db-ef33-46bb-a608-5fdb4a8277c4\",\"type\":\"GlyphRenderer\"},{\"attributes\":{\"line_alpha\":{\"value\":0.1},\"line_color\":{\"value\":\"#1f77b4\"},\"line_width\":{\"value\":2},\"x\":{\"field\":\"x\"},\"y\":{\"field\":\"y\"}},\"id\":\"bab4599f-e1c8-4b85-9c20-90aa5647257b\",\"type\":\"Line\"},{\"attributes\":{\"data_source\":{\"id\":\"11911743-ba55-4b06-9ba5-e9eedabe98e6\",\"type\":\"ColumnDataSource\"},\"glyph\":{\"id\":\"3bd4b8bc-d6a9-4f05-b033-bdd3295c2787\",\"type\":\"Line\"},\"hover_glyph\":null,\"nonselection_glyph\":{\"id\":\"0e5e7be3-c202-40aa-95ac-f690a171f819\",\"type\":\"Line\"},\"selection_glyph\":null},\"id\":\"6830a20e-4502-4598-96dc-3c3c3cc82003\",\"type\":\"GlyphRenderer\"},{\"attributes\":{},\"id\":\"566a67e9-e6f4-4812-98c9-8d552a06b87f\",\"type\":\"BasicTicker\"},{\"attributes\":{\"callback\":null,\"column_names\":[\"x\",\"y\"],\"data\":{\"x\":[0,1,2,3,4,5,6,7,8,9,10,11,12,13,14,15,16,17,18,19,20,21,22,23,24,25,26,27,28,29],\"y\":{\"__ndarray__\":\"oryGso/g7j+ivIayj+DuP6K8hrKP4O4/oryGso/g7j+ivIayj+DuP6K8hrKP4O4/oryGso/g7j8bymvIayjvPxvKa8hrKO8/vYbyuo/g7j+9hvK6j+DuPxvKa8hrKO8/G8pryGso7z+9hvK6j+DuP72G8rqP4O4/vYbyuo/g7j9DeQ2ls5juP8prKI/XUO4/NpTXUGcx7T+9hvI6i+nsPzaU1xDTWew/h/IaKqaz6D+9hvJaVVXlP72G8lpVVeU/vYbyWlVV5T+9hvJaVVXlP72G8lpVVeU/vYbyWlVV5T+9hvJaVVXlP72G8lpVVeU/\",\"dtype\":\"float64\",\"shape\":[30]}}},\"id\":\"11911743-ba55-4b06-9ba5-e9eedabe98e6\",\"type\":\"ColumnDataSource\"},{\"attributes\":{\"plot\":{\"id\":\"f69f0c65-4515-422b-8f98-c262021ccb67\",\"subtype\":\"Figure\",\"type\":\"Plot\"}},\"id\":\"10baf408-3347-464a-86c3-f328e5620fd1\",\"type\":\"WheelZoomTool\"},{\"attributes\":{\"bottom_units\":\"screen\",\"fill_alpha\":{\"value\":0.5},\"fill_color\":{\"value\":\"lightgrey\"},\"left_units\":\"screen\",\"level\":\"overlay\",\"line_alpha\":{\"value\":1.0},\"line_color\":{\"value\":\"black\"},\"line_dash\":[4,4],\"line_width\":{\"value\":2},\"plot\":null,\"render_mode\":\"css\",\"right_units\":\"screen\",\"top_units\":\"screen\"},\"id\":\"f515a950-eb72-4370-923a-9befac925873\",\"type\":\"BoxAnnotation\"},{\"attributes\":{\"callback\":null,\"column_names\":[\"x\",\"y\"],\"data\":{\"x\":[0,1,2,3,4,5,6,7,8,9,10,11,12,13,14,15,16,17,18,19,20,21,22,23,24,25,26,27,28,29],\"y\":[{\"__ndarray__\":\"455UMAn67j8=\",\"dtype\":\"float64\",\"shape\":[]},{\"__ndarray__\":\"455UMAn67j8=\",\"dtype\":\"float64\",\"shape\":[]},{\"__ndarray__\":\"455UMAn67j8=\",\"dtype\":\"float64\",\"shape\":[]},{\"__ndarray__\":\"455UMAn67j8=\",\"dtype\":\"float64\",\"shape\":[]},{\"__ndarray__\":\"455UMAn67j8=\",\"dtype\":\"float64\",\"shape\":[]},{\"__ndarray__\":\"455UMAn67j8=\",\"dtype\":\"float64\",\"shape\":[]},{\"__ndarray__\":\"455UMAn67j8=\",\"dtype\":\"float64\",\"shape\":[]},{\"__ndarray__\":\"455UMAn67j8=\",\"dtype\":\"float64\",\"shape\":[]},{\"__ndarray__\":\"455UMAn67j8=\",\"dtype\":\"float64\",\"shape\":[]},{\"__ndarray__\":\"455UMAn67j8=\",\"dtype\":\"float64\",\"shape\":[]},{\"__ndarray__\":\"455UMAn67j8=\",\"dtype\":\"float64\",\"shape\":[]},{\"__ndarray__\":\"455UMAn67j8=\",\"dtype\":\"float64\",\"shape\":[]},{\"__ndarray__\":\"455UMAn67j8=\",\"dtype\":\"float64\",\"shape\":[]},{\"__ndarray__\":\"455UMAn67j8=\",\"dtype\":\"float64\",\"shape\":[]},{\"__ndarray__\":\"455UMAn67j8=\",\"dtype\":\"float64\",\"shape\":[]},{\"__ndarray__\":\"455UMAn67j8=\",\"dtype\":\"float64\",\"shape\":[]},{\"__ndarray__\":\"455UMAn67j8=\",\"dtype\":\"float64\",\"shape\":[]},{\"__ndarray__\":\"455UMAn67j8=\",\"dtype\":\"float64\",\"shape\":[]},{\"__ndarray__\":\"455UMAn67j8=\",\"dtype\":\"float64\",\"shape\":[]},{\"__ndarray__\":\"455UMAn67j8=\",\"dtype\":\"float64\",\"shape\":[]},{\"__ndarray__\":\"455UMAn67j8=\",\"dtype\":\"float64\",\"shape\":[]},{\"__ndarray__\":\"455UMAn67j8=\",\"dtype\":\"float64\",\"shape\":[]},{\"__ndarray__\":\"455UMAn67j8=\",\"dtype\":\"float64\",\"shape\":[]},{\"__ndarray__\":\"455UMAn67j8=\",\"dtype\":\"float64\",\"shape\":[]},{\"__ndarray__\":\"455UMAn67j8=\",\"dtype\":\"float64\",\"shape\":[]},{\"__ndarray__\":\"455UMAn67j8=\",\"dtype\":\"float64\",\"shape\":[]},{\"__ndarray__\":\"455UMAn67j8=\",\"dtype\":\"float64\",\"shape\":[]},{\"__ndarray__\":\"455UMAn67j8=\",\"dtype\":\"float64\",\"shape\":[]},{\"__ndarray__\":\"455UMAn67j8=\",\"dtype\":\"float64\",\"shape\":[]},{\"__ndarray__\":\"455UMAn67j8=\",\"dtype\":\"float64\",\"shape\":[]}]}},\"id\":\"5745e72d-0d8f-41d0-8f60-74c06cd67552\",\"type\":\"ColumnDataSource\"},{\"attributes\":{\"align\":\"center\",\"plot\":null,\"text\":\"The Performance over the number of neurons' pruned\"},\"id\":\"ad05af8d-2448-4881-9a19-7128de9ab674\",\"type\":\"Title\"},{\"attributes\":{\"callback\":null,\"overlay\":{\"id\":\"bc875da6-c23b-4ca0-8441-a49e4ad877c5\",\"type\":\"BoxAnnotation\"},\"plot\":{\"id\":\"f69f0c65-4515-422b-8f98-c262021ccb67\",\"subtype\":\"Figure\",\"type\":\"Plot\"},\"renderers\":[{\"id\":\"6830a20e-4502-4598-96dc-3c3c3cc82003\",\"type\":\"GlyphRenderer\"},{\"id\":\"6486fde9-0964-4f94-8a9a-d9f1ff646828\",\"type\":\"GlyphRenderer\"},{\"id\":\"48a397db-ef33-46bb-a608-5fdb4a8277c4\",\"type\":\"GlyphRenderer\"}]},\"id\":\"24389f15-e7e6-486d-a90d-8b7409e9eee8\",\"type\":\"BoxSelectTool\"},{\"attributes\":{\"callback\":null},\"id\":\"a2394849-aca0-4dde-8797-b93d2b45b3a4\",\"type\":\"DataRange1d\"},{\"attributes\":{\"fill_alpha\":{\"value\":0.5},\"fill_color\":{\"value\":\"lightgrey\"},\"level\":\"overlay\",\"line_alpha\":{\"value\":1.0},\"line_color\":{\"value\":\"black\"},\"line_dash\":[4,4],\"line_width\":{\"value\":2},\"plot\":null,\"xs_units\":\"screen\",\"ys_units\":\"screen\"},\"id\":\"e6b76155-8e79-42e5-bf9e-71e160e7e266\",\"type\":\"PolyAnnotation\"},{\"attributes\":{},\"id\":\"73af926b-f2ed-4a16-9965-e9498fdf3fa1\",\"type\":\"BasicTicker\"},{\"attributes\":{\"plot\":{\"id\":\"f69f0c65-4515-422b-8f98-c262021ccb67\",\"subtype\":\"Figure\",\"type\":\"Plot\"}},\"id\":\"abcaf227-5ea8-457a-9d13-cba186a5c464\",\"type\":\"PanTool\"},{\"attributes\":{\"plot\":{\"id\":\"f69f0c65-4515-422b-8f98-c262021ccb67\",\"subtype\":\"Figure\",\"type\":\"Plot\"},\"ticker\":{\"id\":\"566a67e9-e6f4-4812-98c9-8d552a06b87f\",\"type\":\"BasicTicker\"}},\"id\":\"35173b0e-b3f4-4a1a-a091-ec32f8b0d3ff\",\"type\":\"Grid\"},{\"attributes\":{\"plot\":{\"id\":\"f69f0c65-4515-422b-8f98-c262021ccb67\",\"subtype\":\"Figure\",\"type\":\"Plot\"}},\"id\":\"9a25b0e9-9ecd-4f49-9886-b4c7c80b7945\",\"type\":\"ResizeTool\"},{\"attributes\":{\"formatter\":{\"id\":\"217cb43d-8409-4e9c-bd3c-79c3ebf1df59\",\"type\":\"BasicTickFormatter\"},\"plot\":{\"id\":\"f69f0c65-4515-422b-8f98-c262021ccb67\",\"subtype\":\"Figure\",\"type\":\"Plot\"},\"ticker\":{\"id\":\"566a67e9-e6f4-4812-98c9-8d552a06b87f\",\"type\":\"BasicTicker\"}},\"id\":\"08c0bbd7-0fa0-4d04-a7da-cb04662639d8\",\"type\":\"LinearAxis\"},{\"attributes\":{\"line_color\":{\"value\":\"red\"},\"line_width\":{\"value\":2},\"x\":{\"field\":\"x\"},\"y\":{\"field\":\"y\"}},\"id\":\"c92ba4a6-a03c-4199-9b29-f31a28d585ab\",\"type\":\"Line\"},{\"attributes\":{\"callback\":null,\"column_names\":[\"x\",\"y\"],\"data\":{\"x\":[0,1,2,3,4,5,6,7,8,9,10,11,12,13,14,15,16,17,18,19,20,21,22,23,24,25,26,27,28,29],\"y\":{\"__ndarray__\":\"oryGso/g7j+ivIayj+DuP6K8hrKP4O4/oryGso/g7j+ivIayj+DuP6K8hrKP4O4/oryGso/g7j+ivIayj+DuP6K8hrKP4O4/oryGso/g7j8bymvIayjvPxvKa8hrKO8/G8pryGso7z+vobyms5juP6+hvKazmO4/r6G8prOY7j+vobyms5juP1FeQ3n7CO4/G8prKK+h7D+9hvJaVVXlP72G8lpVVeU/vYbyWlVV5T+9hvJaVVXlP72G8lpVVeU/vYbyWlVV5T+9hvJaVVXlP72G8lpVVeU/vYbyWlVV5T+9hvJaVVXlP72G8lpVVeU/\",\"dtype\":\"float64\",\"shape\":[30]}}},\"id\":\"1c822f4c-c88e-4a83-a82a-4c63fa28d993\",\"type\":\"ColumnDataSource\"},{\"attributes\":{\"callback\":null,\"plot\":{\"id\":\"f69f0c65-4515-422b-8f98-c262021ccb67\",\"subtype\":\"Figure\",\"type\":\"Plot\"}},\"id\":\"17ebae0f-25b2-423c-b1ea-6f43764eb9dd\",\"type\":\"TapTool\"},{\"attributes\":{\"line_color\":{\"value\":\"blue\"},\"line_dash\":[4,4],\"line_width\":{\"value\":2},\"x\":{\"field\":\"x\"},\"y\":{\"field\":\"y\"}},\"id\":\"df0be68b-9f0a-4e3b-a1b5-63882174469c\",\"type\":\"Line\"},{\"attributes\":{\"bottom_units\":\"screen\",\"fill_alpha\":{\"value\":0.5},\"fill_color\":{\"value\":\"lightgrey\"},\"left_units\":\"screen\",\"level\":\"overlay\",\"line_alpha\":{\"value\":1.0},\"line_color\":{\"value\":\"black\"},\"line_dash\":[4,4],\"line_width\":{\"value\":2},\"plot\":null,\"render_mode\":\"css\",\"right_units\":\"screen\",\"top_units\":\"screen\"},\"id\":\"bc875da6-c23b-4ca0-8441-a49e4ad877c5\",\"type\":\"BoxAnnotation\"},{\"attributes\":{\"line_alpha\":{\"value\":0.1},\"line_color\":{\"value\":\"#1f77b4\"},\"line_width\":{\"value\":2},\"x\":{\"field\":\"x\"},\"y\":{\"field\":\"y\"}},\"id\":\"0e5e7be3-c202-40aa-95ac-f690a171f819\",\"type\":\"Line\"},{\"attributes\":{\"plot\":{\"id\":\"f69f0c65-4515-422b-8f98-c262021ccb67\",\"subtype\":\"Figure\",\"type\":\"Plot\"}},\"id\":\"37044ee5-a69b-493c-93be-776e8ab649e6\",\"type\":\"SaveTool\"},{\"attributes\":{\"items\":[{\"id\":\"c4ac39d3-4aab-41b4-9fd9-137c48bde201\",\"type\":\"LegendItem\"},{\"id\":\"a2da8ba6-e499-465f-aa99-da98ef9aa0c9\",\"type\":\"LegendItem\"},{\"id\":\"f9652943-9858-4215-8b14-a923c5c5cb96\",\"type\":\"LegendItem\"}],\"plot\":{\"id\":\"f69f0c65-4515-422b-8f98-c262021ccb67\",\"subtype\":\"Figure\",\"type\":\"Plot\"}},\"id\":\"b22a45f6-ff26-4fe5-b279-eb90c29ae928\",\"type\":\"Legend\"},{\"attributes\":{\"line_color\":{\"value\":\"green\"},\"line_width\":{\"value\":2},\"x\":{\"field\":\"x\"},\"y\":{\"field\":\"y\"}},\"id\":\"3bd4b8bc-d6a9-4f05-b033-bdd3295c2787\",\"type\":\"Line\"},{\"attributes\":{},\"id\":\"217cb43d-8409-4e9c-bd3c-79c3ebf1df59\",\"type\":\"BasicTickFormatter\"},{\"attributes\":{\"active_drag\":\"auto\",\"active_scroll\":\"auto\",\"active_tap\":\"auto\",\"tools\":[{\"id\":\"1e4f0b3b-6ee2-4243-a3b2-802dccd3b86a\",\"type\":\"BoxZoomTool\"},{\"id\":\"24389f15-e7e6-486d-a90d-8b7409e9eee8\",\"type\":\"BoxSelectTool\"},{\"id\":\"78e2b923-3dbb-4e1c-b27b-23f6ecba1627\",\"type\":\"CrosshairTool\"},{\"id\":\"9a25b0e9-9ecd-4f49-9886-b4c7c80b7945\",\"type\":\"ResizeTool\"},{\"id\":\"cea96f5d-b0e5-4818-b834-0b4fef0bf569\",\"type\":\"ResetTool\"},{\"id\":\"847eab8c-2f23-496f-87fd-b5863076bb16\",\"type\":\"LassoSelectTool\"},{\"id\":\"abcaf227-5ea8-457a-9d13-cba186a5c464\",\"type\":\"PanTool\"},{\"id\":\"37044ee5-a69b-493c-93be-776e8ab649e6\",\"type\":\"SaveTool\"},{\"id\":\"5be5762f-01f7-47db-87a2-8c5519f56bce\",\"type\":\"PolySelectTool\"},{\"id\":\"17ebae0f-25b2-423c-b1ea-6f43764eb9dd\",\"type\":\"TapTool\"},{\"id\":\"10baf408-3347-464a-86c3-f328e5620fd1\",\"type\":\"WheelZoomTool\"},{\"id\":\"11bfafc3-edd1-4242-8818-e36a8a40081c\",\"type\":\"UndoTool\"}]},\"id\":\"01e62f24-1cc0-4aa5-a70e-8e5f3a5532f8\",\"type\":\"Toolbar\"},{\"attributes\":{\"overlay\":{\"id\":\"c2b6b076-b701-4a39-b20f-b9159fab4516\",\"type\":\"PolyAnnotation\"},\"plot\":{\"id\":\"f69f0c65-4515-422b-8f98-c262021ccb67\",\"subtype\":\"Figure\",\"type\":\"Plot\"}},\"id\":\"5be5762f-01f7-47db-87a2-8c5519f56bce\",\"type\":\"PolySelectTool\"},{\"attributes\":{\"callback\":null},\"id\":\"1b6f8fd6-a788-48b9-9950-d61db3daf287\",\"type\":\"DataRange1d\"},{\"attributes\":{\"label\":{\"value\":\"ucb1\"},\"renderers\":[{\"id\":\"6830a20e-4502-4598-96dc-3c3c3cc82003\",\"type\":\"GlyphRenderer\"}]},\"id\":\"c4ac39d3-4aab-41b4-9fd9-137c48bde201\",\"type\":\"LegendItem\"},{\"attributes\":{\"data_source\":{\"id\":\"1c822f4c-c88e-4a83-a82a-4c63fa28d993\",\"type\":\"ColumnDataSource\"},\"glyph\":{\"id\":\"c92ba4a6-a03c-4199-9b29-f31a28d585ab\",\"type\":\"Line\"},\"hover_glyph\":null,\"nonselection_glyph\":{\"id\":\"bab4599f-e1c8-4b85-9c20-90aa5647257b\",\"type\":\"Line\"},\"selection_glyph\":null},\"id\":\"6486fde9-0964-4f94-8a9a-d9f1ff646828\",\"type\":\"GlyphRenderer\"},{\"attributes\":{\"dimension\":1,\"plot\":{\"id\":\"f69f0c65-4515-422b-8f98-c262021ccb67\",\"subtype\":\"Figure\",\"type\":\"Plot\"},\"ticker\":{\"id\":\"73af926b-f2ed-4a16-9965-e9498fdf3fa1\",\"type\":\"BasicTicker\"}},\"id\":\"e5c33ab3-33d0-4727-9530-f789b2bb8365\",\"type\":\"Grid\"},{\"attributes\":{\"overlay\":{\"id\":\"f515a950-eb72-4370-923a-9befac925873\",\"type\":\"BoxAnnotation\"},\"plot\":{\"id\":\"f69f0c65-4515-422b-8f98-c262021ccb67\",\"subtype\":\"Figure\",\"type\":\"Plot\"}},\"id\":\"1e4f0b3b-6ee2-4243-a3b2-802dccd3b86a\",\"type\":\"BoxZoomTool\"},{\"attributes\":{\"plot\":{\"id\":\"f69f0c65-4515-422b-8f98-c262021ccb67\",\"subtype\":\"Figure\",\"type\":\"Plot\"}},\"id\":\"11bfafc3-edd1-4242-8818-e36a8a40081c\",\"type\":\"UndoTool\"},{\"attributes\":{\"fill_alpha\":{\"value\":0.5},\"fill_color\":{\"value\":\"lightgrey\"},\"level\":\"overlay\",\"line_alpha\":{\"value\":1.0},\"line_color\":{\"value\":\"black\"},\"line_dash\":[4,4],\"line_width\":{\"value\":2},\"plot\":null,\"xs_units\":\"screen\",\"ys_units\":\"screen\"},\"id\":\"c2b6b076-b701-4a39-b20f-b9159fab4516\",\"type\":\"PolyAnnotation\"},{\"attributes\":{\"label\":{\"value\":\"Thompson Sampling\"},\"renderers\":[{\"id\":\"6486fde9-0964-4f94-8a9a-d9f1ff646828\",\"type\":\"GlyphRenderer\"}]},\"id\":\"a2da8ba6-e499-465f-aa99-da98ef9aa0c9\",\"type\":\"LegendItem\"},{\"attributes\":{\"label\":{\"value\":\"Accuracy\"},\"renderers\":[{\"id\":\"48a397db-ef33-46bb-a608-5fdb4a8277c4\",\"type\":\"GlyphRenderer\"}]},\"id\":\"f9652943-9858-4215-8b14-a923c5c5cb96\",\"type\":\"LegendItem\"},{\"attributes\":{},\"id\":\"8655ba9a-0052-4e55-929e-85b7351e5e17\",\"type\":\"ToolEvents\"},{\"attributes\":{\"plot\":{\"id\":\"f69f0c65-4515-422b-8f98-c262021ccb67\",\"subtype\":\"Figure\",\"type\":\"Plot\"}},\"id\":\"cea96f5d-b0e5-4818-b834-0b4fef0bf569\",\"type\":\"ResetTool\"},{\"attributes\":{\"callback\":null,\"overlay\":{\"id\":\"e6b76155-8e79-42e5-bf9e-71e160e7e266\",\"type\":\"PolyAnnotation\"},\"plot\":{\"id\":\"f69f0c65-4515-422b-8f98-c262021ccb67\",\"subtype\":\"Figure\",\"type\":\"Plot\"}},\"id\":\"847eab8c-2f23-496f-87fd-b5863076bb16\",\"type\":\"LassoSelectTool\"},{\"attributes\":{\"plot\":{\"id\":\"f69f0c65-4515-422b-8f98-c262021ccb67\",\"subtype\":\"Figure\",\"type\":\"Plot\"}},\"id\":\"78e2b923-3dbb-4e1c-b27b-23f6ecba1627\",\"type\":\"CrosshairTool\"}],\"root_ids\":[\"f69f0c65-4515-422b-8f98-c262021ccb67\"]},\"title\":\"Bokeh Application\",\"version\":\"0.12.4\"}};\n",
       "            var render_items = [{\"docid\":\"152d0fc2-b047-4a40-93c4-897c857adef2\",\"elementid\":\"2ca15ac1-516d-41e0-ab82-bfa18a2a4ae8\",\"modelid\":\"f69f0c65-4515-422b-8f98-c262021ccb67\"}];\n",
       "            \n",
       "            Bokeh.embed.embed_items(docs_json, render_items);\n",
       "          };\n",
       "          if (document.readyState != \"loading\") fn();\n",
       "          else document.addEventListener(\"DOMContentLoaded\", fn);\n",
       "        })();\n",
       "      },\n",
       "      function(Bokeh) {\n",
       "      }\n",
       "    ];\n",
       "  \n",
       "    function run_inline_js() {\n",
       "      \n",
       "      if ((window.Bokeh !== undefined) || (force === true)) {\n",
       "        for (var i = 0; i < inline_js.length; i++) {\n",
       "          inline_js[i](window.Bokeh);\n",
       "        }if (force === true) {\n",
       "          display_loaded();\n",
       "        }} else if (Date.now() < window._bokeh_timeout) {\n",
       "        setTimeout(run_inline_js, 100);\n",
       "      } else if (!window._bokeh_failed_load) {\n",
       "        console.log(\"Bokeh: BokehJS failed to load within specified timeout.\");\n",
       "        window._bokeh_failed_load = true;\n",
       "      } else if (force !== true) {\n",
       "        var cell = $(document.getElementById(\"2ca15ac1-516d-41e0-ab82-bfa18a2a4ae8\")).parents('.cell').data().cell;\n",
       "        cell.output_area.append_execute_result(NB_LOAD_WARNING)\n",
       "      }\n",
       "  \n",
       "    }\n",
       "  \n",
       "    if (window._bokeh_is_loading === 0) {\n",
       "      console.log(\"Bokeh: BokehJS loaded, going straight to plotting\");\n",
       "      run_inline_js();\n",
       "    } else {\n",
       "      load_libs(js_urls, function() {\n",
       "        console.log(\"Bokeh: BokehJS plotting callback run at\", now());\n",
       "        run_inline_js();\n",
       "      });\n",
       "    }\n",
       "  }(this));\n",
       "</script>"
      ]
     },
     "metadata": {},
     "output_type": "display_data"
    }
   ],
   "source": [
    "p1 = figure(title=\"The Performance over the number of neurons' pruned\", tools=TOOLS)\n",
    "p1.line(ind, ucb1, legend=\"ucb1\", line_color=\"green\", line_width=2)\n",
    "p1.line(ind, ThompsonSampling, legend=\"Thompson Sampling\", line_color=\"red\", line_width=2)\n",
    "p1.line(ind, Acc, legend=\"Accuracy\", line_dash=(4, 4), line_color=\"blue\", line_width=2)\n",
    "p1.title.align = \"center\"\n",
    "show(p1)"
   ]
  }
 ],
 "metadata": {
  "kernelspec": {
   "display_name": "Python 3",
   "language": "python",
   "name": "python3"
  },
  "language_info": {
   "codemirror_mode": {
    "name": "ipython",
    "version": 3
   },
   "file_extension": ".py",
   "mimetype": "text/x-python",
   "name": "python",
   "nbconvert_exporter": "python",
   "pygments_lexer": "ipython3",
   "version": "3.6.0"
  }
 },
 "nbformat": 4,
 "nbformat_minor": 0
}
